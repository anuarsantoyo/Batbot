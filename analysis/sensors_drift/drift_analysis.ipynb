{
 "cells": [
  {
   "cell_type": "code",
   "execution_count": null,
   "metadata": {
    "collapsed": true,
    "ExecuteTime": {
     "start_time": "2023-04-17T20:20:45.117144Z",
     "end_time": "2023-04-17T20:20:45.606469Z"
    }
   },
   "outputs": [],
   "source": [
    "import matplotlib.pyplot as plt\n",
    "from utils import *\n",
    "import plotly.express as px"
   ]
  },
  {
   "cell_type": "code",
   "execution_count": null,
   "outputs": [],
   "source": [
    "!python -m serial.tools.list_ports"
   ],
   "metadata": {
    "collapsed": false,
    "ExecuteTime": {
     "start_time": "2023-04-17T21:15:33.809269Z",
     "end_time": "2023-04-17T21:15:33.946171Z"
    }
   }
  },
  {
   "cell_type": "markdown",
   "source": [
    "# Drift and Hysteresis Analysis"
   ],
   "metadata": {
    "collapsed": false
   }
  },
  {
   "cell_type": "markdown",
   "source": [
    "## Measurements"
   ],
   "metadata": {
    "collapsed": false
   }
  },
  {
   "cell_type": "code",
   "execution_count": null,
   "outputs": [],
   "source": [
    "port = \"/dev/ttyUSB1\"\n",
    "df = read_measurements_df(port=port, duration=60*5, calibration=False)\n",
    "#for i in range(12*30):\n",
    "#    df = pd.concat([df, read_measurements_df(port=port, duration=5, calibration=False)], ignore_index=True)"
   ],
   "metadata": {
    "collapsed": false,
    "ExecuteTime": {
     "start_time": "2023-04-17T21:15:46.597248Z",
     "end_time": "2023-04-17T21:20:46.700181Z"
    }
   }
  },
  {
   "cell_type": "code",
   "execution_count": 25,
   "outputs": [],
   "source": [
    "df['timestamp'] = df['timestamp'] - df['timestamp'][0]\n",
    "df.to_csv(\"data/test_7.csv\", index=False)"
   ],
   "metadata": {
    "collapsed": false,
    "ExecuteTime": {
     "start_time": "2023-04-17T21:24:30.406417Z",
     "end_time": "2023-04-17T21:24:30.500268Z"
    }
   }
  },
  {
   "cell_type": "code",
   "execution_count": 26,
   "outputs": [],
   "source": [
    "df  = pd.read_csv(\"data/test_7.csv\")\n",
    "fig = px.line(df, x=df.timestamp, y=[f\"sensor_{i}\" for i in range(1,7)], title='Drift and hysteresis analysis (unmounted)')\n",
    "fig.write_html('data/test_7.html', auto_open=True)"
   ],
   "metadata": {
    "collapsed": false,
    "ExecuteTime": {
     "start_time": "2023-04-17T21:24:31.433543Z",
     "end_time": "2023-04-17T21:24:31.967048Z"
    }
   }
  },
  {
   "cell_type": "markdown",
   "source": [
    "## Analysis Test 5\n",
    "An approximately 6 min long experiment was made to obtain an initial feeling of the drift and hysteresis from the sensors. This is important to obtain the values of the sensor when the batbot is not mounted, as our goal should be to emulate this sensor values (or use them to calibrate to zero). The experiment (test_5.csv) consisted on manually (literally with the hand) applying force on the 6 axis direction. From the mounted Batbot perspective I will call this axis; front, left, back, right, and down. The forces were applied in this respective order. The forces were applied for approx. 5 seconds and then there were 55 seconds of waiting. This way we can analyse 2 things, is there a considerable drift? Meaning, is there a considerable change in the sensor value from the beginning of a waiting period to the end of it. And are there considerable hysteresis? Which can be calculated through the difference of the sensor value in waiting phase before and after the force application phase. **CAREFUL: The results of this analysis are preliminary, the experiment should be repeated using more realistic forces than my hand pushing and pulling the structure around. For example using real movements of the Batbot.**"
   ],
   "metadata": {
    "collapsed": false
   }
  },
  {
   "cell_type": "code",
   "execution_count": null,
   "outputs": [],
   "source": [
    "df  = pd.read_csv(\"data/test_5.csv\")"
   ],
   "metadata": {
    "collapsed": false,
    "ExecuteTime": {
     "start_time": "2023-04-17T21:07:51.097834Z",
     "end_time": "2023-04-17T21:07:51.146179Z"
    }
   }
  },
  {
   "cell_type": "markdown",
   "source": [
    "First the waiting intervals are manually determined using the pyplot graph as a reference"
   ],
   "metadata": {
    "collapsed": false
   }
  },
  {
   "cell_type": "code",
   "execution_count": null,
   "outputs": [],
   "source": [
    "intervals = {'initial': {'range':(0, 61.5)}, 'post_front': {'range':(70.95, 122.81)}, 'post_left': {'range':(131.53, 181.2)},\n",
    "             'post_back': {'range':(189.89, 242.21)}, 'post_right': {'range':(250.4, 302.25)}, 'post_up': {'range':(309.78, 362.69)},\n",
    "             'post_down': {'range':(369.79, 425.58)}}"
   ],
   "metadata": {
    "collapsed": false,
    "ExecuteTime": {
     "start_time": "2023-04-17T21:07:52.130493Z",
     "end_time": "2023-04-17T21:07:52.133549Z"
    }
   }
  },
  {
   "cell_type": "markdown",
   "source": [
    "### Drift"
   ],
   "metadata": {
    "collapsed": false
   }
  },
  {
   "cell_type": "code",
   "execution_count": null,
   "outputs": [],
   "source": [
    "interval_values = {}\n",
    "for interval in intervals:\n",
    "    intervals[interval]['values'] = df[(df['timestamp']>intervals[interval]['range'][0])&(df['timestamp']<intervals[interval]['range'][1])].reset_index(drop=True)\n",
    "    intervals[interval]['drift'] = intervals[interval]['values'].iloc[0] - intervals[interval]['values'].iloc[-1]\n",
    "    intervals[interval]['mean'] = intervals[interval]['values'].mean().drop('timestamp')\n",
    "    print(f\"Interval {interval} drift:\\n {intervals[interval]['drift'].drop('timestamp')}\\n\")"
   ],
   "metadata": {
    "collapsed": false,
    "ExecuteTime": {
     "start_time": "2023-04-17T21:07:53.413096Z",
     "end_time": "2023-04-17T21:07:53.483836Z"
    }
   }
  },
  {
   "cell_type": "markdown",
   "source": [
    "Conclusion: We can see that for a minute-long experiment (which is significantly longer than the 5-15 second experiments I plan to do) the drift is in the 10⁻³ range. Which means that the drift can be neglected."
   ],
   "metadata": {
    "collapsed": false
   }
  },
  {
   "cell_type": "markdown",
   "source": [
    "### Hysteresis"
   ],
   "metadata": {
    "collapsed": false
   }
  },
  {
   "cell_type": "code",
   "execution_count": null,
   "outputs": [],
   "source": [
    "df_sit =[]\n",
    "for interval in intervals:\n",
    "    df_sit.append(intervals[interval]['mean'])\n",
    "\n",
    "df_hist = pd.DataFrame(df_sit)"
   ],
   "metadata": {
    "collapsed": false,
    "ExecuteTime": {
     "start_time": "2023-04-17T21:07:55.344704Z",
     "end_time": "2023-04-17T21:07:55.349354Z"
    }
   }
  },
  {
   "cell_type": "markdown",
   "source": [
    "Considering that the range of the sensor goes from approx. (-4,4)"
   ],
   "metadata": {
    "collapsed": false
   }
  },
  {
   "cell_type": "code",
   "execution_count": null,
   "outputs": [],
   "source": [
    "fig, (ax1, ax2) = plt.subplots(1, 2, figsize=(20,7))\n",
    "df_hist.plot.box(ax=ax1)\n",
    "ax1.set_ylim((-4,4))\n",
    "\n",
    "df_hist.plot.box(ax=ax2)\n",
    "plt.show()"
   ],
   "metadata": {
    "collapsed": false,
    "ExecuteTime": {
     "start_time": "2023-04-17T21:07:56.952262Z",
     "end_time": "2023-04-17T21:07:57.166670Z"
    }
   }
  },
  {
   "cell_type": "code",
   "execution_count": null,
   "outputs": [],
   "source": [
    "ranges = (df.max(axis=0) - df.min(axis=0)).drop('timestamp')\n",
    "ranges"
   ],
   "metadata": {
    "collapsed": false,
    "ExecuteTime": {
     "start_time": "2023-04-17T21:07:58.659197Z",
     "end_time": "2023-04-17T21:07:58.668665Z"
    }
   }
  },
  {
   "cell_type": "code",
   "execution_count": null,
   "outputs": [],
   "source": [
    "neut_ranges  = df_hist.max(axis=0) - df_hist.min(axis=0)\n",
    "neut_ranges"
   ],
   "metadata": {
    "collapsed": false,
    "ExecuteTime": {
     "start_time": "2023-04-17T21:08:02.402963Z",
     "end_time": "2023-04-17T21:08:02.414513Z"
    }
   }
  },
  {
   "cell_type": "code",
   "execution_count": null,
   "outputs": [],
   "source": [
    "# Percentage maximum error\n",
    "neut_ranges/ranges"
   ],
   "metadata": {
    "collapsed": false,
    "ExecuteTime": {
     "start_time": "2023-04-17T21:08:03.703694Z",
     "end_time": "2023-04-17T21:08:03.713964Z"
    }
   }
  },
  {
   "cell_type": "markdown",
   "source": [
    "Conclusion: The range of the distributions obtained from the different sensor reading in neutral state (no force applied) appears to be small. With the largest difference being from the sensor 6 with only a 0.116 max difference. Nevertheless, when taking in consideration that the sensor have different measurements ranges, sensor 3 and 2 have a very large relative difference of 14% and 16% respectively. This is due to the small measurement range of these sensors (0.02 and 0.04). This may be due to the fact that the Batbot is positioned exactly vertically from these sensors (which calculate forces in the horizontal axis). A solution could be to move the Batbot to the center of the sensor positions with respect to the horizontal plane."
   ],
   "metadata": {
    "collapsed": false
   }
  },
  {
   "cell_type": "markdown",
   "source": [
    "## Analysis Test 6\n",
    "Repetition of Test 5 but another day to ensure values remaining constant."
   ],
   "metadata": {
    "collapsed": false
   }
  },
  {
   "cell_type": "code",
   "execution_count": 32,
   "outputs": [
    {
     "name": "stdout",
     "output_type": "stream",
     "text": [
      "Interval initial drift:\n",
      " sensor_1   -0.000783\n",
      "sensor_2   -0.000009\n",
      "sensor_3    0.000068\n",
      "sensor_4    0.000083\n",
      "sensor_5    0.000492\n",
      "sensor_6   -0.000886\n",
      "dtype: float64\n",
      "\n",
      "Interval post_front drift:\n",
      " sensor_1   -0.001042\n",
      "sensor_2    0.000024\n",
      "sensor_3   -0.000009\n",
      "sensor_4    0.000271\n",
      "sensor_5    0.000699\n",
      "sensor_6    0.000775\n",
      "dtype: float64\n",
      "\n",
      "Interval post_left drift:\n",
      " sensor_1    0.000574\n",
      "sensor_2    0.000022\n",
      "sensor_3    0.000053\n",
      "sensor_4    0.000272\n",
      "sensor_5   -0.001952\n",
      "sensor_6    0.000343\n",
      "dtype: float64\n",
      "\n",
      "Interval post_back drift:\n",
      " sensor_1    0.002678\n",
      "sensor_2    0.000072\n",
      "sensor_3   -0.000230\n",
      "sensor_4   -0.001198\n",
      "sensor_5   -0.001204\n",
      "sensor_6    0.001158\n",
      "dtype: float64\n",
      "\n",
      "Interval post_right drift:\n",
      " sensor_1    0.001167\n",
      "sensor_2   -0.000050\n",
      "sensor_3    0.000000\n",
      "sensor_4   -0.000598\n",
      "sensor_5    0.002310\n",
      "sensor_6    0.000211\n",
      "dtype: float64\n",
      "\n",
      "Interval post_up drift:\n",
      " sensor_1    0.000730\n",
      "sensor_2   -0.000063\n",
      "sensor_3    0.000269\n",
      "sensor_4    0.000675\n",
      "sensor_5    0.001695\n",
      "sensor_6    0.001461\n",
      "dtype: float64\n",
      "\n",
      "Interval post_down drift:\n",
      " sensor_1    0.000080\n",
      "sensor_2   -0.000109\n",
      "sensor_3    0.000000\n",
      "sensor_4   -0.001386\n",
      "sensor_5   -0.002413\n",
      "sensor_6    0.000741\n",
      "dtype: float64\n",
      "\n"
     ]
    },
    {
     "data": {
      "text/plain": "<Figure size 2000x700 with 2 Axes>",
      "image/png": "[encoded data removed]"
     },
     "metadata": {},
     "output_type": "display_data"
    }
   ],
   "source": [
    "df  = pd.read_csv(\"data/test_6.csv\")\n",
    "intervals = {'initial': {'range':(0, 55)}, 'post_front': {'range':(66, 113)}, 'post_left': {'range':(123, 174)},\n",
    "             'post_back': {'range':(183, 234)}, 'post_right': {'range':(243, 292)}, 'post_up': {'range':(303, 355)},\n",
    "             'post_down': {'range':(363, 518)}}\n",
    "interval_values = {}\n",
    "for interval in intervals:\n",
    "    intervals[interval]['values'] = df[(df['timestamp']>intervals[interval]['range'][0])&(df['timestamp']<intervals[interval]['range'][1])].reset_index(drop=True)\n",
    "    intervals[interval]['drift'] = intervals[interval]['values'].iloc[0] - intervals[interval]['values'].iloc[-1]\n",
    "    intervals[interval]['mean'] = intervals[interval]['values'].mean().drop('timestamp')\n",
    "    print(f\"Interval {interval} drift:\\n {intervals[interval]['drift'].drop('timestamp')}\\n\")\n",
    "\n",
    "df_sit =[]\n",
    "for interval in intervals:\n",
    "    df_sit.append(intervals[interval]['mean'])\n",
    "\n",
    "df_hist = pd.DataFrame(df_sit)\n",
    "fig, (ax1, ax2) = plt.subplots(1, 2, figsize=(20,7))\n",
    "df_hist.plot.box(ax=ax1)\n",
    "ax1.set_ylim((-4,4))\n",
    "df_hist.plot.box(ax=ax2)\n",
    "plt.show()"
   ],
   "metadata": {
    "collapsed": false,
    "ExecuteTime": {
     "start_time": "2023-04-17T21:44:28.126691Z",
     "end_time": "2023-04-17T21:44:28.336854Z"
    }
   }
  },
  {
   "cell_type": "code",
   "execution_count": null,
   "outputs": [],
   "source": [
    "ranges = (df.max(axis=0) - df.min(axis=0)).drop('timestamp')\n",
    "ranges"
   ],
   "metadata": {
    "collapsed": false,
    "ExecuteTime": {
     "start_time": "2023-04-17T21:08:44.325784Z",
     "end_time": "2023-04-17T21:08:44.334894Z"
    }
   }
  },
  {
   "cell_type": "code",
   "execution_count": null,
   "outputs": [],
   "source": [
    "neut_ranges  = df_hist.max(axis=0) - df_hist.min(axis=0)\n",
    "neut_ranges\n",
    "neut_ranges/ranges"
   ],
   "metadata": {
    "collapsed": false,
    "ExecuteTime": {
     "start_time": "2023-04-17T21:08:45.179604Z",
     "end_time": "2023-04-17T21:08:45.222257Z"
    }
   }
  },
  {
   "cell_type": "markdown",
   "source": [
    "## Analysis 7\n",
    "Same Analysis as last two, with the only difference that more random perturbations were made at different intervals of time and also some torque was tried (again, everything simply with the hand."
   ],
   "metadata": {
    "collapsed": false
   }
  },
  {
   "cell_type": "code",
   "execution_count": 37,
   "outputs": [
    {
     "name": "stdout",
     "output_type": "stream",
     "text": [
      "Interval interval_0 drift:\n",
      " sensor_1   -0.000034\n",
      "sensor_2    0.000027\n",
      "sensor_3    0.000000\n",
      "sensor_4    0.000022\n",
      "sensor_5    0.000002\n",
      "sensor_6   -0.000021\n",
      "dtype: float64\n",
      "\n",
      "Interval interval_1 drift:\n",
      " sensor_1    0.000609\n",
      "sensor_2    0.000242\n",
      "sensor_3    0.000155\n",
      "sensor_4   -0.000792\n",
      "sensor_5   -0.000345\n",
      "sensor_6    0.000962\n",
      "dtype: float64\n",
      "\n",
      "Interval interval_2 drift:\n",
      " sensor_1    0.000226\n",
      "sensor_2   -0.000202\n",
      "sensor_3   -0.000065\n",
      "sensor_4    0.000462\n",
      "sensor_5    0.000681\n",
      "sensor_6   -0.000307\n",
      "dtype: float64\n",
      "\n",
      "Interval interval_3 drift:\n",
      " sensor_1    0.000229\n",
      "sensor_2    0.000063\n",
      "sensor_3    0.000311\n",
      "sensor_4   -0.000333\n",
      "sensor_5    0.001532\n",
      "sensor_6    0.000012\n",
      "dtype: float64\n",
      "\n",
      "Interval interval_4 drift:\n",
      " sensor_1    0.000035\n",
      "sensor_2   -0.000068\n",
      "sensor_3    0.000570\n",
      "sensor_4   -0.000774\n",
      "sensor_5    0.000386\n",
      "sensor_6   -0.000099\n",
      "dtype: float64\n",
      "\n",
      "Interval interval_5 drift:\n",
      " sensor_1    0.000512\n",
      "sensor_2   -0.000010\n",
      "sensor_3    0.000203\n",
      "sensor_4    0.000198\n",
      "sensor_5    0.000110\n",
      "sensor_6   -0.000175\n",
      "dtype: float64\n",
      "\n",
      "Interval interval_6 drift:\n",
      " sensor_1    0.000028\n",
      "sensor_2    0.000053\n",
      "sensor_3    0.000156\n",
      "sensor_4   -0.000397\n",
      "sensor_5   -0.000109\n",
      "sensor_6   -0.000278\n",
      "dtype: float64\n",
      "\n",
      "Interval interval_7 drift:\n",
      " sensor_1   -0.000101\n",
      "sensor_2   -0.000076\n",
      "sensor_3    0.000115\n",
      "sensor_4    0.000064\n",
      "sensor_5    0.000298\n",
      "sensor_6    0.000661\n",
      "dtype: float64\n",
      "\n",
      "Interval interval_8 drift:\n",
      " sensor_1    0.000522\n",
      "sensor_2    0.000041\n",
      "sensor_3    0.000013\n",
      "sensor_4   -0.000763\n",
      "sensor_5    0.000050\n",
      "sensor_6    0.000366\n",
      "dtype: float64\n",
      "\n",
      "Interval interval_9 drift:\n",
      " sensor_1    0.000419\n",
      "sensor_2   -0.000165\n",
      "sensor_3    0.000059\n",
      "sensor_4   -0.001315\n",
      "sensor_5   -0.000352\n",
      "sensor_6    0.000521\n",
      "dtype: float64\n",
      "\n",
      "Interval interval_10 drift:\n",
      " sensor_1   -0.000070\n",
      "sensor_2    0.000174\n",
      "sensor_3    0.000169\n",
      "sensor_4   -0.000318\n",
      "sensor_5   -0.000774\n",
      "sensor_6    0.000261\n",
      "dtype: float64\n",
      "\n",
      "Interval interval_11 drift:\n",
      " sensor_1    0.000305\n",
      "sensor_2   -0.000100\n",
      "sensor_3    0.000051\n",
      "sensor_4    0.000422\n",
      "sensor_5    0.000369\n",
      "sensor_6   -0.000233\n",
      "dtype: float64\n",
      "\n",
      "Interval interval_12 drift:\n",
      " sensor_1   -0.000501\n",
      "sensor_2   -0.000082\n",
      "sensor_3    0.000012\n",
      "sensor_4    0.000157\n",
      "sensor_5    0.000330\n",
      "sensor_6    0.000346\n",
      "dtype: float64\n",
      "\n",
      "Interval interval_13 drift:\n",
      " sensor_1    0.000571\n",
      "sensor_2    0.000101\n",
      "sensor_3    0.000124\n",
      "sensor_4   -0.000357\n",
      "sensor_5   -0.000326\n",
      "sensor_6    0.000681\n",
      "dtype: float64\n",
      "\n",
      "Interval interval_14 drift:\n",
      " sensor_1   -0.000146\n",
      "sensor_2   -0.000100\n",
      "sensor_3    0.000067\n",
      "sensor_4    0.000540\n",
      "sensor_5    0.000213\n",
      "sensor_6    0.000839\n",
      "dtype: float64\n",
      "\n",
      "Interval interval_15 drift:\n",
      " sensor_1   -0.000344\n",
      "sensor_2   -0.000049\n",
      "sensor_3    0.000208\n",
      "sensor_4    0.000095\n",
      "sensor_5   -0.000579\n",
      "sensor_6    0.000358\n",
      "dtype: float64\n",
      "\n",
      "Interval interval_16 drift:\n",
      " sensor_1   -0.000229\n",
      "sensor_2   -0.000147\n",
      "sensor_3    0.000049\n",
      "sensor_4   -0.000297\n",
      "sensor_5    0.000175\n",
      "sensor_6   -0.000151\n",
      "dtype: float64\n",
      "\n",
      "Interval interval_17 drift:\n",
      " sensor_1    0.000513\n",
      "sensor_2    0.000006\n",
      "sensor_3    0.000106\n",
      "sensor_4   -0.000691\n",
      "sensor_5   -0.000082\n",
      "sensor_6    0.000643\n",
      "dtype: float64\n",
      "\n",
      "Interval interval_18 drift:\n",
      " sensor_1    7.107854e-04\n",
      "sensor_2    4.145503e-05\n",
      "sensor_3   -5.997717e-07\n",
      "sensor_4   -6.617308e-04\n",
      "sensor_5    1.088679e-04\n",
      "sensor_6    8.167501e-04\n",
      "dtype: float64\n",
      "\n",
      "Interval interval_19 drift:\n",
      " sensor_1    0.000261\n",
      "sensor_2    0.000031\n",
      "sensor_3    0.000553\n",
      "sensor_4   -0.000134\n",
      "sensor_5    0.000006\n",
      "sensor_6   -0.000116\n",
      "dtype: float64\n",
      "\n",
      "Interval interval_20 drift:\n",
      " sensor_1    0.000077\n",
      "sensor_2    0.000110\n",
      "sensor_3   -0.000160\n",
      "sensor_4   -0.001096\n",
      "sensor_5    0.000056\n",
      "sensor_6    0.000209\n",
      "dtype: float64\n",
      "\n",
      "Interval interval_21 drift:\n",
      " sensor_1    0.000618\n",
      "sensor_2    0.000137\n",
      "sensor_3    0.000873\n",
      "sensor_4   -0.000724\n",
      "sensor_5    0.000351\n",
      "sensor_6   -0.000298\n",
      "dtype: float64\n",
      "\n",
      "Interval interval_22 drift:\n",
      " sensor_1    0.000085\n",
      "sensor_2   -0.000187\n",
      "sensor_3    0.001027\n",
      "sensor_4   -0.000436\n",
      "sensor_5    0.000490\n",
      "sensor_6    0.000452\n",
      "dtype: float64\n",
      "\n",
      "Interval interval_23 drift:\n",
      " sensor_1    0.000541\n",
      "sensor_2    0.000414\n",
      "sensor_3   -0.000962\n",
      "sensor_4   -0.000792\n",
      "sensor_5    0.000034\n",
      "sensor_6   -0.000254\n",
      "dtype: float64\n",
      "\n",
      "Interval interval_24 drift:\n",
      " sensor_1    0.000807\n",
      "sensor_2   -0.000574\n",
      "sensor_3    0.000490\n",
      "sensor_4    0.000085\n",
      "sensor_5    0.000314\n",
      "sensor_6   -0.000042\n",
      "dtype: float64\n",
      "\n",
      "Interval interval_25 drift:\n",
      " sensor_1   -0.000089\n",
      "sensor_2    0.000416\n",
      "sensor_3    0.000000\n",
      "sensor_4   -0.000761\n",
      "sensor_5    0.000438\n",
      "sensor_6   -0.000180\n",
      "dtype: float64\n",
      "\n",
      "Interval interval_26 drift:\n",
      " sensor_1    0.000062\n",
      "sensor_2    0.000677\n",
      "sensor_3    0.001003\n",
      "sensor_4   -0.000614\n",
      "sensor_5   -0.000105\n",
      "sensor_6    0.000796\n",
      "dtype: float64\n",
      "\n",
      "Interval interval_27 drift:\n",
      " sensor_1   -0.000046\n",
      "sensor_2   -0.000148\n",
      "sensor_3   -0.000341\n",
      "sensor_4   -0.000681\n",
      "sensor_5    0.000263\n",
      "sensor_6   -0.000293\n",
      "dtype: float64\n",
      "\n"
     ]
    },
    {
     "data": {
      "text/plain": "<Figure size 2000x700 with 2 Axes>",
      "image/png": "[encoded data removed]"
     },
     "metadata": {},
     "output_type": "display_data"
    }
   ],
   "source": [
    "df  = pd.read_csv(\"data/test_7.csv\")\n",
    "ranges =  [(0,3.6), (9.5,13.17), (17.53, 22.05), (26.59, 30.61), (36.61, 41.94), (49.28, 55.77), (63.43, 67.91), (74.15, 80.38), (86.16, 90.17), (95.92, 102.66), (110.80, 117.65), (121.03, 126.79), (133.86, 140.70), (148.42, 150.59), (159.52, 160.92), (163.5, 169), (178.58, 184.45), (192.4, 202.12), (206.73, 212.91), (221.79, 223.53), (225.64, 228.28), (238.07, 243.24), (251.68, 253.49), (260.42, 264.29), (269.11, 273.20), (278.6, 280.95), (286.6, 288.74), (293.62, 295.14)]\n",
    "\n",
    "intervals = {}\n",
    "for i, tup in enumerate(ranges):\n",
    "    intervals[f'interval_{i}'] = {'range':tup}\n",
    "\n",
    "interval_values = {}\n",
    "for interval in intervals:\n",
    "    intervals[interval]['values'] = df[(df['timestamp']>intervals[interval]['range'][0])&(df['timestamp']<intervals[interval]['range'][1])].reset_index(drop=True)\n",
    "    intervals[interval]['drift'] = intervals[interval]['values'].iloc[0] - intervals[interval]['values'].iloc[-1]\n",
    "    intervals[interval]['mean'] = intervals[interval]['values'].mean().drop('timestamp')\n",
    "    print(f\"Interval {interval} drift:\\n {intervals[interval]['drift'].drop('timestamp')}\\n\")\n",
    "\n",
    "df_sit =[]\n",
    "for interval in intervals:\n",
    "    df_sit.append(intervals[interval]['mean'])\n",
    "\n",
    "df_hist = pd.DataFrame(df_sit)\n",
    "fig, (ax1, ax2) = plt.subplots(1, 2, figsize=(20,7))\n",
    "df_hist.plot.box(ax=ax1)\n",
    "ax1.set_ylim((-4,4))\n",
    "df_hist.plot.box(ax=ax2)\n",
    "plt.show()"
   ],
   "metadata": {
    "collapsed": false,
    "ExecuteTime": {
     "start_time": "2023-04-17T21:47:46.041883Z",
     "end_time": "2023-04-17T21:47:46.306003Z"
    }
   }
  },
  {
   "cell_type": "code",
   "execution_count": 38,
   "outputs": [
    {
     "data": {
      "text/plain": "sensor_1    3.485403\nsensor_2    1.543123\nsensor_3    1.121311\nsensor_4    7.852253\nsensor_5    4.781016\nsensor_6    5.203960\ndtype: float64"
     },
     "execution_count": 38,
     "metadata": {},
     "output_type": "execute_result"
    }
   ],
   "source": [
    "ranges = (df.max(axis=0) - df.min(axis=0)).drop('timestamp')\n",
    "ranges"
   ],
   "metadata": {
    "collapsed": false,
    "ExecuteTime": {
     "start_time": "2023-04-17T21:47:46.970156Z",
     "end_time": "2023-04-17T21:47:46.989133Z"
    }
   }
  },
  {
   "cell_type": "code",
   "execution_count": 39,
   "outputs": [
    {
     "data": {
      "text/plain": "sensor_1    0.035321\nsensor_2    0.097172\nsensor_3    0.122651\nsensor_4    0.007947\nsensor_5    0.014722\nsensor_6    0.026425\ndtype: float64"
     },
     "execution_count": 39,
     "metadata": {},
     "output_type": "execute_result"
    }
   ],
   "source": [
    "neut_ranges  = df_hist.max(axis=0) - df_hist.min(axis=0)\n",
    "neut_ranges\n",
    "neut_ranges/ranges"
   ],
   "metadata": {
    "collapsed": false,
    "ExecuteTime": {
     "start_time": "2023-04-17T21:47:47.595730Z",
     "end_time": "2023-04-17T21:47:47.606874Z"
    }
   }
  },
  {
   "cell_type": "code",
   "execution_count": 45,
   "outputs": [
    {
     "data": {
      "text/plain": "<Figure size 640x480 with 1 Axes>",
      "image/png": "[encoded data removed]"
     },
     "metadata": {},
     "output_type": "display_data"
    }
   ],
   "source": [
    "import seaborn as sns\n",
    "sns.kdeplot(df_hist)\n",
    "plt.show()"
   ],
   "metadata": {
    "collapsed": false,
    "ExecuteTime": {
     "start_time": "2023-04-17T21:52:34.588258Z",
     "end_time": "2023-04-17T21:52:34.727667Z"
    }
   }
  },
  {
   "cell_type": "code",
   "execution_count": 46,
   "outputs": [
    {
     "data": {
      "text/plain": "sensor_1    0.103034\nsensor_2    0.126191\nsensor_3   -0.016099\nsensor_4   -0.337834\nsensor_5   -0.127773\nsensor_6   -0.016209\ndtype: float64"
     },
     "execution_count": 46,
     "metadata": {},
     "output_type": "execute_result"
    }
   ],
   "source": [
    "df_hist.mean()"
   ],
   "metadata": {
    "collapsed": false,
    "ExecuteTime": {
     "start_time": "2023-04-17T21:53:16.847304Z",
     "end_time": "2023-04-17T21:53:16.849201Z"
    }
   }
  },
  {
   "cell_type": "markdown",
   "source": [
    "Conclusion: For the time being I believe the mean values of df_dist from test_7 can be used as the sensors shift for further experimentation. The values relate with the experiments 5 and 6."
   ],
   "metadata": {
    "collapsed": false
   }
  }
 ],
 "metadata": {
  "kernelspec": {
   "display_name": "Python 3",
   "language": "python",
   "name": "python3"
  },
  "language_info": {
   "codemirror_mode": {
    "name": "ipython",
    "version": 2
   },
   "file_extension": ".py",
   "mimetype": "text/x-python",
   "name": "python",
   "nbconvert_exporter": "python",
   "pygments_lexer": "ipython2",
   "version": "2.7.6"
  }
 },
 "nbformat": 4,
 "nbformat_minor": 0
}
