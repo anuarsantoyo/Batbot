{
 "cells": [
  {
   "cell_type": "code",
   "execution_count": 1,
   "metadata": {
    "collapsed": true,
    "ExecuteTime": {
     "start_time": "2023-04-15T11:56:51.472157Z",
     "end_time": "2023-04-15T11:56:51.920120Z"
    }
   },
   "outputs": [],
   "source": [
    "import matplotlib.pyplot as plt\n",
    "\n",
    "from utils import *\n",
    "import plotly.express as px"
   ]
  },
  {
   "cell_type": "code",
   "execution_count": null,
   "outputs": [],
   "source": [
    "!python -m serial.tools.list_ports"
   ],
   "metadata": {
    "collapsed": false,
    "ExecuteTime": {
     "start_time": "2023-04-14T17:49:54.000906Z",
     "end_time": "2023-04-14T17:49:54.142579Z"
    }
   }
  },
  {
   "cell_type": "markdown",
   "source": [
    "# Drift and Hysteresis Analysis"
   ],
   "metadata": {
    "collapsed": false
   }
  },
  {
   "cell_type": "markdown",
   "source": [
    "## Measurements"
   ],
   "metadata": {
    "collapsed": false
   }
  },
  {
   "cell_type": "code",
   "execution_count": null,
   "outputs": [],
   "source": [
    "port = \"/dev/ttyUSB0\"\n",
    "df = read_measurements_df(port=port, duration=5, calibration=False)\n",
    "for i in range(12*30):\n",
    "    df = pd.concat([df, read_measurements_df(port=port, duration=5, calibration=False)], ignore_index=True)"
   ],
   "metadata": {
    "collapsed": false,
    "ExecuteTime": {
     "start_time": "2023-04-14T11:04:08.213556Z",
     "end_time": "2023-04-14T11:15:11.518827Z"
    }
   }
  },
  {
   "cell_type": "code",
   "execution_count": null,
   "outputs": [],
   "source": [
    "df['timestamp'] = df['timestamp'] - df['timestamp'][0]\n",
    "df.to_csv(\"data/test_5.csv\", index=False)"
   ],
   "metadata": {
    "collapsed": false,
    "ExecuteTime": {
     "start_time": "2023-04-14T17:00:51.175501Z",
     "end_time": "2023-04-14T17:00:51.308977Z"
    }
   }
  },
  {
   "cell_type": "code",
   "execution_count": null,
   "outputs": [],
   "source": [
    "df  = pd.read_csv(\"data/test_5.csv\")\n",
    "fig = px.line(df, x=df.timestamp, y=[f\"sensor_{i}\" for i in range(1,7)], title='Drift and hysteresis analysis (unmounted)')\n",
    "fig.write_html('data/test_5.html', auto_open=True)"
   ],
   "metadata": {
    "collapsed": false,
    "ExecuteTime": {
     "start_time": "2023-04-14T17:04:37.289773Z",
     "end_time": "2023-04-14T17:04:42.562008Z"
    }
   }
  },
  {
   "cell_type": "markdown",
   "source": [
    "## Analysis\n",
    "An approximately 6 min long experiment was made to obtain an initial feeling of the drift and hysteresis from the sensors. This is important to obtain the values of the sensor when the batbot is not mounted, as our goal should be to emulate this sensor values (or use them to calibrate to zero). The experiment (test_5.csv) consisted on manually (literally with the hand) applying force on the 6 axis direction. From the mounted Batbot perspective I will call this axis; front, left, back, right, and down. The forces were applied in this respective order. The forces were applied for approx. 5 seconds and then there were 55 seconds of waiting. This way we can analyse 2 things, is there a considerable drift? Meaning, is there a considerable change in the sensor value from the beginning of a waiting period to the end of it. And are there considerable hysteresis? Which can be calculated through the difference of the sensor value in waiting phase before and after the force application phase. **CAREFUL: The results of this analysis are preliminary, the experiment should be repeated using more realistic forces than my hand pushing and pulling the structure around. For example using real movements of the Batbot.**"
   ],
   "metadata": {
    "collapsed": false
   }
  },
  {
   "cell_type": "code",
   "execution_count": 2,
   "outputs": [],
   "source": [
    "df  = pd.read_csv(\"data/test_5.csv\")"
   ],
   "metadata": {
    "collapsed": false,
    "ExecuteTime": {
     "start_time": "2023-04-15T11:58:21.243343Z",
     "end_time": "2023-04-15T11:58:21.287975Z"
    }
   }
  },
  {
   "cell_type": "markdown",
   "source": [
    "First the waiting intervals are manually determined using the pyplot graph as a reference"
   ],
   "metadata": {
    "collapsed": false
   }
  },
  {
   "cell_type": "code",
   "execution_count": 3,
   "outputs": [],
   "source": [
    "intervals = {'initial': {'range':(0, 61.5)}, 'post_front': {'range':(70.95, 122.81)}, 'post_left': {'range':(131.53, 181.2)},\n",
    "             'post_back': {'range':(189.89, 242.21)}, 'post_right': {'range':(250.4, 302.25)}, 'post_up': {'range':(309.78, 362.69)},\n",
    "             'post_down': {'range':(369.79, 425.58)}}"
   ],
   "metadata": {
    "collapsed": false,
    "ExecuteTime": {
     "start_time": "2023-04-15T11:58:22.728312Z",
     "end_time": "2023-04-15T11:58:22.730590Z"
    }
   }
  },
  {
   "cell_type": "markdown",
   "source": [
    "### Drift"
   ],
   "metadata": {
    "collapsed": false
   }
  },
  {
   "cell_type": "code",
   "execution_count": 5,
   "outputs": [
    {
     "name": "stdout",
     "output_type": "stream",
     "text": [
      "Interval initial drift:\n",
      " sensor_1    0.000136\n",
      "sensor_2    0.000183\n",
      "sensor_3    0.000303\n",
      "sensor_4    0.000084\n",
      "sensor_5    0.000336\n",
      "sensor_6    0.000402\n",
      "dtype: float64\n",
      "\n",
      "Interval post_front drift:\n",
      " sensor_1   -0.001677\n",
      "sensor_2    0.000021\n",
      "sensor_3    0.000173\n",
      "sensor_4    0.000690\n",
      "sensor_5    0.001121\n",
      "sensor_6    0.001395\n",
      "dtype: float64\n",
      "\n",
      "Interval post_left drift:\n",
      " sensor_1    0.000364\n",
      "sensor_2    0.000411\n",
      "sensor_3   -0.000239\n",
      "sensor_4    0.000218\n",
      "sensor_5   -0.001025\n",
      "sensor_6    0.000204\n",
      "dtype: float64\n",
      "\n",
      "Interval post_back drift:\n",
      " sensor_1    0.002257\n",
      "sensor_2    0.000185\n",
      "sensor_3    0.000154\n",
      "sensor_4   -0.000265\n",
      "sensor_5   -0.000926\n",
      "sensor_6    0.000213\n",
      "dtype: float64\n",
      "\n",
      "Interval post_right drift:\n",
      " sensor_1    0.001477\n",
      "sensor_2   -0.000133\n",
      "sensor_3    0.000240\n",
      "sensor_4   -0.000748\n",
      "sensor_5    0.002617\n",
      "sensor_6    0.002580\n",
      "dtype: float64\n",
      "\n",
      "Interval post_up drift:\n",
      " sensor_1    0.000344\n",
      "sensor_2   -0.000187\n",
      "sensor_3    0.000101\n",
      "sensor_4    0.000619\n",
      "sensor_5    0.001358\n",
      "sensor_6    0.000172\n",
      "dtype: float64\n",
      "\n",
      "Interval post_down drift:\n",
      " sensor_1    0.000036\n",
      "sensor_2    0.000437\n",
      "sensor_3    0.000000\n",
      "sensor_4   -0.000491\n",
      "sensor_5   -0.001301\n",
      "sensor_6   -0.000438\n",
      "dtype: float64\n",
      "\n"
     ]
    }
   ],
   "source": [
    "interval_values = {}\n",
    "for interval in intervals:\n",
    "    intervals[interval]['values'] = df[(df['timestamp']>intervals[interval]['range'][0])&(df['timestamp']<intervals[interval]['range'][1])].reset_index(drop=True)\n",
    "    intervals[interval]['drift'] = intervals[interval]['values'].iloc[0] - intervals[interval]['values'].iloc[-1]\n",
    "    intervals[interval]['mean'] = intervals[interval]['values'].mean().drop('timestamp')\n",
    "    print(f\"Interval {interval} drift:\\n {intervals[interval]['drift'].drop('timestamp')}\\n\")"
   ],
   "metadata": {
    "collapsed": false,
    "ExecuteTime": {
     "start_time": "2023-04-15T11:59:06.431326Z",
     "end_time": "2023-04-15T11:59:06.444121Z"
    }
   }
  },
  {
   "cell_type": "markdown",
   "source": [
    "Conclusion: We can see that for a minute-long experiment (which is significantly longer than the 5-15 second experiments I plan to do) the drift is in the 10⁻³ range. Which means that the drift can be neglected."
   ],
   "metadata": {
    "collapsed": false
   }
  },
  {
   "cell_type": "markdown",
   "source": [
    "### Hysteresis"
   ],
   "metadata": {
    "collapsed": false
   }
  },
  {
   "cell_type": "code",
   "execution_count": 6,
   "outputs": [],
   "source": [
    "df_sit =[]\n",
    "for interval in intervals:\n",
    "    df_sit.append(intervals[interval]['mean'])\n",
    "\n",
    "df_hist = pd.DataFrame(df_sit)"
   ],
   "metadata": {
    "collapsed": false,
    "ExecuteTime": {
     "start_time": "2023-04-15T12:13:25.896568Z",
     "end_time": "2023-04-15T12:13:25.939935Z"
    }
   }
  },
  {
   "cell_type": "markdown",
   "source": [
    "Considering that the range of the sensor goes from approx. (-4,4)"
   ],
   "metadata": {
    "collapsed": false
   }
  },
  {
   "cell_type": "code",
   "execution_count": 16,
   "outputs": [
    {
     "data": {
      "text/plain": "<Figure size 2000x700 with 2 Axes>",
      "image/png": "[encoded data removed]"
     },
     "metadata": {},
     "output_type": "display_data"
    }
   ],
   "source": [
    "fig, (ax1, ax2) = plt.subplots(1, 2, figsize=(20,7))\n",
    "df_hist.plot.box(ax=ax1)\n",
    "ax1.set_ylim((-4,4))\n",
    "\n",
    "df_hist.plot.box(ax=ax2)\n",
    "plt.show()"
   ],
   "metadata": {
    "collapsed": false,
    "ExecuteTime": {
     "start_time": "2023-04-15T12:23:21.324147Z",
     "end_time": "2023-04-15T12:23:21.522180Z"
    }
   }
  },
  {
   "cell_type": "code",
   "execution_count": 27,
   "outputs": [
    {
     "data": {
      "text/plain": "sensor_1    3.607101\nsensor_2    0.272184\nsensor_3    0.186676\nsensor_4    6.585256\nsensor_5    4.781506\nsensor_6    7.908710\ndtype: float64"
     },
     "execution_count": 27,
     "metadata": {},
     "output_type": "execute_result"
    }
   ],
   "source": [
    "ranges = (df.max(axis=0) - df.min(axis=0)).drop('timestamp')\n",
    "ranges"
   ],
   "metadata": {
    "collapsed": false,
    "ExecuteTime": {
     "start_time": "2023-04-15T12:39:06.285194Z",
     "end_time": "2023-04-15T12:39:06.290136Z"
    }
   }
  },
  {
   "cell_type": "code",
   "execution_count": 29,
   "outputs": [
    {
     "data": {
      "text/plain": "sensor_1    0.085533\nsensor_2    0.044172\nsensor_3    0.027708\nsensor_4    0.025881\nsensor_5    0.043855\nsensor_6    0.116884\ndtype: float64"
     },
     "execution_count": 29,
     "metadata": {},
     "output_type": "execute_result"
    }
   ],
   "source": [
    "neut_ranges  = df_hist.max(axis=0) - df_hist.min(axis=0)\n",
    "neut_ranges"
   ],
   "metadata": {
    "collapsed": false,
    "ExecuteTime": {
     "start_time": "2023-04-15T12:39:34.656031Z",
     "end_time": "2023-04-15T12:39:34.660641Z"
    }
   }
  },
  {
   "cell_type": "code",
   "execution_count": 30,
   "outputs": [
    {
     "data": {
      "text/plain": "sensor_1    0.023712\nsensor_2    0.162286\nsensor_3    0.148428\nsensor_4    0.003930\nsensor_5    0.009172\nsensor_6    0.014779\ndtype: float64"
     },
     "execution_count": 30,
     "metadata": {},
     "output_type": "execute_result"
    }
   ],
   "source": [
    "# Percentage maximum error\n",
    "neut_ranges/ranges"
   ],
   "metadata": {
    "collapsed": false,
    "ExecuteTime": {
     "start_time": "2023-04-15T12:39:44.587924Z",
     "end_time": "2023-04-15T12:39:44.589170Z"
    }
   }
  },
  {
   "cell_type": "markdown",
   "source": [
    "Conclusion: The range of the distributions obtained from the different sensor reading in neutral state (no force applied) appears to be small. With the largest difference being from the sensor 6 with only a 0.116 max difference. Nevertheless, when taking in consideration that the sensor have different measurements ranges, sensor 3 and 2 have a very large relative difference of 14% and 16% respectively. This is due to the small measurement range of these sensors (0.02 and 0.04). This may be due to the fact that the Batbot is positioned exactly vertically from these sensors (which calculate forces in the horizontal axis). A solution could be to move the Batbot to the center of the sensor positions with respect to the horizontal plane."
   ],
   "metadata": {
    "collapsed": false
   }
  }
 ],
 "metadata": {
  "kernelspec": {
   "display_name": "Python 3",
   "language": "python",
   "name": "python3"
  },
  "language_info": {
   "codemirror_mode": {
    "name": "ipython",
    "version": 2
   },
   "file_extension": ".py",
   "mimetype": "text/x-python",
   "name": "python",
   "nbconvert_exporter": "python",
   "pygments_lexer": "ipython2",
   "version": "2.7.6"
  }
 },
 "nbformat": 4,
 "nbformat_minor": 0
}
