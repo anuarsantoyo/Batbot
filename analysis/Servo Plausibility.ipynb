{
 "cells": [
  {
   "cell_type": "markdown",
   "source": [
    "# Problem: The DC motor of the Batbot makes wings flap at a very high frequency of 5HZ, until now the servos (KST Daviga DS213) have a hard time keeping up and flap out of sync. Why? First I will anaylze if the servo can mechanically keep up, then we will work on the software part."
   ],
   "metadata": {
    "collapsed": false
   }
  },
  {
   "cell_type": "markdown",
   "source": [
    "## Max Servo flapping frequency"
   ],
   "metadata": {
    "collapsed": false
   }
  },
  {
   "cell_type": "markdown",
   "source": [
    "I found Online (https://www.hyperflight.co.uk/products.asp?code=KST-DS213MG) that the max flapping speed is 0.06sec/60. Let's find out if the servo can provide the needed speed. Dr. Li told me that the Batbot flaps 33° over the horizontal and 5° under, which makes a total of a 38° flap."
   ],
   "metadata": {
    "collapsed": false
   }
  },
  {
   "cell_type": "markdown",
   "source": [
    "| Voltage | Operating speed |\n",
    "|---------|-----------------|\n",
    "| 4.8V    | 0.08 sec/60°    |\n",
    "| 5V      |   0.07 sec/60°  |\n",
    "| 6V      |   0.06 sec/60°  |"
   ],
   "metadata": {
    "collapsed": false
   }
  },
  {
   "cell_type": "code",
   "execution_count": 9,
   "metadata": {
    "collapsed": true
   },
   "outputs": [],
   "source": [
    "# Time needed for one stroke\n",
    "# 0.06s/60°=stroke_time/45°\n",
    "operating_speed = 0.08/60\n",
    "stroke_time = 38*operating_speed\n",
    "flap_time = 2*stroke_time # A flap is one up and one down stroke (time needed to change direction might be needed to be considred)"
   ]
  },
  {
   "cell_type": "code",
   "execution_count": 10,
   "outputs": [
    {
     "data": {
      "text/plain": "9.868421052631579"
     },
     "execution_count": 10,
     "metadata": {},
     "output_type": "execute_result"
    }
   ],
   "source": [
    "# How many flaps can be achieved in a second\n",
    "flap_frequency = 1/flap_time\n",
    "flap_frequency"
   ],
   "metadata": {
    "collapsed": false
   }
  },
  {
   "cell_type": "markdown",
   "source": [
    "Fazit: using all voltages, the desired speed can be achieved."
   ],
   "metadata": {
    "collapsed": false
   }
  },
  {
   "cell_type": "code",
   "execution_count": 11,
   "outputs": [
    {
     "data": {
      "text/plain": "57.0"
     },
     "execution_count": 11,
     "metadata": {},
     "output_type": "execute_result"
    }
   ],
   "source": [
    "38*180/120"
   ],
   "metadata": {
    "collapsed": false
   }
  }
 ],
 "metadata": {
  "kernelspec": {
   "display_name": "Python 3",
   "language": "python",
   "name": "python3"
  },
  "language_info": {
   "codemirror_mode": {
    "name": "ipython",
    "version": 2
   },
   "file_extension": ".py",
   "mimetype": "text/x-python",
   "name": "python",
   "nbconvert_exporter": "python",
   "pygments_lexer": "ipython2",
   "version": "2.7.6"
  }
 },
 "nbformat": 4,
 "nbformat_minor": 0
}
