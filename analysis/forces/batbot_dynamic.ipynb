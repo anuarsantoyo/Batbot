{
 "cells": [
  {
   "cell_type": "markdown",
   "source": [
    "# Dynamic Analysis\n",
    "In this notebook I will analyse the flying forces excerpted by the Batbot (using the 6 axis sensor). With this more information will be gained that can be used to achieve hovering."
   ],
   "metadata": {
    "collapsed": false
   },
   "id": "3ab36ee401e8bb8c"
  },
  {
   "cell_type": "code",
   "execution_count": 1,
   "outputs": [],
   "source": [
    "import matplotlib.pyplot as plt\n",
    "\n",
    "from utils import *\n",
    "import numpy as np\n",
    "import plotly.express as px\n",
    "import pandas as pd\n",
    "from scipy.signal import find_peaks\n",
    "from scipy.interpolate import interp1d"
   ],
   "metadata": {
    "collapsed": false,
    "ExecuteTime": {
     "end_time": "2023-11-09T06:29:57.403221806Z",
     "start_time": "2023-11-09T06:29:56.519504561Z"
    }
   },
   "id": "ffde0fca21668e29"
  },
  {
   "cell_type": "code",
   "execution_count": 2,
   "outputs": [
    {
     "name": "stdout",
     "output_type": "stream",
     "text": [
      "/dev/ttyACM0        \r\n",
      "/dev/ttyACM1        \r\n",
      "/dev/ttyUSB0        \r\n",
      "3 ports found\r\n"
     ]
    }
   ],
   "source": [
    "!python -m serial.tools.list_ports\n",
    "sensor_port = '/dev/ttyUSB0'"
   ],
   "metadata": {
    "collapsed": false,
    "ExecuteTime": {
     "end_time": "2023-11-09T06:29:57.560948120Z",
     "start_time": "2023-11-09T06:29:57.402651602Z"
    }
   },
   "id": "c41557fcb362a039"
  },
  {
   "cell_type": "markdown",
   "source": [
    "## Calibration\n",
    "I have positioned the Batbot horizontally (using the horizontal bar as reference) and calculated the force excerpted "
   ],
   "metadata": {
    "collapsed": false
   },
   "id": "298e80410d5f4763"
  },
  {
   "cell_type": "code",
   "execution_count": null,
   "id": "386dcaf346202321",
   "metadata": {
    "collapsed": true
   },
   "outputs": [],
   "source": [
    "df_calib = read_measurements_df_6axis(port=sensor_port, duration=5)"
   ]
  },
  {
   "cell_type": "code",
   "execution_count": null,
   "outputs": [],
   "source": [
    "px.line(df_calib,x='Time', y=sensors_col)"
   ],
   "metadata": {
    "collapsed": false
   },
   "id": "initial_id"
  },
  {
   "cell_type": "code",
   "execution_count": null,
   "outputs": [],
   "source": [
    "calib = df_calib.mean()\n",
    "calib['Time'] = 0"
   ],
   "metadata": {
    "collapsed": false
   },
   "id": "ad06caceaeb2222b"
  },
  {
   "cell_type": "markdown",
   "source": [
    "## Experiment 1\n",
    "I ran a experiment with the motor at 265 and the legs still for 20 seconds at 0°"
   ],
   "metadata": {
    "collapsed": false
   },
   "id": "cacfb42e4bf96c60"
  },
  {
   "cell_type": "code",
   "execution_count": null,
   "outputs": [],
   "source": [
    "df = read_measurements_df_6axis(port=sensor_port, duration=20)"
   ],
   "metadata": {
    "collapsed": false
   },
   "id": "88b986e18a3d6905"
  },
  {
   "cell_type": "code",
   "execution_count": null,
   "outputs": [],
   "source": [
    "df = df-calib"
   ],
   "metadata": {
    "collapsed": false
   },
   "id": "2b2e69062dc60c0"
  },
  {
   "cell_type": "code",
   "execution_count": null,
   "outputs": [],
   "source": [
    "px.line(df,x='Time', y=sensors_col)"
   ],
   "metadata": {
    "collapsed": false
   },
   "id": "72d356fa556f710a"
  },
  {
   "cell_type": "code",
   "execution_count": null,
   "outputs": [],
   "source": [
    "df['Fres'] = np.sqrt(df.Fy**2 + df.Fz**2)\n",
    "df['Angle'] = df.apply(lambda x: arctan2_degrees(x.Fz, x.Fy), axis=1)"
   ],
   "metadata": {
    "collapsed": false
   },
   "id": "94e0d3fb4ae73110"
  },
  {
   "cell_type": "code",
   "execution_count": null,
   "outputs": [],
   "source": [
    "px.line(df,x='Time', y=['Fres', 'Angle'])"
   ],
   "metadata": {
    "collapsed": false
   },
   "id": "2a9c8a1c3e071504"
  },
  {
   "cell_type": "code",
   "execution_count": null,
   "outputs": [],
   "source": [
    "fig = px.line(df[(df['Time'] >= 10.04193) & (df['Time'] <= 15.55)]\n",
    ",x='Fy', y='Fz')#, color='Time')\n",
    "\n",
    "fig.update_layout(\n",
    "    xaxis=dict(\n",
    "        scaleanchor='y',\n",
    "        scaleratio=1,\n",
    "    )\n",
    ")\n",
    "\n",
    "# Show plot\n",
    "fig.show()"
   ],
   "metadata": {
    "collapsed": false
   },
   "id": "d839f015889bd4d3"
  },
  {
   "cell_type": "markdown",
   "source": [
    "We can see that there are predominantly 2 directions of force (during upstroke and downstroke) "
   ],
   "metadata": {
    "collapsed": false
   },
   "id": "56807bcfa4677d9c"
  },
  {
   "cell_type": "markdown",
   "source": [
    "## Experiment 2\n",
    "I repositioned the Batbot 10°"
   ],
   "metadata": {
    "collapsed": false
   },
   "id": "c37ff97ffd03bb21"
  },
  {
   "cell_type": "code",
   "execution_count": null,
   "outputs": [],
   "source": [
    "df2 = read_measurements_df_6axis(port=sensor_port, duration=20)"
   ],
   "metadata": {
    "collapsed": false
   },
   "id": "b4d7d7a4f37ee3a8"
  },
  {
   "cell_type": "code",
   "execution_count": null,
   "outputs": [],
   "source": [
    "df2 = df2 - calib"
   ],
   "metadata": {
    "collapsed": false
   },
   "id": "e70bdb31c3541e6b"
  },
  {
   "cell_type": "code",
   "execution_count": null,
   "outputs": [],
   "source": [
    "px.line(df2,x='Time', y=sensors_col)"
   ],
   "metadata": {
    "collapsed": false
   },
   "id": "ee8b14c14c84ca5f"
  },
  {
   "cell_type": "code",
   "execution_count": null,
   "outputs": [],
   "source": [
    "df2['Fres'] = np.sqrt(df2.Fy**2 + df2.Fz**2)\n",
    "df2['Angle'] = df2.apply(lambda x: arctan2_degrees(x.Fz, x.Fy), axis=1)"
   ],
   "metadata": {
    "collapsed": false
   },
   "id": "24cd8199624ea78c"
  },
  {
   "cell_type": "code",
   "execution_count": null,
   "outputs": [],
   "source": [
    "fig = px.line(df2[(df2['Time'] >= 10.04193) & (df2['Time'] <= 15.55)]\n",
    ",x='Fy', y='Fz')#, color='Time')\n",
    "\n",
    "fig.update_layout(\n",
    "    xaxis=dict(\n",
    "        scaleanchor='y',\n",
    "        scaleratio=1,\n",
    "    )\n",
    ")\n",
    "\n",
    "# Show plot\n",
    "fig.show()"
   ],
   "metadata": {
    "collapsed": false
   },
   "id": "a7417b4bd2de6f64"
  },
  {
   "cell_type": "markdown",
   "source": [
    "## Experiment 3\n",
    "I will remove the Batbot and calibrate the sensor with only the testbench and redo an experiment to see the real forces excerpted on the Batbot (including own weight)"
   ],
   "metadata": {
    "collapsed": false
   },
   "id": "eb8bb344f1a341ef"
  },
  {
   "cell_type": "code",
   "execution_count": null,
   "outputs": [],
   "source": [
    "df_calib3 = read_measurements_df_6axis(port=sensor_port, duration=5)"
   ],
   "metadata": {
    "collapsed": false
   },
   "id": "43f85683e7135053"
  },
  {
   "cell_type": "code",
   "execution_count": null,
   "outputs": [],
   "source": [
    "df_calib3 = pd.read_csv('/home/anuarsantoyo/PycharmProjects/Batbot/analysis/forces/data/df_calib3.csv')\n",
    "calib3 = df_calib3.mean()\n",
    "calib3['Time'] = 0"
   ],
   "metadata": {
    "collapsed": false
   },
   "id": "e5d5d8f1ca05435a"
  },
  {
   "cell_type": "code",
   "execution_count": null,
   "outputs": [],
   "source": [
    "df_calib3.to_csv('/home/anuarsantoyo/PycharmProjects/Batbot/analysis/forces/data/df_calib3.csv', index=False)"
   ],
   "metadata": {
    "collapsed": false
   },
   "id": "be01cecb658f4489"
  },
  {
   "cell_type": "code",
   "execution_count": null,
   "outputs": [],
   "source": [
    "calib3.to_csv('/home/anuarsantoyo/PycharmProjects/Batbot/analysis/forces/data/calib3_mean.csv')"
   ],
   "metadata": {
    "collapsed": false
   },
   "id": "3b5abdd70d9d768f"
  },
  {
   "cell_type": "code",
   "execution_count": null,
   "outputs": [],
   "source": [
    "df3 = read_measurements_df_6axis(port=sensor_port, duration=60)"
   ],
   "metadata": {
    "collapsed": false
   },
   "id": "86a9da8552302ba9"
  },
  {
   "cell_type": "code",
   "execution_count": null,
   "outputs": [],
   "source": [
    "df3 = pd.read_csv('/home/anuarsantoyo/PycharmProjects/Batbot/analysis/forces/data/df3.csv')"
   ],
   "metadata": {
    "collapsed": false
   },
   "id": "a2984a337bd2f143"
  },
  {
   "cell_type": "code",
   "execution_count": null,
   "outputs": [],
   "source": [
    "df3_calib = df3-calib3"
   ],
   "metadata": {
    "collapsed": false
   },
   "id": "34a9945b18740658"
  },
  {
   "cell_type": "code",
   "execution_count": null,
   "outputs": [],
   "source": [
    "df3.to_csv('/home/anuarsantoyo/PycharmProjects/Batbot/analysis/forces/data/df3.csv', index=False)"
   ],
   "metadata": {
    "collapsed": false
   },
   "id": "4a1aa0a14c5d3be3"
  },
  {
   "cell_type": "code",
   "execution_count": null,
   "outputs": [],
   "source": [
    "px.line(df3_calib, x='Time', y=sensors_col)"
   ],
   "metadata": {
    "collapsed": false
   },
   "id": "658d1f0c28554c99"
  },
  {
   "cell_type": "code",
   "execution_count": null,
   "outputs": [],
   "source": [
    "fig = px.scatter(df3_calib[((df3_calib.Time >= 9)&(df3_calib.Time <= 12))|((df3_calib.Time >= 37)&(df3_calib.Time <= 40))]\n",
    ",x='Fy', y='Fz', color='Time')\n",
    "\n",
    "fig.update_layout(\n",
    "    xaxis=dict(\n",
    "        scaleanchor='y',\n",
    "        scaleratio=1,\n",
    "    )\n",
    ")\n",
    "# Show plot\n",
    "fig.show()"
   ],
   "metadata": {
    "collapsed": false
   },
   "id": "616c302791395a8d"
  },
  {
   "cell_type": "code",
   "execution_count": null,
   "outputs": [],
   "source": [
    "df = df3_calib.copy()\n",
    "df = df[(df.Time >= 8.3) & (df.Time <= 40.1)].reset_index(drop=True)"
   ],
   "metadata": {
    "collapsed": false
   },
   "id": "a2924e0d9a3231ef"
  },
  {
   "cell_type": "code",
   "execution_count": null,
   "outputs": [],
   "source": [
    "\n",
    "# Find peaks (adjust parameters as discussed previously)\n",
    "peaks, _ = find_peaks(df['Fz'],height=-400, distance=15)\n",
    "valleys, _ = find_peaks(-df['Fz'],height=400, distance=15)\n",
    "# Create the base line plot\n",
    "fig = px.line(df, y='Fz', title='Signal with Peaks')\n",
    "\n",
    "# Add the peaks to the plot\n",
    "fig.add_scatter(x=peaks, y=df['Fz'][peaks], mode='markers', marker=dict(size=8, color='red', symbol='cross'), name='Peaks')\n",
    "fig.add_scatter(x=valleys, y=df['Fz'][valleys], mode='markers', marker=dict(size=8, color='green', symbol='cross'), name='Valleys')\n",
    "\n",
    "# Show the plot\n",
    "fig.show()\n",
    "\n"
   ],
   "metadata": {
    "collapsed": false
   },
   "id": "e22fd43b15444908"
  },
  {
   "cell_type": "code",
   "execution_count": null,
   "outputs": [],
   "source": [
    "# Initialize the period column with NaN values\n",
    "df['Period'] = 0\n",
    "\n",
    "# Create a list of rows from the original DataFrame, duplicating the necessary peaks\n",
    "rows_list = []\n",
    "for i, row in df.iterrows():\n",
    "    rows_list.append(row)\n",
    "    if i in peaks[1:-1]:  # Only duplicate internal peaks\n",
    "        rows_list.append(row)\n",
    "\n",
    "# Convert the list of rows back into a DataFrame\n",
    "df = pd.DataFrame(rows_list).reset_index(drop=True)\n",
    "\n",
    "# The updated peaks' indices should account for the additional rows added\n",
    "offsets = np.cumsum([1 if idx in peaks[1:-1] else 0 for idx in peaks])\n",
    "updated_peaks = [peak + offset for peak, offset in zip(peaks, offsets)]\n",
    "\n",
    "# Assign period numbers using the updated peaks\n",
    "for i in range(len(updated_peaks)-1):\n",
    "    start = updated_peaks[i]\n",
    "    end = updated_peaks[i+1]\n",
    "    df.loc[start:end, 'Period'] = i + 1"
   ],
   "metadata": {
    "collapsed": false
   },
   "id": "8c1b495c76aa86a1"
  },
  {
   "cell_type": "code",
   "execution_count": null,
   "outputs": [],
   "source": [
    "df = df[df.Period != 0]"
   ],
   "metadata": {
    "collapsed": false
   },
   "id": "191ed3e41c49e4ed"
  },
  {
   "cell_type": "code",
   "execution_count": null,
   "outputs": [],
   "source": [
    "def interpolate_group(group):\n",
    "    # Generate 1000 data points for time\n",
    "    new_time = np.linspace(group['Time'].min(), group['Time'].max(), 1000)\n",
    "    new_df = pd.DataFrame({'Time': new_time})\n",
    "\n",
    "    # For each column (except 'Period'), interpolate the values based on 'Time'\n",
    "    for column in group.columns:\n",
    "        if column not in ['Period', 'Time']:\n",
    "            new_df[column] = np.interp(new_time, group['Time'], group[column])\n",
    "    \n",
    "    # Assign the period value for the new dataframe\n",
    "    new_df['Period'] = group['Period'].iloc[0]\n",
    "\n",
    "    return new_df\n",
    "\n",
    "# Apply the function to each group and concatenate results\n",
    "df = df.groupby('Period').apply(interpolate_group).reset_index(drop=True)"
   ],
   "metadata": {
    "collapsed": false
   },
   "id": "557425b127b47e40"
  },
  {
   "cell_type": "code",
   "execution_count": null,
   "outputs": [],
   "source": [
    "mean = df.groupby('Period').mean().reset_index()"
   ],
   "metadata": {
    "collapsed": false
   },
   "id": "9229907035525aa3"
  },
  {
   "cell_type": "code",
   "execution_count": null,
   "outputs": [],
   "source": [
    "df.Period = df['Period'].astype(str)\n",
    "mean.Period = mean['Period'].astype(str)"
   ],
   "metadata": {
    "collapsed": false
   },
   "id": "98a3fe522ae6c5e8"
  },
  {
   "cell_type": "code",
   "execution_count": null,
   "outputs": [],
   "source": [
    "# Create the first scatter plot\n",
    "fig = px.scatter(df, x='Fy', y='Fz', color='Period')\n",
    "\n",
    "# Create the scatter plot for the mean data\n",
    "fig2 = px.scatter(mean, x='Fy', y='Fz', color='Period')\n",
    "\n",
    "# Change the marker symbol for the mean data traces\n",
    "for trace in fig2.data:\n",
    "    trace.marker.symbol = 'star'\n",
    "    trace.marker.size = 10  # Adjust size as need\n",
    "\n",
    "# Add traces from the second scatter plot (with the different marker) to the first plot\n",
    "for trace in fig2.data:\n",
    "    fig.add_trace(trace)\n",
    "\n",
    "# Update the layout properties\n",
    "fig.update_layout(\n",
    "    xaxis=dict(\n",
    "        scaleanchor='y',\n",
    "        scaleratio=1\n",
    "    )\n",
    ")\n",
    "\n",
    "# Show the combined plot\n",
    "fig.show()"
   ],
   "metadata": {
    "collapsed": false
   },
   "id": "19ce2c3bd678d826"
  },
  {
   "cell_type": "code",
   "execution_count": null,
   "outputs": [],
   "source": [
    "mean.Period = mean['Period'].astype(float)\n",
    "fig = px.line(mean,x='Fy', y='Fz')#, color='Period')\n",
    "\n",
    "fig.update_layout(\n",
    "    xaxis=dict(\n",
    "        scaleanchor='y',\n",
    "        scaleratio=1,\n",
    "    )\n",
    ")\n",
    "# Show plot\n",
    "fig.show()"
   ],
   "metadata": {
    "collapsed": false
   },
   "id": "c3295b608728ec7c"
  },
  {
   "cell_type": "code",
   "execution_count": null,
   "outputs": [],
   "source": [
    "px.scatter(df_interpolated,x='Time', y='Fz', color='Period')"
   ],
   "metadata": {
    "collapsed": false
   },
   "id": "65f750c414e2c7cc"
  },
  {
   "cell_type": "markdown",
   "source": [
    "## Experiment 4\n",
    "I will redo the experiments using higher flapping frequencies, as from the last experiment we can see that there is indeed a force going upwards but its very low. So in this experiment I will focus on a good calibration of the wingbeat cycle and higher flapping frequencies."
   ],
   "metadata": {
    "collapsed": false
   },
   "id": "d8f036c52cc31651"
  },
  {
   "cell_type": "code",
   "execution_count": null,
   "outputs": [],
   "source": [
    "calib = df_calib3.mean()\n",
    "calib['Time'] = 0"
   ],
   "metadata": {
    "collapsed": false
   },
   "id": "7652a4e356c89a89"
  },
  {
   "cell_type": "code",
   "execution_count": null,
   "outputs": [],
   "source": [
    "df4 = read_measurements_df_6axis(port=sensor_port, duration=90)"
   ],
   "metadata": {
    "collapsed": false
   },
   "id": "86fd992d8d917186"
  },
  {
   "cell_type": "code",
   "execution_count": null,
   "outputs": [],
   "source": [
    "df4 = pd.read_csv('/home/anuarsantoyo/PycharmProjects/Batbot/analysis/forces/data/df4.csv')"
   ],
   "metadata": {
    "collapsed": false
   },
   "id": "10bce7dac16f324c"
  },
  {
   "cell_type": "code",
   "execution_count": null,
   "outputs": [],
   "source": [
    "df4 = df4 - calib"
   ],
   "metadata": {
    "collapsed": false
   },
   "id": "ebd53fdac63baaa2"
  },
  {
   "cell_type": "code",
   "execution_count": null,
   "outputs": [],
   "source": [
    "px.line(df4, x='Time', y=sensors_col)"
   ],
   "metadata": {
    "collapsed": false
   },
   "id": "2679fb09d4297910"
  },
  {
   "cell_type": "code",
   "execution_count": null,
   "outputs": [],
   "source": [
    "df4 = df4[(df4.Time >= 9.3) & (df4.Time <= 70.05)].reset_index(drop=True)"
   ],
   "metadata": {
    "collapsed": false
   },
   "id": "37e2366c9a803f14"
  },
  {
   "cell_type": "code",
   "execution_count": null,
   "outputs": [],
   "source": [
    "# Find peaks (adjust parameters as discussed previously)\n",
    "peaks, _ = find_peaks(df4['Fz'],height=-400, distance=10)\n",
    "valleys, _ = find_peaks(-df4['Fz'],height=400, distance=15)\n",
    "# Create the base line plot\n",
    "fig = px.line(df4, y='Fz', title='Signal with Peaks')\n",
    "\n",
    "# Add the peaks to the plot\n",
    "fig.add_scatter(x=peaks, y=df4['Fz'][peaks], mode='markers', marker=dict(size=8, color='red', symbol='cross'), name='Peaks')\n",
    "fig.add_scatter(x=valleys, y=df4['Fz'][valleys], mode='markers', marker=dict(size=8, color='green', symbol='cross'), name='Valleys')\n",
    "\n",
    "# Show the plot\n",
    "fig.show()"
   ],
   "metadata": {
    "collapsed": false
   },
   "id": "f23e07f4110dac8d"
  },
  {
   "cell_type": "code",
   "execution_count": null,
   "outputs": [],
   "source": [
    "# Initialize the period column with NaN values\n",
    "df4['Period'] = 0\n",
    "\n",
    "# Create a list of rows from the original DataFrame, duplicating the necessary peaks\n",
    "rows_list = []\n",
    "for i, row in df4.iterrows():\n",
    "    rows_list.append(row)\n",
    "    if i in peaks[1:-1]:  # Only duplicate internal peaks\n",
    "        rows_list.append(row)\n",
    "\n",
    "# Convert the list of rows back into a DataFrame\n",
    "df4 = pd.DataFrame(rows_list).reset_index(drop=True)\n",
    "\n",
    "# The updated peaks' indices should account for the additional rows added\n",
    "offsets = np.cumsum([1 if idx in peaks[1:-1] else 0 for idx in peaks])\n",
    "updated_peaks = [peak + offset for peak, offset in zip(peaks, offsets)]\n",
    "\n",
    "# Assign period numbers using the updated peaks\n",
    "for i in range(len(updated_peaks)-1):\n",
    "    start = updated_peaks[i]\n",
    "    end = updated_peaks[i+1]\n",
    "    df4.loc[start:end, 'Period'] = i + 1"
   ],
   "metadata": {
    "collapsed": false
   },
   "id": "e661772c98f8252d"
  },
  {
   "cell_type": "code",
   "execution_count": null,
   "outputs": [],
   "source": [
    "df4 = df4[df4.Period != 0]"
   ],
   "metadata": {
    "collapsed": false
   },
   "id": "97d1c9abbb19daca"
  },
  {
   "cell_type": "code",
   "execution_count": null,
   "outputs": [],
   "source": [
    "def interpolate_group(group):\n",
    "    # Generate 1000 data points for time\n",
    "    new_time = np.linspace(group['Time'].min(), group['Time'].max(), 1000)\n",
    "    new_df = pd.DataFrame({'Time': new_time})\n",
    "\n",
    "    # For each column (except 'Period'), interpolate the values based on 'Time'\n",
    "    for column in group.columns:\n",
    "        if column not in ['Period', 'Time']:\n",
    "            new_df[column] = np.interp(new_time, group['Time'], group[column])\n",
    "    \n",
    "    # Assign the period value for the new dataframe\n",
    "    new_df['Period'] = group['Period'].iloc[0]\n",
    "\n",
    "    return new_df\n",
    "\n",
    "# Apply the function to each group and concatenate results\n",
    "df4 = df4.groupby('Period').apply(interpolate_group).reset_index(drop=True)"
   ],
   "metadata": {
    "collapsed": false
   },
   "id": "7637e7aa56c14aa"
  },
  {
   "cell_type": "code",
   "execution_count": null,
   "outputs": [],
   "source": [
    "mean4 = df4.groupby('Period').mean().reset_index()\n",
    "df4.Period = df4['Period'].astype(str)\n",
    "mean4.Period = mean4['Period'].astype(str)"
   ],
   "metadata": {
    "collapsed": false
   },
   "id": "5424881845eecb5f"
  },
  {
   "cell_type": "code",
   "execution_count": null,
   "outputs": [],
   "source": [
    "# Create the first scatter plot\n",
    "fig = px.scatter(df4, x='Fy', y='Fz', color='Period')\n",
    "\n",
    "# Create the scatter plot for the mean data\n",
    "fig2 = px.scatter(mean4, x='Fy', y='Fz', color='Period')\n",
    "\n",
    "# Change the marker symbol for the mean data traces\n",
    "for trace in fig2.data:\n",
    "    trace.marker.symbol = 'star'\n",
    "    trace.marker.size = 10  # Adjust size as need\n",
    "\n",
    "# Add traces from the second scatter plot (with the different marker) to the first plot\n",
    "for trace in fig2.data:\n",
    "    fig.add_trace(trace)\n",
    "\n",
    "# Update the layout properties\n",
    "fig.update_layout(\n",
    "    xaxis=dict(\n",
    "        scaleanchor='y',\n",
    "        scaleratio=1\n",
    "    )\n",
    ")\n",
    "\n",
    "# Show the combined plot\n",
    "fig.show()"
   ],
   "metadata": {
    "collapsed": false
   },
   "id": "67c3fd61f35da381"
  },
  {
   "cell_type": "code",
   "execution_count": null,
   "outputs": [],
   "source": [
    "mean4.Period = mean4['Period'].astype(float)\n",
    "fig = px.scatter(mean4, x='Fy', y='Fz', color='Period')\n",
    "\n",
    "fig.update_layout(\n",
    "    xaxis=dict(\n",
    "        scaleanchor='y',\n",
    "        scaleratio=1,\n",
    "    )\n",
    ")\n",
    "# Show plot\n",
    "fig.show()"
   ],
   "metadata": {
    "collapsed": false
   },
   "id": "1c59e4c5d294f9ae"
  },
  {
   "cell_type": "code",
   "execution_count": null,
   "outputs": [],
   "source": [
    "df4.to_csv('/home/anuarsantoyo/PycharmProjects/Batbot/analysis/forces/data/df4.csv', index=False)\n",
    "mean4.to_csv('/home/anuarsantoyo/PycharmProjects/Batbot/analysis/forces/data/mean4.csv')"
   ],
   "metadata": {
    "collapsed": false
   },
   "id": "a681c44804fe03e6"
  },
  {
   "cell_type": "markdown",
   "source": [
    "## Weight measurement\n",
    "I wish to see only how much does the Batbot weight and compare it to the results of Experiment 4 to see how much is the Batbot actually lifting while flapping."
   ],
   "metadata": {
    "collapsed": false
   },
   "id": "9f0143a3ebd1965e"
  },
  {
   "cell_type": "code",
   "execution_count": null,
   "outputs": [],
   "source": [
    "df_weigth = read_measurements_df_6axis(port=sensor_port, duration=10, calibration=True)"
   ],
   "metadata": {
    "collapsed": false
   },
   "id": "d10c396e8ea9ff08"
  },
  {
   "cell_type": "code",
   "execution_count": null,
   "outputs": [],
   "source": [
    "fig = px.scatter(df_weight, x='Fy', y='Fz')\n",
    "\n",
    "fig.update_layout(\n",
    "    xaxis=dict(\n",
    "        scaleanchor='y',\n",
    "        scaleratio=1,\n",
    "    )\n",
    ")\n",
    "# Show plot\n",
    "fig.show()"
   ],
   "metadata": {
    "collapsed": false
   },
   "id": "91c81d83e40d7d15"
  },
  {
   "cell_type": "markdown",
   "source": [
    "## Experiment 6\n",
    "I analyze the forces when activating the legs to what I consider to be the most logicall leg movement going from motor [260, 285]:\n",
    "leg_y = 90\n",
    "leg_y_amplitude = 30\n",
    "leg_x = 40\n",
    "leg_x_amplitude = 30\n",
    "ellipse_angle = 1"
   ],
   "metadata": {
    "collapsed": false
   },
   "id": "44f25008ae4ccd80"
  },
  {
   "cell_type": "code",
   "execution_count": null,
   "outputs": [],
   "source": [
    "df5 = read_measurements_df_6axis(port=sensor_port, duration=90, calibration=True)"
   ],
   "metadata": {
    "collapsed": false
   },
   "id": "be13abe0b82bdef1"
  },
  {
   "cell_type": "code",
   "execution_count": null,
   "outputs": [],
   "source": [
    "df5.to_csv('/home/anuarsantoyo/PycharmProjects/Batbot/analysis/forces/data/df5.csv', index=False)"
   ],
   "metadata": {
    "collapsed": false
   },
   "id": "c3a60daf0cdbe2a2"
  },
  {
   "cell_type": "code",
   "execution_count": null,
   "outputs": [],
   "source": [
    "df5 = pd.read_csv('/home/anuarsantoyo/PycharmProjects/Batbot/analysis/forces/data/df5.csv')"
   ],
   "metadata": {
    "collapsed": false
   },
   "id": "20f7af9a923a0829"
  },
  {
   "cell_type": "code",
   "execution_count": null,
   "outputs": [],
   "source": [
    "px.line(df5, x='Time', y=sensors_col)"
   ],
   "metadata": {
    "collapsed": false
   },
   "id": "2a61c87b807dce07"
  },
  {
   "cell_type": "code",
   "execution_count": null,
   "outputs": [],
   "source": [
    "df5 = df5[(df5.Time >= 7.6) & (df5.Time <= 70.93)].reset_index(drop=True)\n",
    "# Find peaks (adjust parameters as discussed previously)\n",
    "peaks, _ = find_peaks(df5['Fz'], height=-400, distance=10)\n",
    "valleys, _ = find_peaks(-df5['Fz'], height=400, distance=15)\n",
    "# Create the base line plot\n",
    "fig = px.line(df5, y='Fz', title='Signal with Peaks')\n",
    "\n",
    "# Add the peaks to the plot\n",
    "fig.add_scatter(x=peaks, y=df5['Fz'][peaks], mode='markers', marker=dict(size=8, color='red', symbol='cross'),\n",
    "                name='Peaks')\n",
    "fig.add_scatter(x=valleys, y=df5['Fz'][valleys], mode='markers', marker=dict(size=8, color='green', symbol='cross'),\n",
    "                name='Valleys')\n",
    "\n",
    "# Show the plot\n",
    "fig.show()"
   ],
   "metadata": {
    "collapsed": false
   },
   "id": "3e7503f3f14f772c"
  },
  {
   "cell_type": "code",
   "execution_count": null,
   "outputs": [],
   "source": [
    "\n",
    "# Initialize the period column with NaN values\n",
    "df5['Period'] = 0\n",
    "\n",
    "# Create a list of rows from the original DataFrame, duplicating the necessary peaks\n",
    "rows_list = []\n",
    "for i, row in df5.iterrows():\n",
    "    rows_list.append(row)\n",
    "    if i in peaks[1:-1]:  # Only duplicate internal peaks\n",
    "        rows_list.append(row)\n",
    "\n",
    "# Convert the list of rows back into a DataFrame\n",
    "df5 = pd.DataFrame(rows_list).reset_index(drop=True)\n",
    "\n",
    "# The updated peaks' indices should account for the additional rows added\n",
    "offsets = np.cumsum([1 if idx in peaks[1:-1] else 0 for idx in peaks])\n",
    "updated_peaks = [peak + offset for peak, offset in zip(peaks, offsets)]\n",
    "\n",
    "# Assign period numbers using the updated peaks\n",
    "for i in range(len(updated_peaks) - 1):\n",
    "    start = updated_peaks[i]\n",
    "    end = updated_peaks[i + 1]\n",
    "    df5.loc[start:end, 'Period'] = i + 1\n",
    "df5 = df5[df5.Period != 0]\n",
    "\n",
    "\n",
    "def interpolate_group(group):\n",
    "    # Generate 1000 data points for time\n",
    "    new_time = np.linspace(group['Time'].min(), group['Time'].max(), 1000)\n",
    "    new_df = pd.DataFrame({'Time': new_time})\n",
    "\n",
    "    # For each column (except 'Period'), interpolate the values based on 'Time'\n",
    "    for column in group.columns:\n",
    "        if column not in ['Period', 'Time']:\n",
    "            new_df[column] = np.interp(new_time, group['Time'], group[column])\n",
    "\n",
    "    # Assign the period value for the new dataframe\n",
    "    new_df['Period'] = group['Period'].iloc[0]\n",
    "\n",
    "    return new_df\n",
    "\n",
    "\n",
    "# Apply the function to each group and concatenate results\n",
    "df5 = df5.groupby('Period').apply(interpolate_group).reset_index(drop=True)\n",
    "mean5 = df5.groupby('Period').mean().reset_index()\n",
    "df5.Period = df5['Period'].astype(str)\n",
    "mean5.Period = mean5['Period'].astype(str)\n",
    "# Create the first scatter plot\n",
    "fig = px.scatter(df5, x='Fy', y='Fz', color='Period')\n",
    "\n",
    "# Create the scatter plot for the mean data\n",
    "fig2 = px.scatter(mean5, x='Fy', y='Fz', color='Period')\n",
    "\n",
    "# Change the marker symbol for the mean data traces\n",
    "for trace in fig2.data:\n",
    "    trace.marker.symbol = 'star'\n",
    "    trace.marker.size = 10  # Adjust size as need\n",
    "\n",
    "# Add traces from the second scatter plot (with the different marker) to the first plot\n",
    "for trace in fig2.data:\n",
    "    fig.add_trace(trace)\n",
    "\n",
    "# Update the layout properties\n",
    "fig.update_layout(\n",
    "    xaxis=dict(\n",
    "        scaleanchor='y',\n",
    "        scaleratio=1\n",
    "    )\n",
    ")\n",
    "\n",
    "# Show the combined plot\n",
    "fig.show()\n",
    "mean5.Period = mean5['Period'].astype(float)\n",
    "fig = px.scatter(mean5, x='Fy', y='Fz', color='Period')\n",
    "\n",
    "fig.update_layout(\n",
    "    xaxis=dict(\n",
    "        scaleanchor='y',\n",
    "        scaleratio=1,\n",
    "    )\n",
    ")\n",
    "# Show plot\n",
    "fig.show()"
   ],
   "metadata": {
    "collapsed": false
   },
   "id": "2d4757eb9e4bbee6"
  },
  {
   "cell_type": "code",
   "execution_count": null,
   "outputs": [],
   "source": [
    "df5.to_csv('/home/anuarsantoyo/PycharmProjects/Batbot/analysis/forces/data/df5.csv', index=False)\n",
    "mean5.to_csv('/home/anuarsantoyo/PycharmProjects/Batbot/analysis/forces/data/mean5.csv')"
   ],
   "metadata": {
    "collapsed": false
   },
   "id": "4e6ecfa9d32faa75"
  },
  {
   "cell_type": "markdown",
   "source": [
    "## Experiment 7\n",
    "I am going to activate the motor from 260 and 280 to best create the new fitness function, the main focus of this experiment is to tune the peak finding algorithm to slice the data from a peak to a valley.\n",
    "Parameters:\n",
    "leg_y = 90\n",
    "leg_y_amplitude = 30\n",
    "leg_x = 40  # 50-140\n",
    "leg_x_amplitude = 30\n",
    "ellipse_angle = 1\n",
    "motor = 260"
   ],
   "metadata": {
    "collapsed": false
   },
   "id": "20cd8f465b36dae1"
  },
  {
   "cell_type": "code",
   "execution_count": null,
   "outputs": [],
   "source": [
    "df_slow = read_measurements_df_6axis(port=sensor_port, duration=5, calibration=True)"
   ],
   "metadata": {
    "collapsed": false
   },
   "id": "d6a4b2d509e8efb9"
  },
  {
   "cell_type": "code",
   "execution_count": null,
   "outputs": [],
   "source": [
    "df_fast = read_measurements_df_6axis(port=sensor_port, duration=5, calibration=True)"
   ],
   "metadata": {
    "collapsed": false
   },
   "id": "ab7bb8c1f5ff1560"
  },
  {
   "cell_type": "code",
   "execution_count": null,
   "outputs": [],
   "source": [
    "df_slow.to_csv('/home/anuarsantoyo/PycharmProjects/Batbot/analysis/forces/data/df_slow.csv', index=False)"
   ],
   "metadata": {
    "collapsed": false
   },
   "id": "ad06f0b2da550d1f"
  },
  {
   "cell_type": "code",
   "execution_count": null,
   "outputs": [],
   "source": [
    "df_fast.to_csv('/home/anuarsantoyo/PycharmProjects/Batbot/analysis/forces/data/df_fast.csv', index=False)"
   ],
   "metadata": {
    "collapsed": false
   },
   "id": "19698175a26250d9"
  },
  {
   "cell_type": "markdown",
   "source": [
    "### Fitness Function\n",
    "Using df_slow and df_fast I would like to create the new fitnes function"
   ],
   "metadata": {
    "collapsed": false
   },
   "id": "b491e15fbf092905"
  },
  {
   "cell_type": "code",
   "execution_count": 108,
   "outputs": [],
   "source": [
    "df_slow = pd.read_csv('/home/anuarsantoyo/PycharmProjects/Batbot/analysis/forces/data/df_slow.csv')\n",
    "df_fast = pd.read_csv('/home/anuarsantoyo/PycharmProjects/Batbot/analysis/forces/data/df_fast.csv')"
   ],
   "metadata": {
    "collapsed": false,
    "ExecuteTime": {
     "end_time": "2023-11-07T08:09:55.730866613Z",
     "start_time": "2023-11-07T08:09:55.682506038Z"
    }
   },
   "id": "a7fe59b863a5ece7"
  },
  {
   "cell_type": "code",
   "execution_count": 13,
   "outputs": [],
   "source": [
    "df_new = read_measurements_df_6axis(port=sensor_port, duration=5, calibration=True)"
   ],
   "metadata": {
    "collapsed": false,
    "ExecuteTime": {
     "end_time": "2023-11-08T08:36:50.476443118Z",
     "start_time": "2023-11-08T08:36:45.463332731Z"
    }
   },
   "id": "faf9e968184d203f"
  },
  {
   "cell_type": "code",
   "execution_count": 15,
   "outputs": [],
   "source": [
    "df_new.to_csv('/home/anuarsantoyo/PycharmProjects/Batbot/analysis/forces/data/df_mounted.csv', index=False)"
   ],
   "metadata": {
    "collapsed": false,
    "ExecuteTime": {
     "end_time": "2023-11-08T08:37:46.823549652Z",
     "start_time": "2023-11-08T08:37:46.780783618Z"
    }
   },
   "id": "813c04c04dc02a78"
  },
  {
   "cell_type": "code",
   "execution_count": 16,
   "outputs": [
    {
     "data": {
      "text/plain": "<Axes: xlabel='Time'>"
     },
     "execution_count": 16,
     "metadata": {},
     "output_type": "execute_result"
    },
    {
     "data": {
      "text/plain": "<Figure size 640x480 with 1 Axes>",
      "image/png": "[encoded data removed]"
     },
     "metadata": {},
     "output_type": "display_data"
    }
   ],
   "source": [
    "df_new.plot(x='Time')"
   ],
   "metadata": {
    "collapsed": false,
    "ExecuteTime": {
     "end_time": "2023-11-08T08:37:51.846097413Z",
     "start_time": "2023-11-08T08:37:51.659911734Z"
    }
   },
   "id": "cd855d79fb8a50fe"
  },
  {
   "cell_type": "code",
   "execution_count": 131,
   "outputs": [
    {
     "ename": "IndexError",
     "evalue": "index 0 is out of bounds for axis 0 with size 0",
     "output_type": "error",
     "traceback": [
      "\u001B[0;31m---------------------------------------------------------------------------\u001B[0m",
      "\u001B[0;31mIndexError\u001B[0m                                Traceback (most recent call last)",
      "Cell \u001B[0;32mIn[131], line 5\u001B[0m\n\u001B[1;32m      3\u001B[0m \u001B[38;5;66;03m# Find peaks (adjust parameters as discussed previously)\u001B[39;00m\n\u001B[1;32m      4\u001B[0m peaks, _ \u001B[38;5;241m=\u001B[39m find_peaks(df[\u001B[38;5;124m'\u001B[39m\u001B[38;5;124mFz\u001B[39m\u001B[38;5;124m'\u001B[39m], height\u001B[38;5;241m=\u001B[39m\u001B[38;5;241m-\u001B[39m\u001B[38;5;241m400\u001B[39m, distance\u001B[38;5;241m=\u001B[39m\u001B[38;5;241m10\u001B[39m)\n\u001B[0;32m----> 5\u001B[0m df_sliced \u001B[38;5;241m=\u001B[39m df\u001B[38;5;241m.\u001B[39miloc[\u001B[43mpeaks\u001B[49m\u001B[43m[\u001B[49m\u001B[38;5;241;43m0\u001B[39;49m\u001B[43m]\u001B[49m:peaks[\u001B[38;5;241m-\u001B[39m\u001B[38;5;241m1\u001B[39m]\u001B[38;5;241m+\u001B[39m\u001B[38;5;241m1\u001B[39m]\u001B[38;5;241m.\u001B[39mreset_index(drop\u001B[38;5;241m=\u001B[39m\u001B[38;5;28;01mTrue\u001B[39;00m)\n\u001B[1;32m      6\u001B[0m \u001B[38;5;66;03m# Now create the new time series with 1000 points\u001B[39;00m\n\u001B[1;32m      7\u001B[0m new_time \u001B[38;5;241m=\u001B[39m np\u001B[38;5;241m.\u001B[39mlinspace(df_sliced[\u001B[38;5;124m'\u001B[39m\u001B[38;5;124mTime\u001B[39m\u001B[38;5;124m'\u001B[39m]\u001B[38;5;241m.\u001B[39mmin(), df_sliced[\u001B[38;5;124m'\u001B[39m\u001B[38;5;124mTime\u001B[39m\u001B[38;5;124m'\u001B[39m]\u001B[38;5;241m.\u001B[39mmax(), \u001B[38;5;241m1000\u001B[39m)       \n",
      "\u001B[0;31mIndexError\u001B[0m: index 0 is out of bounds for axis 0 with size 0"
     ]
    }
   ],
   "source": [
    "df = df_new.copy()\n",
    "plot = False\n",
    "# Find peaks (adjust parameters as discussed previously)\n",
    "peaks, _ = find_peaks(df['Fz'], height=-400, distance=10)\n",
    "df_sliced = df.iloc[peaks[0]:peaks[-1]+1].reset_index(drop=True)\n",
    "# Now create the new time series with 1000 points\n",
    "new_time = np.linspace(df_sliced['Time'].min(), df_sliced['Time'].max(), 1000)       \n",
    "# Initialize a new DataFrame to store the interpolated values\n",
    "interpolated_df = pd.DataFrame(index=new_time)\n",
    "\n",
    "# Interpolate each sensor column\n",
    "for column in df_sliced.columns:\n",
    "    if column != 'Time':\n",
    "        # Create the interpolation function\n",
    "        interp_func = interp1d(df_sliced['Time'], df_sliced[column], kind='linear', fill_value='extrapolate')\n",
    "        # Apply the interpolation function to the new time series\n",
    "        interpolated_df[column] = interp_func(new_time)\n",
    "\n",
    "# Reset the index to make 'Time' a column again\n",
    "interpolated_df.reset_index(inplace=True)\n",
    "interpolated_df.rename(columns={'index': 'Time'}, inplace=True)\n",
    "\n",
    "# interpolated_df now contains 1000 interpolated data points based on the 'Time' column.\n",
    "\n",
    "Fy, Fz = interpolated_df.mean()[['Fy','Fz']]\n",
    "score = np.sqrt(Fy**2+Fz**2)\n",
    "\n",
    "if plot:\n",
    "    # Create the base line plot\n",
    "    fig, (ax1, ax2) = plt.subplots(1, 2, figsize=(10, 4))\n",
    "    # Plot 'Fz' column\n",
    "    ax1.plot(df['Time'], df['Fz'], label='Fz')\n",
    "    ax1.plot(df['Time'], df['Fy'], label='Fy', zorder=1)\n",
    "    # Plot the peaks\n",
    "    ax1.scatter(df['Time'][peaks], df['Fz'][peaks], color='red', s=10, label='Peaks', zorder=5)\n",
    "    # Adding title and labels\n",
    "    ax1.legend()\n",
    "    ax1.set_title('Peaks found')\n",
    "    ax1.set_xlabel('Time')\n",
    "    ax1.set_ylabel('Force')\n",
    "    # Setting up a simple plot with equal scaling on the axes\n",
    "    # Setting the aspect of the plot to be equal.\n",
    "    ax2.set_aspect('equal', adjustable='box')\n",
    "    \n",
    "    # Drawing a simple line for demonstration\n",
    "    ax2.plot(df_sliced.Fy, df_sliced.Fz, zorder=1)\n",
    "    ax2.scatter(Fy, Fz, c='r', marker='*')\n",
    "    ax2.scatter(0, 0, c='g', marker='+')\n",
    "    ax2.arrow(0, 0, Fy, Fz, head_width=40, head_length=40)\n",
    "    \n",
    "    # Setting labels for the axes\n",
    "    ax2.set_xlabel('Fy')\n",
    "    ax2.set_ylabel('Fz')\n",
    "    ax2.set_xlim(-500, 500)\n",
    "    ax2.set_ylim(-1000, 500)\n",
    "    ax2.set_title(f'Score: {round(score,2)}')\n",
    "    \n",
    "    # Display the plot\n",
    "    plt.show()"
   ],
   "metadata": {
    "collapsed": false,
    "ExecuteTime": {
     "end_time": "2023-11-07T11:38:54.269697689Z",
     "start_time": "2023-11-07T11:38:54.242297261Z"
    }
   },
   "id": "bc769d41f12df55"
  },
  {
   "cell_type": "code",
   "execution_count": 134,
   "outputs": [
    {
     "data": {
      "text/plain": "648.8226051274577"
     },
     "execution_count": 134,
     "metadata": {},
     "output_type": "execute_result"
    }
   ],
   "source": [
    "np.sqrt(df_new.mean().Fy**2 + df_new.mean().Fz**2)"
   ],
   "metadata": {
    "collapsed": false,
    "ExecuteTime": {
     "end_time": "2023-11-07T11:39:52.451970371Z",
     "start_time": "2023-11-07T11:39:52.404431881Z"
    }
   },
   "id": "3e1359b71233b693"
  },
  {
   "cell_type": "markdown",
   "source": [
    "# Leg movement analysis\n",
    "I did the first optimization experiments and the legs were doing weird movements. I want to look deeper in the leg motion algorithm "
   ],
   "metadata": {
    "collapsed": false
   },
   "id": "959c572f5f72b851"
  },
  {
   "cell_type": "markdown",
   "source": [
    "max values\n",
    "x: 40-140\n",
    "y: 30-150\n",
    "leg_x = [40, 140]\n",
    "leg_y =  [30, 150]\n",
    "leg_x_amplitude = [0, 50]\n",
    "leg_y_amplitude = [0, 60]"
   ],
   "metadata": {
    "collapsed": false
   },
   "id": "d48dd700ba55104d"
  },
  {
   "cell_type": "code",
   "execution_count": 52,
   "outputs": [
    {
     "data": {
      "text/plain": "<Figure size 640x480 with 1 Axes>",
      "image/png": "[encoded data removed]"
     },
     "metadata": {},
     "output_type": "display_data"
    }
   ],
   "source": [
    "leg_y = 90  # [30, 150]\n",
    "leg_y_amplitude = 30  # [0, 60]\n",
    "leg_x = 80  # [40, 140]\n",
    "leg_x_amplitude = 30  # [0, 50]\n",
    "ellipse_angle = 0.4  # [0, 1]\n",
    "pi_cyc = np.linspace(0,2*np.pi,1000)\n",
    "y_theta = leg_y - leg_y_amplitude * np.cos(pi_cyc)  # Calculate angle from body plane to leg in vertical\n",
    "y_theta = np.where(y_theta < 40, 40, y_theta)\n",
    "y_theta = np.where(y_theta > 140, 140, y_theta)\n",
    "LL_y_angle = y_theta\n",
    "RL_y_angle = 180 - y_theta  # Invert for right leg\n",
    "# Calculate angle from body plane to leg in vertical\n",
    "x_theta = leg_x + leg_x_amplitude * np.sin(pi_cyc + 2 * np.pi * ellipse_angle)\n",
    "\n",
    "x_theta = np.where(x_theta < 40, 40, x_theta)\n",
    "x_theta = np.where(x_theta > 120, 120, x_theta)\n",
    "\n",
    "RL_x_angle = x_theta\n",
    "LL_x_angle = 180 - RL_x_angle\n",
    "\n",
    "\n",
    "plt.scatter(x_theta,y_theta, c=np.linspace(0,1,1000), cmap='viridis')\n",
    "plt.xlim(40,120)\n",
    "plt.ylim(30,150)\n",
    "plt.show()"
   ],
   "metadata": {
    "collapsed": false,
    "ExecuteTime": {
     "end_time": "2023-11-08T07:38:54.116576747Z",
     "start_time": "2023-11-08T07:38:53.979026299Z"
    }
   },
   "id": "ac16af5ed47b6bad"
  },
  {
   "cell_type": "markdown",
   "source": [
    "This are the parameters that were chosen for the next tests\n",
    "\n",
    "leg_x = np.interp(leg_x, [0, 1], [40, 120])\n",
    "leg_y = np.interp(leg_y, [0, 1], [30, 150])\n",
    "leg_x_amplitude = np.interp(leg_x_amplitude, [0, 1], [0, 40])\n",
    "leg_y_amplitude = np.interp(leg_y_amplitude, [0, 1], [0, 60])\n",
    "\n",
    "Fazit:\n",
    "I discovered that the weird behaviour I saw was the result of the combination of a diagonal movement and the border boundaries."
   ],
   "metadata": {
    "collapsed": false
   },
   "id": "7c8c965d26d12f8c"
  }
 ],
 "metadata": {
  "kernelspec": {
   "display_name": "Python 3",
   "language": "python",
   "name": "python3"
  },
  "language_info": {
   "codemirror_mode": {
    "name": "ipython",
    "version": 2
   },
   "file_extension": ".py",
   "mimetype": "text/x-python",
   "name": "python",
   "nbconvert_exporter": "python",
   "pygments_lexer": "ipython2",
   "version": "2.7.6"
  }
 },
 "nbformat": 4,
 "nbformat_minor": 5
}
