{
 "cells": [
  {
   "cell_type": "code",
   "execution_count": 3,
   "metadata": {
    "collapsed": true,
    "ExecuteTime": {
     "start_time": "2023-04-10T17:06:48.511681Z",
     "end_time": "2023-04-10T17:06:49.008538Z"
    }
   },
   "outputs": [
    {
     "ename": "DaqError",
     "evalue": "Device identifier is invalid.\nDevice Specified: dev\n\nTask Name: _unnamedTask<1>\n\nStatus Code: -200220",
     "output_type": "error",
     "traceback": [
      "\u001B[0;31m---------------------------------------------------------------------------\u001B[0m",
      "\u001B[0;31mDaqError\u001B[0m                                  Traceback (most recent call last)",
      "Cell \u001B[0;32mIn[3], line 3\u001B[0m\n\u001B[1;32m      1\u001B[0m \u001B[38;5;28;01mwith\u001B[39;00m nidaqmx\u001B[38;5;241m.\u001B[39mTask() \u001B[38;5;28;01mas\u001B[39;00m task:\n\u001B[0;32m----> 3\u001B[0m     \u001B[43mtask\u001B[49m\u001B[38;5;241;43m.\u001B[39;49m\u001B[43mai_channels\u001B[49m\u001B[38;5;241;43m.\u001B[39;49m\u001B[43madd_ai_voltage_chan\u001B[49m\u001B[43m(\u001B[49m\u001B[38;5;124;43m\"\u001B[39;49m\u001B[38;5;124;43m/dev/ttyACM0\u001B[39;49m\u001B[38;5;124;43m\"\u001B[39;49m\u001B[43m)\u001B[49m\n",
      "File \u001B[0;32m~/PycharmProjects/Batbot/venv/lib/python3.10/site-packages/nidaqmx/_task_modules/ai_channel_collection.py:2603\u001B[0m, in \u001B[0;36mAIChannelCollection.add_ai_voltage_chan\u001B[0;34m(self, physical_channel, name_to_assign_to_channel, terminal_config, min_val, max_val, units, custom_scale_name)\u001B[0m\n\u001B[1;32m   2594\u001B[0m             cfunc\u001B[38;5;241m.\u001B[39margtypes \u001B[38;5;241m=\u001B[39m [\n\u001B[1;32m   2595\u001B[0m                 lib_importer\u001B[38;5;241m.\u001B[39mtask_handle, ctypes_byte_str,\n\u001B[1;32m   2596\u001B[0m                 ctypes_byte_str, ctypes\u001B[38;5;241m.\u001B[39mc_int, ctypes\u001B[38;5;241m.\u001B[39mc_double,\n\u001B[1;32m   2597\u001B[0m                 ctypes\u001B[38;5;241m.\u001B[39mc_double, ctypes\u001B[38;5;241m.\u001B[39mc_int, ctypes_byte_str]\n\u001B[1;32m   2599\u001B[0m error_code \u001B[38;5;241m=\u001B[39m cfunc(\n\u001B[1;32m   2600\u001B[0m     \u001B[38;5;28mself\u001B[39m\u001B[38;5;241m.\u001B[39m_handle, physical_channel, name_to_assign_to_channel,\n\u001B[1;32m   2601\u001B[0m     terminal_config\u001B[38;5;241m.\u001B[39mvalue, min_val, max_val, units\u001B[38;5;241m.\u001B[39mvalue,\n\u001B[1;32m   2602\u001B[0m     custom_scale_name)\n\u001B[0;32m-> 2603\u001B[0m \u001B[43mcheck_for_error\u001B[49m\u001B[43m(\u001B[49m\u001B[43merror_code\u001B[49m\u001B[43m)\u001B[49m\n\u001B[1;32m   2605\u001B[0m \u001B[38;5;28;01mreturn\u001B[39;00m \u001B[38;5;28mself\u001B[39m\u001B[38;5;241m.\u001B[39m_create_chan(physical_channel, name_to_assign_to_channel)\n",
      "File \u001B[0;32m~/PycharmProjects/Batbot/venv/lib/python3.10/site-packages/nidaqmx/errors.py:183\u001B[0m, in \u001B[0;36mcheck_for_error\u001B[0;34m(error_code, samps_per_chan_written, samps_per_chan_read)\u001B[0m\n\u001B[1;32m    181\u001B[0m         \u001B[38;5;28;01mraise\u001B[39;00m DaqWriteError(error_buffer\u001B[38;5;241m.\u001B[39mvalue\u001B[38;5;241m.\u001B[39mdecode(\u001B[38;5;124m\"\u001B[39m\u001B[38;5;124mutf-8\u001B[39m\u001B[38;5;124m\"\u001B[39m), error_code, samps_per_chan_written)\n\u001B[1;32m    182\u001B[0m     \u001B[38;5;28;01melse\u001B[39;00m:\n\u001B[0;32m--> 183\u001B[0m         \u001B[38;5;28;01mraise\u001B[39;00m DaqError(error_buffer\u001B[38;5;241m.\u001B[39mvalue\u001B[38;5;241m.\u001B[39mdecode(\u001B[38;5;124m\"\u001B[39m\u001B[38;5;124mutf-8\u001B[39m\u001B[38;5;124m\"\u001B[39m), error_code)\n\u001B[1;32m    185\u001B[0m \u001B[38;5;28;01melif\u001B[39;00m error_code \u001B[38;5;241m>\u001B[39m \u001B[38;5;241m0\u001B[39m:\n\u001B[1;32m    186\u001B[0m     error_buffer \u001B[38;5;241m=\u001B[39m ctypes\u001B[38;5;241m.\u001B[39mcreate_string_buffer(\u001B[38;5;241m2048\u001B[39m)\n",
      "\u001B[0;31mDaqError\u001B[0m: Device identifier is invalid.\nDevice Specified: dev\n\nTask Name: _unnamedTask<1>\n\nStatus Code: -200220"
     ]
    }
   ],
   "source": [
    "import nidaqmx\n",
    "\n",
    "with nidaqmx.Task() as task:\n",
    "\n",
    "    task.ai_channels.add_ai_voltage_chan(\"Device 5/ai0\")\n"
   ]
  },
  {
   "cell_type": "code",
   "execution_count": 24,
   "outputs": [],
   "source": [
    "import time\n",
    "import serial\n",
    "\n",
    "ardu= serial.Serial('/dev/ttyACM1',9600, timeout=.1)"
   ],
   "metadata": {
    "collapsed": false,
    "ExecuteTime": {
     "start_time": "2023-04-10T17:12:16.702152Z",
     "end_time": "2023-04-10T17:12:16.744659Z"
    }
   }
  },
  {
   "cell_type": "code",
   "execution_count": 25,
   "outputs": [
    {
     "data": {
      "text/plain": "Serial<id=0x7fac66434e50, open=True>(port='/dev/ttyACM1', baudrate=9600, bytesize=8, parity='N', stopbits=1, timeout=0.1, xonxoff=False, rtscts=False, dsrdtr=False)"
     },
     "execution_count": 25,
     "metadata": {},
     "output_type": "execute_result"
    }
   ],
   "source": [
    "ardu"
   ],
   "metadata": {
    "collapsed": false,
    "ExecuteTime": {
     "start_time": "2023-04-10T17:12:17.325718Z",
     "end_time": "2023-04-10T17:12:17.332383Z"
    }
   }
  },
  {
   "cell_type": "code",
   "execution_count": null,
   "outputs": [],
   "source": [
    "\n",
    "time.sleep(1)\n",
    "ardu.write('s'.encode())\n",
    "time.sleep(1)\n",
    "#ardu.close()\n",
    "\n",
    "\n",
    "foo()"
   ],
   "metadata": {
    "collapsed": false
   }
  }
 ],
 "metadata": {
  "kernelspec": {
   "display_name": "Python 3",
   "language": "python",
   "name": "python3"
  },
  "language_info": {
   "codemirror_mode": {
    "name": "ipython",
    "version": 2
   },
   "file_extension": ".py",
   "mimetype": "text/x-python",
   "name": "python",
   "nbconvert_exporter": "python",
   "pygments_lexer": "ipython2",
   "version": "2.7.6"
  }
 },
 "nbformat": 4,
 "nbformat_minor": 0
}
