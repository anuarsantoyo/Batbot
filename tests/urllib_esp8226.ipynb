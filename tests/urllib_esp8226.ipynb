{
 "cells": [
  {
   "cell_type": "code",
   "execution_count": 1,
   "metadata": {
    "collapsed": true,
    "ExecuteTime": {
     "end_time": "2023-07-05T08:28:57.539394266Z",
     "start_time": "2023-07-05T08:28:57.533800998Z"
    }
   },
   "outputs": [],
   "source": [
    "import urllib.request\n",
    "import numpy as np"
   ]
  },
  {
   "cell_type": "code",
   "execution_count": 11,
   "outputs": [
    {
     "name": "stdout",
     "output_type": "stream",
     "text": [
      "/dev/ttyUSB0        \r\n",
      "1 ports found\r\n"
     ]
    }
   ],
   "source": [
    "!python -m serial.tools.list_ports"
   ],
   "metadata": {
    "collapsed": false,
    "ExecuteTime": {
     "end_time": "2023-07-05T08:36:50.041451874Z",
     "start_time": "2023-07-05T08:36:49.893008463Z"
    }
   }
  },
  {
   "cell_type": "code",
   "execution_count": 12,
   "outputs": [],
   "source": [
    "motor = np.interp(0, [0, 1], [500, 700])\n",
    "attack_angle = np.interp(1, [0, 1], [1150, 1450])\n",
    "neutral_state = np.interp(0.5, [0, 1], [1213, 1637])\n",
    "amplitude = np.interp(0.5, [0, 1], [0, 213])\n",
    "ip_address = '192.168.43.130'\n",
    "try:\n",
    "     urllib.request.urlopen(f\"http://{ip_address}/${motor},\"\n",
    "                                      f\"{attack_angle},\"\n",
    "                                      f\"{neutral_state},\"\n",
    "                                      f\"{amplitude}!\",timeout=1)\n",
    "except TimeoutError:\n",
    "    pass"
   ],
   "metadata": {
    "collapsed": false,
    "ExecuteTime": {
     "end_time": "2023-07-05T11:35:26.307885146Z",
     "start_time": "2023-07-05T11:35:24.713317845Z"
    }
   }
  }
 ],
 "metadata": {
  "kernelspec": {
   "display_name": "Python 3",
   "language": "python",
   "name": "python3"
  },
  "language_info": {
   "codemirror_mode": {
    "name": "ipython",
    "version": 2
   },
   "file_extension": ".py",
   "mimetype": "text/x-python",
   "name": "python",
   "nbconvert_exporter": "python",
   "pygments_lexer": "ipython2",
   "version": "2.7.6"
  }
 },
 "nbformat": 4,
 "nbformat_minor": 0
}
