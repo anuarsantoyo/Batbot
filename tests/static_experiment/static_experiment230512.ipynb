{
 "cells": [
  {
   "cell_type": "code",
   "execution_count": 27,
   "metadata": {
    "collapsed": true,
    "ExecuteTime": {
     "end_time": "2023-05-21T08:55:56.169691948Z",
     "start_time": "2023-05-21T08:55:56.169247369Z"
    }
   },
   "outputs": [],
   "source": [
    "import numpy as np\n",
    "import os\n",
    "import pandas as pd\n",
    "import plotly.express as px\n",
    "import glob"
   ]
  },
  {
   "cell_type": "code",
   "execution_count": 81,
   "outputs": [],
   "source": [
    "files = glob.glob('data/exp_1_csv/*.csv')"
   ],
   "metadata": {
    "collapsed": false,
    "ExecuteTime": {
     "end_time": "2023-05-21T09:39:30.759671188Z",
     "start_time": "2023-05-21T09:39:30.755324157Z"
    }
   }
  },
  {
   "cell_type": "code",
   "execution_count": 82,
   "outputs": [],
   "source": [
    "for fp in files:\n",
    "    df = pd.read_csv(fp, encoding=\"gb2312\", delimiter=\"\\t\", names=[f'sensor_{i}' for i in range(1,7)]+['timestamp']).drop(0).drop('timestamp', axis=1).astype(float)\n",
    "    fig = px.line(df, x=df.index, y=[f\"sensor_{i}\" for i in range(1,7)], title='Drift and hysteresis analysis (unmounted)')\n",
    "    fig.write_html(fp[:-4]+'.html', auto_open=True)"
   ],
   "metadata": {
    "collapsed": false,
    "ExecuteTime": {
     "end_time": "2023-05-21T09:39:37.376146266Z",
     "start_time": "2023-05-21T09:39:31.427696253Z"
    }
   }
  }
 ],
 "metadata": {
  "kernelspec": {
   "display_name": "Python 3",
   "language": "python",
   "name": "python3"
  },
  "language_info": {
   "codemirror_mode": {
    "name": "ipython",
    "version": 2
   },
   "file_extension": ".py",
   "mimetype": "text/x-python",
   "name": "python",
   "nbconvert_exporter": "python",
   "pygments_lexer": "ipython2",
   "version": "2.7.6"
  }
 },
 "nbformat": 4,
 "nbformat_minor": 0
}
