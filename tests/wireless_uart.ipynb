{
 "cells": [
  {
   "cell_type": "code",
   "execution_count": 1,
   "id": "initial_id",
   "metadata": {
    "collapsed": true,
    "ExecuteTime": {
     "end_time": "2023-08-17T02:38:44.298153404Z",
     "start_time": "2023-08-17T02:38:44.294760430Z"
    }
   },
   "outputs": [],
   "source": [
    "import serial"
   ]
  },
  {
   "cell_type": "code",
   "execution_count": 84,
   "outputs": [
    {
     "name": "stdout",
     "output_type": "stream",
     "text": [
      "/dev/ttyACM0        \r\n",
      "/dev/ttyACM2        \r\n",
      "/dev/ttyUSB0        \r\n",
      "3 ports found\r\n"
     ]
    }
   ],
   "source": [
    "!python -m serial.tools.list_ports"
   ],
   "metadata": {
    "collapsed": false,
    "ExecuteTime": {
     "end_time": "2023-08-17T06:37:26.350725766Z",
     "start_time": "2023-08-17T06:37:26.210561893Z"
    }
   },
   "id": "255e3b4f72f781de"
  },
  {
   "cell_type": "code",
   "execution_count": 114,
   "outputs": [
    {
     "data": {
      "text/plain": "14"
     },
     "execution_count": 114,
     "metadata": {},
     "output_type": "execute_result"
    }
   ],
   "source": [
    "ser = serial.Serial(port='/dev/ttyACM2', baudrate=115200, bytesize=8, parity='N', stopbits=1)\n",
    "ser.write(b\"260,100,150,30\")\n",
    "# Test#motor = 270#attack_angle = 110#leg_angle = 150#leg_amplitude = 30"
   ],
   "metadata": {
    "collapsed": false,
    "ExecuteTime": {
     "end_time": "2023-08-17T06:53:29.791041931Z",
     "start_time": "2023-08-17T06:53:29.749083385Z"
    }
   },
   "id": "ed100244c5be2221"
  }
 ],
 "metadata": {
  "kernelspec": {
   "display_name": "Python 3",
   "language": "python",
   "name": "python3"
  },
  "language_info": {
   "codemirror_mode": {
    "name": "ipython",
    "version": 2
   },
   "file_extension": ".py",
   "mimetype": "text/x-python",
   "name": "python",
   "nbconvert_exporter": "python",
   "pygments_lexer": "ipython2",
   "version": "2.7.6"
  }
 },
 "nbformat": 4,
 "nbformat_minor": 5
}
