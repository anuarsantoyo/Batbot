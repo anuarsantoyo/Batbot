{
 "cells": [
  {
   "cell_type": "code",
   "execution_count": 2,
   "metadata": {
    "collapsed": true
   },
   "outputs": [
    {
     "ename": "KeyboardInterrupt",
     "evalue": "",
     "output_type": "error",
     "traceback": [
      "\u001B[0;31m---------------------------------------------------------------------------\u001B[0m",
      "\u001B[0;31mKeyboardInterrupt\u001B[0m                         Traceback (most recent call last)",
      "Cell \u001B[0;32mIn[2], line 8\u001B[0m\n\u001B[1;32m      6\u001B[0m \u001B[38;5;28;01mfor\u001B[39;00m x \u001B[38;5;129;01min\u001B[39;00m \u001B[38;5;28mrange\u001B[39m(\u001B[38;5;241m50\u001B[39m):\n\u001B[1;32m      7\u001B[0m     ser\u001B[38;5;241m.\u001B[39mwrite(\u001B[38;5;28mbytes\u001B[39m(\u001B[38;5;28mstr\u001B[39m(x),\u001B[38;5;124m'\u001B[39m\u001B[38;5;124mutf_8\u001B[39m\u001B[38;5;124m'\u001B[39m))\n\u001B[0;32m----> 8\u001B[0m     inVar \u001B[38;5;241m=\u001B[39m \u001B[43mser\u001B[49m\u001B[38;5;241;43m.\u001B[39;49m\u001B[43mread_until\u001B[49m\u001B[43m(\u001B[49m\u001B[43m)\u001B[49m\u001B[38;5;241m.\u001B[39mdecode()\n\u001B[1;32m      9\u001B[0m     \u001B[38;5;28mprint\u001B[39m(\u001B[38;5;124m\"\u001B[39m\u001B[38;5;124mOut: \u001B[39m\u001B[38;5;124m\"\u001B[39m \u001B[38;5;241m+\u001B[39m  \u001B[38;5;28mstr\u001B[39m(x) \u001B[38;5;241m+\u001B[39m \u001B[38;5;124m\"\u001B[39m\u001B[38;5;124miN: \u001B[39m\u001B[38;5;124m\"\u001B[39m \u001B[38;5;241m+\u001B[39m \u001B[38;5;28mstr\u001B[39m(inVar))\n\u001B[1;32m     10\u001B[0m ser\u001B[38;5;241m.\u001B[39mclose()\n",
      "File \u001B[0;32m~/PycharmProjects/Batbot/venv/lib/python3.10/site-packages/serial/serialutil.py:663\u001B[0m, in \u001B[0;36mSerialBase.read_until\u001B[0;34m(self, expected, size)\u001B[0m\n\u001B[1;32m    661\u001B[0m timeout \u001B[38;5;241m=\u001B[39m Timeout(\u001B[38;5;28mself\u001B[39m\u001B[38;5;241m.\u001B[39m_timeout)\n\u001B[1;32m    662\u001B[0m \u001B[38;5;28;01mwhile\u001B[39;00m \u001B[38;5;28;01mTrue\u001B[39;00m:\n\u001B[0;32m--> 663\u001B[0m     c \u001B[38;5;241m=\u001B[39m \u001B[38;5;28;43mself\u001B[39;49m\u001B[38;5;241;43m.\u001B[39;49m\u001B[43mread\u001B[49m\u001B[43m(\u001B[49m\u001B[38;5;241;43m1\u001B[39;49m\u001B[43m)\u001B[49m\n\u001B[1;32m    664\u001B[0m     \u001B[38;5;28;01mif\u001B[39;00m c:\n\u001B[1;32m    665\u001B[0m         line \u001B[38;5;241m+\u001B[39m\u001B[38;5;241m=\u001B[39m c\n",
      "File \u001B[0;32m~/PycharmProjects/Batbot/venv/lib/python3.10/site-packages/serial/serialposix.py:565\u001B[0m, in \u001B[0;36mSerial.read\u001B[0;34m(self, size)\u001B[0m\n\u001B[1;32m    563\u001B[0m \u001B[38;5;28;01mwhile\u001B[39;00m \u001B[38;5;28mlen\u001B[39m(read) \u001B[38;5;241m<\u001B[39m size:\n\u001B[1;32m    564\u001B[0m     \u001B[38;5;28;01mtry\u001B[39;00m:\n\u001B[0;32m--> 565\u001B[0m         ready, _, _ \u001B[38;5;241m=\u001B[39m \u001B[43mselect\u001B[49m\u001B[38;5;241;43m.\u001B[39;49m\u001B[43mselect\u001B[49m\u001B[43m(\u001B[49m\u001B[43m[\u001B[49m\u001B[38;5;28;43mself\u001B[39;49m\u001B[38;5;241;43m.\u001B[39;49m\u001B[43mfd\u001B[49m\u001B[43m,\u001B[49m\u001B[43m \u001B[49m\u001B[38;5;28;43mself\u001B[39;49m\u001B[38;5;241;43m.\u001B[39;49m\u001B[43mpipe_abort_read_r\u001B[49m\u001B[43m]\u001B[49m\u001B[43m,\u001B[49m\u001B[43m \u001B[49m\u001B[43m[\u001B[49m\u001B[43m]\u001B[49m\u001B[43m,\u001B[49m\u001B[43m \u001B[49m\u001B[43m[\u001B[49m\u001B[43m]\u001B[49m\u001B[43m,\u001B[49m\u001B[43m \u001B[49m\u001B[43mtimeout\u001B[49m\u001B[38;5;241;43m.\u001B[39;49m\u001B[43mtime_left\u001B[49m\u001B[43m(\u001B[49m\u001B[43m)\u001B[49m\u001B[43m)\u001B[49m\n\u001B[1;32m    566\u001B[0m         \u001B[38;5;28;01mif\u001B[39;00m \u001B[38;5;28mself\u001B[39m\u001B[38;5;241m.\u001B[39mpipe_abort_read_r \u001B[38;5;129;01min\u001B[39;00m ready:\n\u001B[1;32m    567\u001B[0m             os\u001B[38;5;241m.\u001B[39mread(\u001B[38;5;28mself\u001B[39m\u001B[38;5;241m.\u001B[39mpipe_abort_read_r, \u001B[38;5;241m1000\u001B[39m)\n",
      "\u001B[0;31mKeyboardInterrupt\u001B[0m: "
     ]
    }
   ],
   "source": [
    "import serial\n",
    "ser= serial.Serial(\"/dev/rfcomm0\", 38400)\n",
    "#ser.open()\n",
    "ser.reset_input_buffer()\n",
    "\n",
    "for x in range(50):\n",
    "    ser.write(bytes(str(x),'utf_8'))\n",
    "    inVar = ser.read_until().decode()\n",
    "    print(\"Out: \" +  str(x) + \"iN: \" + str(inVar))\n",
    "ser.close()\n",
    "\n"
   ]
  }
 ],
 "metadata": {
  "kernelspec": {
   "display_name": "Python 3",
   "language": "python",
   "name": "python3"
  },
  "language_info": {
   "codemirror_mode": {
    "name": "ipython",
    "version": 2
   },
   "file_extension": ".py",
   "mimetype": "text/x-python",
   "name": "python",
   "nbconvert_exporter": "python",
   "pygments_lexer": "ipython2",
   "version": "2.7.6"
  }
 },
 "nbformat": 4,
 "nbformat_minor": 0
}
