{
 "cells": [
  {
   "cell_type": "code",
   "execution_count": 5,
   "outputs": [
    {
     "ename": "NoResponseError",
     "evalue": "No communication with the instrument (no answer)",
     "output_type": "error",
     "traceback": [
      "\u001B[0;31m---------------------------------------------------------------------------\u001B[0m",
      "\u001B[0;31mNoResponseError\u001B[0m                           Traceback (most recent call last)",
      "Cell \u001B[0;32mIn[5], line 6\u001B[0m\n\u001B[1;32m      3\u001B[0m instrument \u001B[38;5;241m=\u001B[39m minimalmodbus\u001B[38;5;241m.\u001B[39mInstrument(\u001B[38;5;124m'\u001B[39m\u001B[38;5;124m/dev/ttyUSB0\u001B[39m\u001B[38;5;124m'\u001B[39m, \u001B[38;5;241m1\u001B[39m)  \u001B[38;5;66;03m# port name, slave address (in decimal)\u001B[39;00m\n\u001B[1;32m      5\u001B[0m \u001B[38;5;66;03m## Read temperature (PV = ProcessValue) ##\u001B[39;00m\n\u001B[0;32m----> 6\u001B[0m temperature \u001B[38;5;241m=\u001B[39m \u001B[43minstrument\u001B[49m\u001B[38;5;241;43m.\u001B[39;49m\u001B[43mread_register\u001B[49m\u001B[43m(\u001B[49m\u001B[38;5;241;43m40200\u001B[39;49m\u001B[43m,\u001B[49m\u001B[43m \u001B[49m\u001B[38;5;241;43m1\u001B[39;49m\u001B[43m)\u001B[49m  \u001B[38;5;66;03m# Registernumber, number of decimals\u001B[39;00m\n\u001B[1;32m      7\u001B[0m \u001B[38;5;28mprint\u001B[39m(temperature)\n",
      "File \u001B[0;32m~/PycharmProjects/Batbot/venv/lib/python3.10/site-packages/minimalmodbus.py:480\u001B[0m, in \u001B[0;36mInstrument.read_register\u001B[0;34m(self, registeraddress, number_of_decimals, functioncode, signed)\u001B[0m\n\u001B[1;32m    473\u001B[0m _check_int(\n\u001B[1;32m    474\u001B[0m     number_of_decimals,\n\u001B[1;32m    475\u001B[0m     minvalue\u001B[38;5;241m=\u001B[39m\u001B[38;5;241m0\u001B[39m,\n\u001B[1;32m    476\u001B[0m     maxvalue\u001B[38;5;241m=\u001B[39m_MAX_NUMBER_OF_DECIMALS,\n\u001B[1;32m    477\u001B[0m     description\u001B[38;5;241m=\u001B[39m\u001B[38;5;124m\"\u001B[39m\u001B[38;5;124mnumber of decimals\u001B[39m\u001B[38;5;124m\"\u001B[39m,\n\u001B[1;32m    478\u001B[0m )\n\u001B[1;32m    479\u001B[0m _check_bool(signed, description\u001B[38;5;241m=\u001B[39m\u001B[38;5;124m\"\u001B[39m\u001B[38;5;124msigned\u001B[39m\u001B[38;5;124m\"\u001B[39m)\n\u001B[0;32m--> 480\u001B[0m returnvalue \u001B[38;5;241m=\u001B[39m \u001B[38;5;28;43mself\u001B[39;49m\u001B[38;5;241;43m.\u001B[39;49m\u001B[43m_generic_command\u001B[49m\u001B[43m(\u001B[49m\n\u001B[1;32m    481\u001B[0m \u001B[43m    \u001B[49m\u001B[43mfunctioncode\u001B[49m\u001B[43m,\u001B[49m\n\u001B[1;32m    482\u001B[0m \u001B[43m    \u001B[49m\u001B[43mregisteraddress\u001B[49m\u001B[43m,\u001B[49m\n\u001B[1;32m    483\u001B[0m \u001B[43m    \u001B[49m\u001B[43mnumber_of_decimals\u001B[49m\u001B[38;5;241;43m=\u001B[39;49m\u001B[43mnumber_of_decimals\u001B[49m\u001B[43m,\u001B[49m\n\u001B[1;32m    484\u001B[0m \u001B[43m    \u001B[49m\u001B[43mnumber_of_registers\u001B[49m\u001B[38;5;241;43m=\u001B[39;49m\u001B[38;5;241;43m1\u001B[39;49m\u001B[43m,\u001B[49m\n\u001B[1;32m    485\u001B[0m \u001B[43m    \u001B[49m\u001B[43msigned\u001B[49m\u001B[38;5;241;43m=\u001B[39;49m\u001B[43msigned\u001B[49m\u001B[43m,\u001B[49m\n\u001B[1;32m    486\u001B[0m \u001B[43m    \u001B[49m\u001B[43mpayloadformat\u001B[49m\u001B[38;5;241;43m=\u001B[39;49m\u001B[43m_Payloadformat\u001B[49m\u001B[38;5;241;43m.\u001B[39;49m\u001B[43mREGISTER\u001B[49m\u001B[43m,\u001B[49m\n\u001B[1;32m    487\u001B[0m \u001B[43m\u001B[49m\u001B[43m)\u001B[49m\n\u001B[1;32m    488\u001B[0m \u001B[38;5;28;01mif\u001B[39;00m \u001B[38;5;28mint\u001B[39m(returnvalue) \u001B[38;5;241m==\u001B[39m returnvalue:\n\u001B[1;32m    489\u001B[0m     \u001B[38;5;28;01mreturn\u001B[39;00m \u001B[38;5;28mint\u001B[39m(returnvalue)\n",
      "File \u001B[0;32m~/PycharmProjects/Batbot/venv/lib/python3.10/site-packages/minimalmodbus.py:1245\u001B[0m, in \u001B[0;36mInstrument._generic_command\u001B[0;34m(self, functioncode, registeraddress, value, number_of_decimals, number_of_registers, number_of_bits, signed, byteorder, payloadformat)\u001B[0m\n\u001B[1;32m   1232\u001B[0m payload_to_slave \u001B[38;5;241m=\u001B[39m _create_payload(\n\u001B[1;32m   1233\u001B[0m     functioncode,\n\u001B[1;32m   1234\u001B[0m     registeraddress,\n\u001B[0;32m   (...)\u001B[0m\n\u001B[1;32m   1241\u001B[0m     payloadformat,\n\u001B[1;32m   1242\u001B[0m )\n\u001B[1;32m   1244\u001B[0m \u001B[38;5;66;03m# Communicate with instrument\u001B[39;00m\n\u001B[0;32m-> 1245\u001B[0m payload_from_slave \u001B[38;5;241m=\u001B[39m \u001B[38;5;28;43mself\u001B[39;49m\u001B[38;5;241;43m.\u001B[39;49m\u001B[43m_perform_command\u001B[49m\u001B[43m(\u001B[49m\u001B[43mfunctioncode\u001B[49m\u001B[43m,\u001B[49m\u001B[43m \u001B[49m\u001B[43mpayload_to_slave\u001B[49m\u001B[43m)\u001B[49m\n\u001B[1;32m   1247\u001B[0m \u001B[38;5;66;03m# There is no response for broadcasts\u001B[39;00m\n\u001B[1;32m   1248\u001B[0m \u001B[38;5;28;01mif\u001B[39;00m \u001B[38;5;28mself\u001B[39m\u001B[38;5;241m.\u001B[39maddress \u001B[38;5;241m==\u001B[39m _SLAVEADDRESS_BROADCAST:\n",
      "File \u001B[0;32m~/PycharmProjects/Batbot/venv/lib/python3.10/site-packages/minimalmodbus.py:1322\u001B[0m, in \u001B[0;36mInstrument._perform_command\u001B[0;34m(self, functioncode, payload_to_slave)\u001B[0m\n\u001B[1;32m   1320\u001B[0m \u001B[38;5;66;03m# Communicate\u001B[39;00m\n\u001B[1;32m   1321\u001B[0m request_bytes \u001B[38;5;241m=\u001B[39m \u001B[38;5;28mbytes\u001B[39m(request, encoding\u001B[38;5;241m=\u001B[39m\u001B[38;5;124m\"\u001B[39m\u001B[38;5;124mlatin1\u001B[39m\u001B[38;5;124m\"\u001B[39m)\n\u001B[0;32m-> 1322\u001B[0m response_bytes \u001B[38;5;241m=\u001B[39m \u001B[38;5;28;43mself\u001B[39;49m\u001B[38;5;241;43m.\u001B[39;49m\u001B[43m_communicate\u001B[49m\u001B[43m(\u001B[49m\u001B[43mrequest_bytes\u001B[49m\u001B[43m,\u001B[49m\u001B[43m \u001B[49m\u001B[43mnumber_of_bytes_to_read\u001B[49m\u001B[43m)\u001B[49m\n\u001B[1;32m   1323\u001B[0m response \u001B[38;5;241m=\u001B[39m \u001B[38;5;28mstr\u001B[39m(response_bytes, encoding\u001B[38;5;241m=\u001B[39m\u001B[38;5;124m\"\u001B[39m\u001B[38;5;124mlatin1\u001B[39m\u001B[38;5;124m\"\u001B[39m)\n\u001B[1;32m   1325\u001B[0m \u001B[38;5;28;01mif\u001B[39;00m number_of_bytes_to_read \u001B[38;5;241m==\u001B[39m \u001B[38;5;241m0\u001B[39m:\n",
      "File \u001B[0;32m~/PycharmProjects/Batbot/venv/lib/python3.10/site-packages/minimalmodbus.py:1490\u001B[0m, in \u001B[0;36mInstrument._communicate\u001B[0;34m(self, request, number_of_bytes_to_read)\u001B[0m\n\u001B[1;32m   1487\u001B[0m     \u001B[38;5;28mself\u001B[39m\u001B[38;5;241m.\u001B[39m_print_debug(text)\n\u001B[1;32m   1489\u001B[0m \u001B[38;5;28;01mif\u001B[39;00m \u001B[38;5;129;01mnot\u001B[39;00m answer \u001B[38;5;129;01mand\u001B[39;00m number_of_bytes_to_read \u001B[38;5;241m>\u001B[39m \u001B[38;5;241m0\u001B[39m:\n\u001B[0;32m-> 1490\u001B[0m     \u001B[38;5;28;01mraise\u001B[39;00m NoResponseError(\u001B[38;5;124m\"\u001B[39m\u001B[38;5;124mNo communication with the instrument (no answer)\u001B[39m\u001B[38;5;124m\"\u001B[39m)\n\u001B[1;32m   1492\u001B[0m \u001B[38;5;28;01mif\u001B[39;00m number_of_bytes_to_read \u001B[38;5;241m==\u001B[39m \u001B[38;5;241m0\u001B[39m:\n\u001B[1;32m   1493\u001B[0m     \u001B[38;5;28mself\u001B[39m\u001B[38;5;241m.\u001B[39m_print_debug(\n\u001B[1;32m   1494\u001B[0m         \u001B[38;5;124m\"\u001B[39m\u001B[38;5;124mBroadcast delay: Sleeping for \u001B[39m\u001B[38;5;132;01m{}\u001B[39;00m\u001B[38;5;124m s\u001B[39m\u001B[38;5;124m\"\u001B[39m\u001B[38;5;241m.\u001B[39mformat(_BROADCAST_DELAY)\n\u001B[1;32m   1495\u001B[0m     )\n",
      "\u001B[0;31mNoResponseError\u001B[0m: No communication with the instrument (no answer)"
     ]
    }
   ],
   "source": [
    "import minimalmodbus\n",
    "\n",
    "instrument = minimalmodbus.Instrument('/dev/ttyUSB0', 1)  # port name, slave address (in decimal)\n",
    "\n",
    "## Read temperature (PV = ProcessValue) ##\n",
    "temperature = instrument.read_register(200, 1)  # Registernumber, number of decimals\n",
    "print(temperature)\n"
   ],
   "metadata": {
    "collapsed": false
   }
  }
 ],
 "metadata": {
  "kernelspec": {
   "display_name": "Python 3",
   "language": "python",
   "name": "python3"
  },
  "language_info": {
   "codemirror_mode": {
    "name": "ipython",
    "version": 2
   },
   "file_extension": ".py",
   "mimetype": "text/x-python",
   "name": "python",
   "nbconvert_exporter": "python",
   "pygments_lexer": "ipython2",
   "version": "2.7.6"
  }
 },
 "nbformat": 4,
 "nbformat_minor": 0
}
