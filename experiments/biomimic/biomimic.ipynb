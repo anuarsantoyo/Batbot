{
 "cells": [
  {
   "metadata": {},
   "cell_type": "markdown",
   "source": [
    "# Biomimic Experiments\n",
    "Here I will follow a set of experiments proposed by Dr Sudeep. All the data and steps will be recorded here. (11.6V). To have a reliable average 10 seconds of data were recorded for each experiment."
   ],
   "id": "3c9ba19bc3e1ae7"
  },
  {
   "metadata": {},
   "cell_type": "markdown",
   "source": "## Calibration",
   "id": "8bcac76f6ec2428b"
  },
  {
   "metadata": {},
   "cell_type": "code",
   "source": [
    "import time\n",
    "import pandas as pd\n",
    "from utils import *\n",
    "import numpy as np\n",
    "import seaborn as sns\n",
    "import plotly.express as px"
   ],
   "id": "caf0efb51384a0b5",
   "outputs": [],
   "execution_count": null
  },
  {
   "metadata": {},
   "cell_type": "code",
   "source": "!python -m serial.tools.list_ports",
   "id": "8cf83629feb59768",
   "outputs": [],
   "execution_count": null
  },
  {
   "metadata": {},
   "cell_type": "code",
   "source": "port = \"/dev/ttyUSB0\"",
   "id": "62f6183304fab2dd",
   "outputs": [],
   "execution_count": null
  },
  {
   "metadata": {},
   "cell_type": "code",
   "source": "df = read_measurements_df_6axis(port=port, duration=5)",
   "id": "2c1f75643cf7c43b",
   "outputs": [],
   "execution_count": null
  },
  {
   "metadata": {},
   "cell_type": "code",
   "source": [
    "calib = df.mean()\n",
    "calib.Time = 0"
   ],
   "id": "3ce704c2b91ef0e9",
   "outputs": [],
   "execution_count": null
  },
  {
   "metadata": {},
   "cell_type": "code",
   "source": "calib",
   "id": "9b2178ab8dddd340",
   "outputs": [],
   "execution_count": null
  },
  {
   "metadata": {},
   "cell_type": "code",
   "source": "calib.to_csv('data/calib.csv', header=True)",
   "id": "55b8b548a516a4eb",
   "outputs": [],
   "execution_count": null
  },
  {
   "metadata": {},
   "cell_type": "code",
   "source": "calib = pd.read_csv('data/calib.csv', index_col=0).iloc[:,0]",
   "id": "39a29f3422b4771c",
   "outputs": [],
   "execution_count": null
  },
  {
   "metadata": {},
   "cell_type": "code",
   "source": "calib",
   "id": "7fbfcdf45c68b59e",
   "outputs": [],
   "execution_count": null
  },
  {
   "metadata": {},
   "cell_type": "code",
   "source": "df-calib",
   "id": "dd8563e35cf160f1",
   "outputs": [],
   "execution_count": null
  },
  {
   "metadata": {},
   "cell_type": "markdown",
   "source": [
    "## Experiment 1: Batmimic\n",
    "In this experiment I will recreate the movement of a Bat. The data of the Bat was provided by Dr. Sudeep.\n",
    "\n",
    "The x amplitude of the bat is approx. 9.5-x like 13-50 (measured from screen)\n",
    " x_amp_bat = (9.5*50)/13 = 36.53846153846154 mm\n",
    " \n",
    "As our Batbot is commanded with angles we must calculate the angle this lateral displacement represents. With the information provided of the length of the leg (40 mm).\n",
    "\n",
    "Using trignometry, we know the hypothenus is 40mm and the oposite catete is 36mm. \n",
    "\n"
   ],
   "id": "9538427c98b44219"
  },
  {
   "metadata": {},
   "cell_type": "code",
   "source": [
    "import numpy as np\n",
    "\n",
    "np.degrees(np.arcsin(36.54/40))"
   ],
   "id": "5c659ad0a26f133a",
   "outputs": [],
   "execution_count": null
  },
  {
   "metadata": {},
   "cell_type": "markdown",
   "source": [
    "So x_amp = arcsin(36.54/40) = 66°\n",
    "\n",
    "Similarly we find y_amp from provided image... ok just realized that there is a table also provided that gives other info.. TODO ask Dr. Sudeep."
   ],
   "id": "114454eb75910b84"
  },
  {
   "metadata": {},
   "cell_type": "markdown",
   "source": [
    "Using table\n",
    "\n",
    "y_amp_bat = 16mm\n",
    "x_amp_bat = 10.5mm"
   ],
   "id": "6dd883944e897032"
  },
  {
   "metadata": {},
   "cell_type": "code",
   "source": [
    "import numpy as np\n",
    "x_amp = 2*np.degrees(np.arcsin(16/40))\n",
    "y_amp = np.degrees(np.arcsin(10.5/40))\n",
    "x_amp, y_amp"
   ],
   "id": "72d0250a71794273",
   "outputs": [],
   "execution_count": null
  },
  {
   "metadata": {},
   "cell_type": "markdown",
   "source": [
    "On code:\n",
    "x_amp = 47 # Actually 2*amplitude (so peak to peak movement)\n",
    "y_amp = 15 # Real amplitude\n",
    "y_mid = 0\n",
    "motor = 280\n",
    "delay = 0 # Can have values from 0-2pi refering to where should the leg"
   ],
   "id": "2307103d1500af24"
  },
  {
   "metadata": {},
   "cell_type": "markdown",
   "source": "Measurements",
   "id": "d7356425859827b2"
  },
  {
   "metadata": {},
   "cell_type": "code",
   "source": "df = read_measurements_df_6axis(port=port, duration=10)",
   "id": "83acc189a0f791b8",
   "outputs": [],
   "execution_count": null
  },
  {
   "metadata": {},
   "cell_type": "code",
   "source": "df1 = df.copy()",
   "id": "7a347b407c0203d7",
   "outputs": [],
   "execution_count": null
  },
  {
   "metadata": {},
   "cell_type": "code",
   "source": "df1 = df1-calib",
   "id": "c9731f760c0c1aa",
   "outputs": [],
   "execution_count": null
  },
  {
   "metadata": {},
   "cell_type": "code",
   "source": "#df1.to_csv('data/exp1', index=False)",
   "id": "2bb8796f710ec28f",
   "outputs": [],
   "execution_count": null
  },
  {
   "metadata": {},
   "cell_type": "markdown",
   "source": "Analysis",
   "id": "1d65cc0ae2ffebb4"
  },
  {
   "metadata": {},
   "cell_type": "code",
   "source": "df1 = pd.read_csv('data/exp1')",
   "id": "a51af44364edbe05",
   "outputs": [],
   "execution_count": null
  },
  {
   "metadata": {},
   "cell_type": "code",
   "source": "thrust1, lift1 = fitness_avg_thrust_lift(df1, plot=True, args = {'peak_height':1.5, 'peak_distance':10})",
   "id": "dadd7c1382ca63d4",
   "outputs": [],
   "execution_count": null
  },
  {
   "metadata": {},
   "cell_type": "code",
   "source": "thrust1, lift1",
   "id": "f4a0ba166a4d88de",
   "outputs": [],
   "execution_count": null
  },
  {
   "metadata": {},
   "cell_type": "markdown",
   "source": "## Experiment 2: Stretched legs",
   "id": "2b2556f673c6309"
  },
  {
   "metadata": {},
   "cell_type": "markdown",
   "source": "Measurements",
   "id": "67fb91ed366677c"
  },
  {
   "metadata": {},
   "cell_type": "code",
   "source": [
    "df2 = read_measurements_df_6axis(port=port, duration=10)\n",
    "df2 = df2 - calib\n",
    "#df2.to_csv('data/exp2', index=False)"
   ],
   "id": "ea308b502dcca1ba",
   "outputs": [],
   "execution_count": null
  },
  {
   "metadata": {},
   "cell_type": "markdown",
   "source": "Analysis",
   "id": "1ef8e8f80426ce99"
  },
  {
   "metadata": {},
   "cell_type": "code",
   "source": [
    "df2 = pd.read_csv('data/exp2')\n",
    "thrust2, lift2 = fitness_avg_thrust_lift(df2, plot=True, args = {'peak_height':1.5, 'peak_distance':10})"
   ],
   "id": "46e2455e941c35d4",
   "outputs": [],
   "execution_count": null
  },
  {
   "metadata": {},
   "cell_type": "code",
   "source": "thrust2, lift2",
   "id": "b1b47d1c32542622",
   "outputs": [],
   "execution_count": null
  },
  {
   "metadata": {},
   "cell_type": "markdown",
   "source": "## Experiment 3: Stretched legs, no folding",
   "id": "8ab67fc65f2c0017"
  },
  {
   "metadata": {},
   "cell_type": "markdown",
   "source": "Measurements",
   "id": "48b0212ac795c826"
  },
  {
   "metadata": {},
   "cell_type": "code",
   "source": [
    "df3 = read_measurements_df_6axis(port=port, duration=10)\n",
    "df3 = df3 - calib\n",
    "#df3.to_csv('data/exp3', index=False)"
   ],
   "id": "ccacd10f168facb9",
   "outputs": [],
   "execution_count": null
  },
  {
   "metadata": {},
   "cell_type": "code",
   "source": [
    "df3 = pd.read_csv('data/exp3')\n",
    "thrust3, lift3 = fitness_avg_thrust_lift(df3, plot=True, args = {'peak_height':1.5, 'peak_distance':10})"
   ],
   "id": "33b79b67945443a1",
   "outputs": [],
   "execution_count": null
  },
  {
   "metadata": {},
   "cell_type": "code",
   "source": "thrust3, lift3",
   "id": "e823ac7b380a1f25",
   "outputs": [],
   "execution_count": null
  },
  {
   "metadata": {},
   "cell_type": "markdown",
   "source": [
    "## Experiment 4: Lateral Displacement influence\n",
    "10 experiments will be done with incremental values of x amp. From 0 to 90° (2*amp) in 10° steps"
   ],
   "id": "2ae15f0e7a24b69d"
  },
  {
   "metadata": {},
   "cell_type": "code",
   "source": [
    "df4_10 = read_measurements_df_6axis(port=port, duration=10) - calib\n",
    "#df4_10.to_csv('data/exp4_10', index=False)"
   ],
   "id": "f47d3fe70eadf9d9",
   "outputs": [],
   "execution_count": null
  },
  {
   "metadata": {},
   "cell_type": "code",
   "source": [
    "df4_20 = read_measurements_df_6axis(port=port, duration=10) - calib\n",
    "#df4_20.to_csv('data/exp4_20', index=False)"
   ],
   "id": "29088354769dc4ca",
   "outputs": [],
   "execution_count": null
  },
  {
   "metadata": {},
   "cell_type": "code",
   "source": [
    "df4_30 = read_measurements_df_6axis(port=port, duration=10) - calib\n",
    "#df4_30.to_csv('data/exp4_30', index=False)"
   ],
   "id": "1ca253a834106f9f",
   "outputs": [],
   "execution_count": null
  },
  {
   "metadata": {},
   "cell_type": "code",
   "source": [
    "df4_40 = read_measurements_df_6axis(port=port, duration=10) - calib\n",
    "#df4_40.to_csv('data/exp4_40', index=False)"
   ],
   "id": "f7ffed7fea55c797",
   "outputs": [],
   "execution_count": null
  },
  {
   "metadata": {},
   "cell_type": "code",
   "source": [
    "df4_50 = read_measurements_df_6axis(port=port, duration=10) - calib\n",
    "#df4_50.to_csv('data/exp4_50', index=False)"
   ],
   "id": "545df2a056c3518e",
   "outputs": [],
   "execution_count": null
  },
  {
   "metadata": {},
   "cell_type": "code",
   "source": [
    "df4_60 = read_measurements_df_6axis(port=port, duration=10) - calib\n",
    "#df4_60.to_csv('data/exp4_60', index=False)"
   ],
   "id": "51247bdb5addb4a9",
   "outputs": [],
   "execution_count": null
  },
  {
   "metadata": {},
   "cell_type": "code",
   "source": [
    "df4_70 = read_measurements_df_6axis(port=port, duration=10) - calib\n",
    "#df4_70.to_csv('data/exp4_70', index=False)"
   ],
   "id": "51dcd3e22b82be5e",
   "outputs": [],
   "execution_count": null
  },
  {
   "metadata": {},
   "cell_type": "code",
   "source": [
    "df4_80 = read_measurements_df_6axis(port=port, duration=10) - calib\n",
    "#df4_80.to_csv('data/exp4_80', index=False)"
   ],
   "id": "9355994adc325d18",
   "outputs": [],
   "execution_count": null
  },
  {
   "metadata": {},
   "cell_type": "code",
   "source": [
    "df4_90 = read_measurements_df_6axis(port=port, duration=10) - calib\n",
    "#df4_90.to_csv('data/exp4_90', index=False)"
   ],
   "id": "272e8b98a89be411",
   "outputs": [],
   "execution_count": null
  },
  {
   "metadata": {},
   "cell_type": "markdown",
   "source": "Analysis",
   "id": "47b9e2e359eaa489"
  },
  {
   "metadata": {},
   "cell_type": "code",
   "source": [
    "df4_10 = pd.read_csv('data/exp4_10')\n",
    "thrust4_10, lift4_10 = fitness_avg_thrust_lift(df4_10, plot=True, args = {'peak_height':1.5, 'peak_distance':10})"
   ],
   "id": "94e7deab0c814a5c",
   "outputs": [],
   "execution_count": null
  },
  {
   "metadata": {},
   "cell_type": "code",
   "source": [
    "df4_20 = pd.read_csv('data/exp4_20')\n",
    "thrust4_20, lift4_20 = fitness_avg_thrust_lift(df4_20, plot=True, args = {'peak_height':1.5, 'peak_distance':10})"
   ],
   "id": "2df87268e1a1e8d7",
   "outputs": [],
   "execution_count": null
  },
  {
   "metadata": {},
   "cell_type": "code",
   "source": [
    "df4_30 = pd.read_csv('data/exp4_30')\n",
    "thrust4_30, lift4_30 = fitness_avg_thrust_lift(df4_30, plot=True, args = {'peak_height':1.5, 'peak_distance':10})"
   ],
   "id": "83a88402f41ffa48",
   "outputs": [],
   "execution_count": null
  },
  {
   "metadata": {},
   "cell_type": "code",
   "source": [
    "df4_40 = pd.read_csv('data/exp4_40')\n",
    "thrust4_40, lift4_40 = fitness_avg_thrust_lift(df4_40, plot=True, args = {'peak_height':1.5, 'peak_distance':10})"
   ],
   "id": "4fb2d18d96f0467f",
   "outputs": [],
   "execution_count": null
  },
  {
   "metadata": {},
   "cell_type": "code",
   "source": [
    "df4_50 = pd.read_csv('data/exp4_50')\n",
    "thrust4_50, lift4_50 = fitness_avg_thrust_lift(df4_50, plot=True, args = {'peak_height':1.5, 'peak_distance':10})"
   ],
   "id": "851c051dd9ee49b3",
   "outputs": [],
   "execution_count": null
  },
  {
   "metadata": {},
   "cell_type": "code",
   "source": [
    "df4_60 = pd.read_csv('data/exp4_60')\n",
    "thrust4_60, lift4_60 = fitness_avg_thrust_lift(df4_60, plot=True, args = {'peak_height':1.5, 'peak_distance':10})"
   ],
   "id": "5c37b5f7afb0c859",
   "outputs": [],
   "execution_count": null
  },
  {
   "metadata": {},
   "cell_type": "code",
   "source": [
    "df4_70 = pd.read_csv('data/exp4_70')\n",
    "thrust4_70, lift4_70 = fitness_avg_thrust_lift(df4_70, plot=True, args = {'peak_height':1.5, 'peak_distance':10})"
   ],
   "id": "a02ee085f3ddfe36",
   "outputs": [],
   "execution_count": null
  },
  {
   "metadata": {},
   "cell_type": "code",
   "source": [
    "df4_80 = pd.read_csv('data/exp4_80')\n",
    "thrust4_80, lift4_80 = fitness_avg_thrust_lift(df4_80, plot=True, args = {'peak_height':1.5, 'peak_distance':10})"
   ],
   "id": "b3eeb0f6f9e20885",
   "outputs": [],
   "execution_count": null
  },
  {
   "metadata": {},
   "cell_type": "code",
   "source": [
    "df4_90 = pd.read_csv('data/exp4_90')\n",
    "thrust4_90, lift4_90 = fitness_avg_thrust_lift(df4_90, plot=True, args = {'peak_height':1.5, 'peak_distance':10})"
   ],
   "id": "e93f8b74a50306c9",
   "outputs": [],
   "execution_count": null
  },
  {
   "metadata": {},
   "cell_type": "markdown",
   "source": [
    "## Experiment 5: Batmimic with leg delay\n",
    "10 Experiments will be done with delays between 0 and 2*pi between the wing flap and the leg flap using the values of Batmimic (exp 1)"
   ],
   "id": "16f532ba5fae55f3"
  },
  {
   "metadata": {},
   "cell_type": "code",
   "source": "np.linspace(0,2*np.pi,10)",
   "id": "6789514a7517b58d",
   "outputs": [],
   "execution_count": null
  },
  {
   "metadata": {},
   "cell_type": "code",
   "source": [
    "df5_1 = read_measurements_df_6axis(port=port, duration=10) - calib\n",
    "#df5_1.to_csv('data/exp5_1', index=False)"
   ],
   "id": "d26cdaccbd671708",
   "outputs": [],
   "execution_count": null
  },
  {
   "metadata": {},
   "cell_type": "code",
   "source": [
    "df5_2 = read_measurements_df_6axis(port=port, duration=10) - calib\n",
    "#df5_2.to_csv('data/exp5_2', index=False)"
   ],
   "id": "dbc8aed1ba5efc0e",
   "outputs": [],
   "execution_count": null
  },
  {
   "metadata": {},
   "cell_type": "code",
   "source": [
    "df5_3 = read_measurements_df_6axis(port=port, duration=10) - calib\n",
    "#df5_3.to_csv('data/exp5_3', index=False)"
   ],
   "id": "8c0f2db393c72ba0",
   "outputs": [],
   "execution_count": null
  },
  {
   "metadata": {},
   "cell_type": "code",
   "source": [
    "df5_4 = read_measurements_df_6axis(port=port, duration=10) - calib\n",
    "#df5_4.to_csv('data/exp5_4', index=False)"
   ],
   "id": "c61c7537fe52e508",
   "outputs": [],
   "execution_count": null
  },
  {
   "metadata": {},
   "cell_type": "code",
   "source": [
    "df5_5 = read_measurements_df_6axis(port=port, duration=10) - calib\n",
    "#df5_5.to_csv('data/exp5_5', index=False)"
   ],
   "id": "76b7f1a426c22404",
   "outputs": [],
   "execution_count": null
  },
  {
   "metadata": {},
   "cell_type": "code",
   "source": [
    "df5_6 = read_measurements_df_6axis(port=port, duration=10) - calib\n",
    "#df5_6.to_csv('data/exp5_6', index=False)"
   ],
   "id": "aa1540b2ac06ae7b",
   "outputs": [],
   "execution_count": null
  },
  {
   "metadata": {},
   "cell_type": "code",
   "source": [
    "df5_7 = read_measurements_df_6axis(port=port, duration=10) - calib\n",
    "#df5_7.to_csv('data/exp5_7', index=False)"
   ],
   "id": "a671901cdbc561d2",
   "outputs": [],
   "execution_count": null
  },
  {
   "metadata": {},
   "cell_type": "code",
   "source": [
    "df5_8 = read_measurements_df_6axis(port=port, duration=10) - calib\n",
    "#df5_8.to_csv('data/exp5_8', index=False)"
   ],
   "id": "179f85dd065dc743",
   "outputs": [],
   "execution_count": null
  },
  {
   "metadata": {},
   "cell_type": "code",
   "source": [
    "df5_9 = read_measurements_df_6axis(port=port, duration=10) - calib\n",
    "df5_9.to_csv('data/exp5_9', index=False)"
   ],
   "id": "74ef0ae2013fa347",
   "outputs": [],
   "execution_count": null
  },
  {
   "metadata": {},
   "cell_type": "markdown",
   "source": "Analysis",
   "id": "86ae783c8e829d1b"
  },
  {
   "metadata": {},
   "cell_type": "code",
   "source": [
    "df5_1 = pd.read_csv('data/exp5_1')\n",
    "thrust5_1, lift5_1 = fitness_avg_thrust_lift(df5_1, plot=True, args={'peak_height': 1.5, 'peak_distance': 10})"
   ],
   "id": "36e41bdb3a358e17",
   "outputs": [],
   "execution_count": null
  },
  {
   "metadata": {},
   "cell_type": "code",
   "source": [
    "df5_2 = pd.read_csv('data/exp5_2')\n",
    "thrust5_2, lift5_2 = fitness_avg_thrust_lift(df5_2, plot=True, args={'peak_height': 1.5, 'peak_distance': 10})"
   ],
   "id": "4fb23caf74bb02aa",
   "outputs": [],
   "execution_count": null
  },
  {
   "metadata": {},
   "cell_type": "code",
   "source": [
    "df5_3 = pd.read_csv('data/exp5_3')\n",
    "thrust5_3, lift5_3 = fitness_avg_thrust_lift(df5_3, plot=True, args={'peak_height': 1.5, 'peak_distance': 10})"
   ],
   "id": "6469ce37a6209dcb",
   "outputs": [],
   "execution_count": null
  },
  {
   "metadata": {},
   "cell_type": "code",
   "source": [
    "df5_4 = pd.read_csv('data/exp5_4')\n",
    "thrust5_4, lift5_4 = fitness_avg_thrust_lift(df5_4, plot=True, args={'peak_height': 1.5, 'peak_distance': 10})"
   ],
   "id": "93e08413adb09ab4",
   "outputs": [],
   "execution_count": null
  },
  {
   "metadata": {},
   "cell_type": "code",
   "source": [
    "df5_5 = pd.read_csv('data/exp5_5')\n",
    "thrust5_5, lift5_5 = fitness_avg_thrust_lift(df5_5, plot=True, args={'peak_height': 1.5, 'peak_distance': 10})"
   ],
   "id": "fa81a468783773cc",
   "outputs": [],
   "execution_count": null
  },
  {
   "metadata": {},
   "cell_type": "code",
   "source": [
    "df5_6 = pd.read_csv('data/exp5_6')\n",
    "thrust5_6, lift5_6 = fitness_avg_thrust_lift(df5_6, plot=True, args={'peak_height': 1.5, 'peak_distance': 10})"
   ],
   "id": "6ef87b0f09ecbe1f",
   "outputs": [],
   "execution_count": null
  },
  {
   "metadata": {},
   "cell_type": "code",
   "source": [
    "df5_7 = pd.read_csv('data/exp5_7')\n",
    "thrust5_7, lift5_7 = fitness_avg_thrust_lift(df5_7, plot=True, args={'peak_height': 1.5, 'peak_distance': 10})"
   ],
   "id": "ca5359a04dee2cd3",
   "outputs": [],
   "execution_count": null
  },
  {
   "metadata": {},
   "cell_type": "code",
   "source": [
    "df5_8 = pd.read_csv('data/exp5_8')\n",
    "thrust5_8, lift5_8 = fitness_avg_thrust_lift(df5_8, plot=True, args={'peak_height': 1.5, 'peak_distance': 10})"
   ],
   "id": "1b2128d50cab55e3",
   "outputs": [],
   "execution_count": null
  },
  {
   "metadata": {},
   "cell_type": "code",
   "source": [
    "df5_9 = pd.read_csv('data/exp5_9')\n",
    "thrust5_9, lift5_9 = fitness_avg_thrust_lift(df5_9, plot=True, args={'peak_height': 1.5, 'peak_distance': 10})"
   ],
   "id": "7ed68ecce526c16a",
   "outputs": [],
   "execution_count": null
  },
  {
   "metadata": {},
   "cell_type": "markdown",
   "source": "## Results Analysis",
   "id": "1528b5b209434480"
  },
  {
   "metadata": {
    "ExecuteTime": {
     "end_time": "2024-04-07T20:04:56.637406Z",
     "start_time": "2024-04-07T20:04:56.508371Z"
    }
   },
   "cell_type": "code",
   "source": [
    "import pandas as pd\n",
    "import glob\n",
    "import os\n",
    "from utils import *\n",
    "\n",
    "\n",
    "# Define the directory to search in\n",
    "directory = \"data/\"\n",
    "\n",
    "# Pattern to match files starting with \"exp\"\n",
    "pattern = os.path.join(directory, \"exp*.csv\")  # Assuming CSV files\n",
    "\n",
    "# Initialize a list to store the results\n",
    "results = []\n",
    "\n",
    "# Iterate through matching files\n",
    "for filepath in glob.glob(pattern):\n",
    "    # Read the file into a DataFrame\n",
    "    df = pd.read_csv(filepath)\n",
    "    \n",
    "    # Apply your function to get thrust and lift\n",
    "    thrust, lift = fitness_avg_thrust_lift(df, plot=False, args={'peak_height': 1.5, 'peak_distance': 10})\n",
    "    \n",
    "    # Extract the filename from the filepath\n",
    "    filename = os.path.basename(filepath)\n",
    "    \n",
    "    # Append the results to the list\n",
    "    results.append({'Filename': filename[:-4], 'Thrust': thrust, 'Lift': lift, 'Force': np.sqrt(thrust**2 + lift**2), 'Experiment': filename[3]})\n",
    "\n",
    "# Convert the results list to a DataFrame\n",
    "result_df = pd.DataFrame(results)\n",
    "\n",
    "# Display the result DataFrame\n",
    "print(result_df)"
   ],
   "id": "c0822e418e1aa092",
   "outputs": [
    {
     "name": "stdout",
     "output_type": "stream",
     "text": [
      "   Filename    Thrust      Lift     Force Experiment\n",
      "0    exp5_8  0.913935  0.418825  1.005331          5\n",
      "1      exp3  0.826083  0.339110  0.892977          3\n",
      "2    exp5_5  0.860139  0.297382  0.910096          5\n",
      "3      exp1  0.882712  0.383995  0.962617          1\n",
      "4   exp4_70  0.904229  0.413632  0.994345          4\n",
      "5   exp4_50  0.910304  0.389529  0.990144          4\n",
      "6      exp2  0.831941  0.339886  0.898692          2\n",
      "7   exp4_10  0.886853  0.340979  0.950144          4\n",
      "8    exp5_9  0.888722  0.415282  0.980961          5\n",
      "9   exp4_80  0.909828  0.375812  0.984389          4\n",
      "10   exp5_1  0.819500  0.445082  0.932566          5\n",
      "11   exp5_3  0.699163  0.402140  0.806564          5\n",
      "12  exp4_60  0.911686  0.356169  0.978789          4\n",
      "13   exp5_7  0.919908  0.355986  0.986386          5\n",
      "14   exp5_4  0.793410  0.363345  0.872650          5\n",
      "15  exp4_90  0.920195  0.396393  1.001941          4\n",
      "16  exp4_20  0.902331  0.370381  0.975389          4\n",
      "17   exp5_2  0.723277  0.396683  0.824917          5\n",
      "18  exp4_30  0.907120  0.374390  0.981344          4\n",
      "19  exp4_40  0.908223  0.377261  0.983461          4\n",
      "20   exp5_6  0.891395  0.320045  0.947108          5\n"
     ]
    }
   ],
   "execution_count": 11
  },
  {
   "metadata": {
    "ExecuteTime": {
     "end_time": "2024-04-07T20:06:12.955322Z",
     "start_time": "2024-04-07T20:06:12.915271Z"
    }
   },
   "cell_type": "code",
   "source": [
    "import plotly.express as px\n",
    "\n",
    "# Assuming result_df is your DataFrame with the Filename, Thrust, and Lift columns\n",
    "fig = px.scatter(result_df, x='Thrust', y='Lift', text='Filename', color='Experiment', hover_data= 'Force',\n",
    "                 title='Thrust vs. Lift',\n",
    "                 labels={'Thrust': 'Thrust Value', 'Lift': 'Lift Value'})\n",
    "\n",
    "# Improve layout\n",
    "fig.update_traces(textposition='top center')\n",
    "#fig.update_layout(height=600, width=800)\n",
    "\n",
    "# Show plot\n",
    "fig.show()\n"
   ],
   "id": "9fa3b616ac250c7a",
   "outputs": [
    {
     "data": {
      "application/vnd.plotly.v1+json": {
       "data": [
        {
         "customdata": [
          [
           1.0053310375291267
          ],
          [
           0.9100963062211652
          ],
          [
           0.9809613902623688
          ],
          [
           0.9325659677408704
          ],
          [
           0.806563809112435
          ],
          [
           0.9863858913804103
          ],
          [
           0.8726501558686262
          ],
          [
           0.8249165602937883
          ],
          [
           0.9471078723587599
          ]
         ],
         "hovertemplate": "Experiment=5<br>Thrust Value=%{x}<br>Lift Value=%{y}<br>Filename=%{text}<br>Force=%{customdata[0]}<extra></extra>",
         "legendgroup": "5",
         "marker": {
          "color": "#636efa",
          "symbol": "circle"
         },
         "mode": "markers+text",
         "name": "5",
         "orientation": "v",
         "showlegend": true,
         "text": [
          "exp5_8",
          "exp5_5",
          "exp5_9",
          "exp5_1",
          "exp5_3",
          "exp5_7",
          "exp5_4",
          "exp5_2",
          "exp5_6"
         ],
         "x": [
          0.9139345973765426,
          0.8601389869126196,
          0.8887216714304043,
          0.8195003760670814,
          0.6991626421341615,
          0.9199082854083653,
          0.7934095342001422,
          0.7232771144293942,
          0.891394568189588
         ],
         "xaxis": "x",
         "y": [
          0.4188246013996399,
          0.2973822620640669,
          0.41528188007114875,
          0.44508248428170977,
          0.40214024669751586,
          0.35598577661385306,
          0.36334502277842057,
          0.396683182388193,
          0.3200453806666096
         ],
         "yaxis": "y",
         "type": "scatter",
         "textposition": "top center"
        },
        {
         "customdata": [
          [
           0.8929772381217995
          ]
         ],
         "hovertemplate": "Experiment=3<br>Thrust Value=%{x}<br>Lift Value=%{y}<br>Filename=%{text}<br>Force=%{customdata[0]}<extra></extra>",
         "legendgroup": "3",
         "marker": {
          "color": "#EF553B",
          "symbol": "circle"
         },
         "mode": "markers+text",
         "name": "3",
         "orientation": "v",
         "showlegend": true,
         "text": [
          "exp3"
         ],
         "x": [
          0.8260827796394573
         ],
         "xaxis": "x",
         "y": [
          0.3391099954097268
         ],
         "yaxis": "y",
         "type": "scatter",
         "textposition": "top center"
        },
        {
         "customdata": [
          [
           0.9626172565546968
          ]
         ],
         "hovertemplate": "Experiment=1<br>Thrust Value=%{x}<br>Lift Value=%{y}<br>Filename=%{text}<br>Force=%{customdata[0]}<extra></extra>",
         "legendgroup": "1",
         "marker": {
          "color": "#00cc96",
          "symbol": "circle"
         },
         "mode": "markers+text",
         "name": "1",
         "orientation": "v",
         "showlegend": true,
         "text": [
          "exp1"
         ],
         "x": [
          0.8827115014731548
         ],
         "xaxis": "x",
         "y": [
          0.3839952965648141
         ],
         "yaxis": "y",
         "type": "scatter",
         "textposition": "top center"
        },
        {
         "customdata": [
          [
           0.9943452048374037
          ],
          [
           0.9901440322748837
          ],
          [
           0.9501444141705205
          ],
          [
           0.9843891343427479
          ],
          [
           0.9787887715015832
          ],
          [
           1.0019414475672965
          ],
          [
           0.9753891750673082
          ],
          [
           0.9813437737015398
          ],
          [
           0.9834606042897399
          ]
         ],
         "hovertemplate": "Experiment=4<br>Thrust Value=%{x}<br>Lift Value=%{y}<br>Filename=%{text}<br>Force=%{customdata[0]}<extra></extra>",
         "legendgroup": "4",
         "marker": {
          "color": "#ab63fa",
          "symbol": "circle"
         },
         "mode": "markers+text",
         "name": "4",
         "orientation": "v",
         "showlegend": true,
         "text": [
          "exp4_70",
          "exp4_50",
          "exp4_10",
          "exp4_80",
          "exp4_60",
          "exp4_90",
          "exp4_20",
          "exp4_30",
          "exp4_40"
         ],
         "x": [
          0.9042294741949284,
          0.9103035896268267,
          0.8868528321357322,
          0.90982836153849,
          0.9116860107005018,
          0.9201954350822298,
          0.9023312613311198,
          0.9071204012127011,
          0.9082231150281773
         ],
         "xaxis": "x",
         "y": [
          0.41363201566162844,
          0.38952866308152445,
          0.3409786824894959,
          0.3758115489873233,
          0.3561686076994755,
          0.39639251456993396,
          0.3703813408678604,
          0.3743904110503995,
          0.3772605644888619
         ],
         "yaxis": "y",
         "type": "scatter",
         "textposition": "top center"
        },
        {
         "customdata": [
          [
           0.8986919997975442
          ]
         ],
         "hovertemplate": "Experiment=2<br>Thrust Value=%{x}<br>Lift Value=%{y}<br>Filename=%{text}<br>Force=%{customdata[0]}<extra></extra>",
         "legendgroup": "2",
         "marker": {
          "color": "#FFA15A",
          "symbol": "circle"
         },
         "mode": "markers+text",
         "name": "2",
         "orientation": "v",
         "showlegend": true,
         "text": [
          "exp2"
         ],
         "x": [
          0.8319405011891268
         ],
         "xaxis": "x",
         "y": [
          0.3398857351835964
         ],
         "yaxis": "y",
         "type": "scatter",
         "textposition": "top center"
        }
       ],
       "layout": {
        "template": {
         "data": {
          "histogram2dcontour": [
           {
            "type": "histogram2dcontour",
            "colorbar": {
             "outlinewidth": 0,
             "ticks": ""
            },
            "colorscale": [
             [
              0.0,
              "#0d0887"
             ],
             [
              0.1111111111111111,
              "#46039f"
             ],
             [
              0.2222222222222222,
              "#7201a8"
             ],
             [
              0.3333333333333333,
              "#9c179e"
             ],
             [
              0.4444444444444444,
              "#bd3786"
             ],
             [
              0.5555555555555556,
              "#d8576b"
             ],
             [
              0.6666666666666666,
              "#ed7953"
             ],
             [
              0.7777777777777778,
              "#fb9f3a"
             ],
             [
              0.8888888888888888,
              "#fdca26"
             ],
             [
              1.0,
              "#f0f921"
             ]
            ]
           }
          ],
          "choropleth": [
           {
            "type": "choropleth",
            "colorbar": {
             "outlinewidth": 0,
             "ticks": ""
            }
           }
          ],
          "histogram2d": [
           {
            "type": "histogram2d",
            "colorbar": {
             "outlinewidth": 0,
             "ticks": ""
            },
            "colorscale": [
             [
              0.0,
              "#0d0887"
             ],
             [
              0.1111111111111111,
              "#46039f"
             ],
             [
              0.2222222222222222,
              "#7201a8"
             ],
             [
              0.3333333333333333,
              "#9c179e"
             ],
             [
              0.4444444444444444,
              "#bd3786"
             ],
             [
              0.5555555555555556,
              "#d8576b"
             ],
             [
              0.6666666666666666,
              "#ed7953"
             ],
             [
              0.7777777777777778,
              "#fb9f3a"
             ],
             [
              0.8888888888888888,
              "#fdca26"
             ],
             [
              1.0,
              "#f0f921"
             ]
            ]
           }
          ],
          "heatmap": [
           {
            "type": "heatmap",
            "colorbar": {
             "outlinewidth": 0,
             "ticks": ""
            },
            "colorscale": [
             [
              0.0,
              "#0d0887"
             ],
             [
              0.1111111111111111,
              "#46039f"
             ],
             [
              0.2222222222222222,
              "#7201a8"
             ],
             [
              0.3333333333333333,
              "#9c179e"
             ],
             [
              0.4444444444444444,
              "#bd3786"
             ],
             [
              0.5555555555555556,
              "#d8576b"
             ],
             [
              0.6666666666666666,
              "#ed7953"
             ],
             [
              0.7777777777777778,
              "#fb9f3a"
             ],
             [
              0.8888888888888888,
              "#fdca26"
             ],
             [
              1.0,
              "#f0f921"
             ]
            ]
           }
          ],
          "heatmapgl": [
           {
            "type": "heatmapgl",
            "colorbar": {
             "outlinewidth": 0,
             "ticks": ""
            },
            "colorscale": [
             [
              0.0,
              "#0d0887"
             ],
             [
              0.1111111111111111,
              "#46039f"
             ],
             [
              0.2222222222222222,
              "#7201a8"
             ],
             [
              0.3333333333333333,
              "#9c179e"
             ],
             [
              0.4444444444444444,
              "#bd3786"
             ],
             [
              0.5555555555555556,
              "#d8576b"
             ],
             [
              0.6666666666666666,
              "#ed7953"
             ],
             [
              0.7777777777777778,
              "#fb9f3a"
             ],
             [
              0.8888888888888888,
              "#fdca26"
             ],
             [
              1.0,
              "#f0f921"
             ]
            ]
           }
          ],
          "contourcarpet": [
           {
            "type": "contourcarpet",
            "colorbar": {
             "outlinewidth": 0,
             "ticks": ""
            }
           }
          ],
          "contour": [
           {
            "type": "contour",
            "colorbar": {
             "outlinewidth": 0,
             "ticks": ""
            },
            "colorscale": [
             [
              0.0,
              "#0d0887"
             ],
             [
              0.1111111111111111,
              "#46039f"
             ],
             [
              0.2222222222222222,
              "#7201a8"
             ],
             [
              0.3333333333333333,
              "#9c179e"
             ],
             [
              0.4444444444444444,
              "#bd3786"
             ],
             [
              0.5555555555555556,
              "#d8576b"
             ],
             [
              0.6666666666666666,
              "#ed7953"
             ],
             [
              0.7777777777777778,
              "#fb9f3a"
             ],
             [
              0.8888888888888888,
              "#fdca26"
             ],
             [
              1.0,
              "#f0f921"
             ]
            ]
           }
          ],
          "surface": [
           {
            "type": "surface",
            "colorbar": {
             "outlinewidth": 0,
             "ticks": ""
            },
            "colorscale": [
             [
              0.0,
              "#0d0887"
             ],
             [
              0.1111111111111111,
              "#46039f"
             ],
             [
              0.2222222222222222,
              "#7201a8"
             ],
             [
              0.3333333333333333,
              "#9c179e"
             ],
             [
              0.4444444444444444,
              "#bd3786"
             ],
             [
              0.5555555555555556,
              "#d8576b"
             ],
             [
              0.6666666666666666,
              "#ed7953"
             ],
             [
              0.7777777777777778,
              "#fb9f3a"
             ],
             [
              0.8888888888888888,
              "#fdca26"
             ],
             [
              1.0,
              "#f0f921"
             ]
            ]
           }
          ],
          "mesh3d": [
           {
            "type": "mesh3d",
            "colorbar": {
             "outlinewidth": 0,
             "ticks": ""
            }
           }
          ],
          "scatter": [
           {
            "marker": {
             "line": {
              "color": "#283442"
             }
            },
            "type": "scatter"
           }
          ],
          "parcoords": [
           {
            "type": "parcoords",
            "line": {
             "colorbar": {
              "outlinewidth": 0,
              "ticks": ""
             }
            }
           }
          ],
          "scatterpolargl": [
           {
            "type": "scatterpolargl",
            "marker": {
             "colorbar": {
              "outlinewidth": 0,
              "ticks": ""
             }
            }
           }
          ],
          "bar": [
           {
            "error_x": {
             "color": "#f2f5fa"
            },
            "error_y": {
             "color": "#f2f5fa"
            },
            "marker": {
             "line": {
              "color": "rgb(17,17,17)",
              "width": 0.5
             },
             "pattern": {
              "fillmode": "overlay",
              "size": 10,
              "solidity": 0.2
             }
            },
            "type": "bar"
           }
          ],
          "scattergeo": [
           {
            "type": "scattergeo",
            "marker": {
             "colorbar": {
              "outlinewidth": 0,
              "ticks": ""
             }
            }
           }
          ],
          "scatterpolar": [
           {
            "type": "scatterpolar",
            "marker": {
             "colorbar": {
              "outlinewidth": 0,
              "ticks": ""
             }
            }
           }
          ],
          "histogram": [
           {
            "marker": {
             "pattern": {
              "fillmode": "overlay",
              "size": 10,
              "solidity": 0.2
             }
            },
            "type": "histogram"
           }
          ],
          "scattergl": [
           {
            "marker": {
             "line": {
              "color": "#283442"
             }
            },
            "type": "scattergl"
           }
          ],
          "scatter3d": [
           {
            "type": "scatter3d",
            "line": {
             "colorbar": {
              "outlinewidth": 0,
              "ticks": ""
             }
            },
            "marker": {
             "colorbar": {
              "outlinewidth": 0,
              "ticks": ""
             }
            }
           }
          ],
          "scattermapbox": [
           {
            "type": "scattermapbox",
            "marker": {
             "colorbar": {
              "outlinewidth": 0,
              "ticks": ""
             }
            }
           }
          ],
          "scatterternary": [
           {
            "type": "scatterternary",
            "marker": {
             "colorbar": {
              "outlinewidth": 0,
              "ticks": ""
             }
            }
           }
          ],
          "scattercarpet": [
           {
            "type": "scattercarpet",
            "marker": {
             "colorbar": {
              "outlinewidth": 0,
              "ticks": ""
             }
            }
           }
          ],
          "carpet": [
           {
            "aaxis": {
             "endlinecolor": "#A2B1C6",
             "gridcolor": "#506784",
             "linecolor": "#506784",
             "minorgridcolor": "#506784",
             "startlinecolor": "#A2B1C6"
            },
            "baxis": {
             "endlinecolor": "#A2B1C6",
             "gridcolor": "#506784",
             "linecolor": "#506784",
             "minorgridcolor": "#506784",
             "startlinecolor": "#A2B1C6"
            },
            "type": "carpet"
           }
          ],
          "table": [
           {
            "cells": {
             "fill": {
              "color": "#506784"
             },
             "line": {
              "color": "rgb(17,17,17)"
             }
            },
            "header": {
             "fill": {
              "color": "#2a3f5f"
             },
             "line": {
              "color": "rgb(17,17,17)"
             }
            },
            "type": "table"
           }
          ],
          "barpolar": [
           {
            "marker": {
             "line": {
              "color": "rgb(17,17,17)",
              "width": 0.5
             },
             "pattern": {
              "fillmode": "overlay",
              "size": 10,
              "solidity": 0.2
             }
            },
            "type": "barpolar"
           }
          ],
          "pie": [
           {
            "automargin": true,
            "type": "pie"
           }
          ]
         },
         "layout": {
          "autotypenumbers": "strict",
          "colorway": [
           "#636efa",
           "#EF553B",
           "#00cc96",
           "#ab63fa",
           "#FFA15A",
           "#19d3f3",
           "#FF6692",
           "#B6E880",
           "#FF97FF",
           "#FECB52"
          ],
          "font": {
           "color": "#f2f5fa"
          },
          "hovermode": "closest",
          "hoverlabel": {
           "align": "left"
          },
          "paper_bgcolor": "rgb(17,17,17)",
          "plot_bgcolor": "rgb(17,17,17)",
          "polar": {
           "bgcolor": "rgb(17,17,17)",
           "angularaxis": {
            "gridcolor": "#506784",
            "linecolor": "#506784",
            "ticks": ""
           },
           "radialaxis": {
            "gridcolor": "#506784",
            "linecolor": "#506784",
            "ticks": ""
           }
          },
          "ternary": {
           "bgcolor": "rgb(17,17,17)",
           "aaxis": {
            "gridcolor": "#506784",
            "linecolor": "#506784",
            "ticks": ""
           },
           "baxis": {
            "gridcolor": "#506784",
            "linecolor": "#506784",
            "ticks": ""
           },
           "caxis": {
            "gridcolor": "#506784",
            "linecolor": "#506784",
            "ticks": ""
           }
          },
          "coloraxis": {
           "colorbar": {
            "outlinewidth": 0,
            "ticks": ""
           }
          },
          "colorscale": {
           "sequential": [
            [
             0.0,
             "#0d0887"
            ],
            [
             0.1111111111111111,
             "#46039f"
            ],
            [
             0.2222222222222222,
             "#7201a8"
            ],
            [
             0.3333333333333333,
             "#9c179e"
            ],
            [
             0.4444444444444444,
             "#bd3786"
            ],
            [
             0.5555555555555556,
             "#d8576b"
            ],
            [
             0.6666666666666666,
             "#ed7953"
            ],
            [
             0.7777777777777778,
             "#fb9f3a"
            ],
            [
             0.8888888888888888,
             "#fdca26"
            ],
            [
             1.0,
             "#f0f921"
            ]
           ],
           "sequentialminus": [
            [
             0.0,
             "#0d0887"
            ],
            [
             0.1111111111111111,
             "#46039f"
            ],
            [
             0.2222222222222222,
             "#7201a8"
            ],
            [
             0.3333333333333333,
             "#9c179e"
            ],
            [
             0.4444444444444444,
             "#bd3786"
            ],
            [
             0.5555555555555556,
             "#d8576b"
            ],
            [
             0.6666666666666666,
             "#ed7953"
            ],
            [
             0.7777777777777778,
             "#fb9f3a"
            ],
            [
             0.8888888888888888,
             "#fdca26"
            ],
            [
             1.0,
             "#f0f921"
            ]
           ],
           "diverging": [
            [
             0,
             "#8e0152"
            ],
            [
             0.1,
             "#c51b7d"
            ],
            [
             0.2,
             "#de77ae"
            ],
            [
             0.3,
             "#f1b6da"
            ],
            [
             0.4,
             "#fde0ef"
            ],
            [
             0.5,
             "#f7f7f7"
            ],
            [
             0.6,
             "#e6f5d0"
            ],
            [
             0.7,
             "#b8e186"
            ],
            [
             0.8,
             "#7fbc41"
            ],
            [
             0.9,
             "#4d9221"
            ],
            [
             1,
             "#276419"
            ]
           ]
          },
          "xaxis": {
           "gridcolor": "#283442",
           "linecolor": "#506784",
           "ticks": "",
           "title": {
            "standoff": 15
           },
           "zerolinecolor": "#283442",
           "automargin": true,
           "zerolinewidth": 2
          },
          "yaxis": {
           "gridcolor": "#283442",
           "linecolor": "#506784",
           "ticks": "",
           "title": {
            "standoff": 15
           },
           "zerolinecolor": "#283442",
           "automargin": true,
           "zerolinewidth": 2
          },
          "scene": {
           "xaxis": {
            "backgroundcolor": "rgb(17,17,17)",
            "gridcolor": "#506784",
            "linecolor": "#506784",
            "showbackground": true,
            "ticks": "",
            "zerolinecolor": "#C8D4E3",
            "gridwidth": 2
           },
           "yaxis": {
            "backgroundcolor": "rgb(17,17,17)",
            "gridcolor": "#506784",
            "linecolor": "#506784",
            "showbackground": true,
            "ticks": "",
            "zerolinecolor": "#C8D4E3",
            "gridwidth": 2
           },
           "zaxis": {
            "backgroundcolor": "rgb(17,17,17)",
            "gridcolor": "#506784",
            "linecolor": "#506784",
            "showbackground": true,
            "ticks": "",
            "zerolinecolor": "#C8D4E3",
            "gridwidth": 2
           }
          },
          "shapedefaults": {
           "line": {
            "color": "#f2f5fa"
           }
          },
          "annotationdefaults": {
           "arrowcolor": "#f2f5fa",
           "arrowhead": 0,
           "arrowwidth": 1
          },
          "geo": {
           "bgcolor": "rgb(17,17,17)",
           "landcolor": "rgb(17,17,17)",
           "subunitcolor": "#506784",
           "showland": true,
           "showlakes": true,
           "lakecolor": "rgb(17,17,17)"
          },
          "title": {
           "x": 0.05
          },
          "updatemenudefaults": {
           "bgcolor": "#506784",
           "borderwidth": 0
          },
          "sliderdefaults": {
           "bgcolor": "#C8D4E3",
           "borderwidth": 1,
           "bordercolor": "rgb(17,17,17)",
           "tickwidth": 0
          },
          "mapbox": {
           "style": "dark"
          }
         }
        },
        "xaxis": {
         "anchor": "y",
         "domain": [
          0.0,
          1.0
         ],
         "title": {
          "text": "Thrust Value"
         }
        },
        "yaxis": {
         "anchor": "x",
         "domain": [
          0.0,
          1.0
         ],
         "title": {
          "text": "Lift Value"
         }
        },
        "legend": {
         "title": {
          "text": "Experiment"
         },
         "tracegroupgap": 0
        },
        "title": {
         "text": "Thrust vs. Lift"
        }
       },
       "config": {
        "plotlyServerURL": "https://plot.ly"
       }
      },
      "text/html": [
       "<div>                            <div id=\"6a9c193e-48ed-40cf-b2da-44f14d4a20c9\" class=\"plotly-graph-div\" style=\"height:525px; width:100%;\"></div>            <script type=\"text/javascript\">                require([\"plotly\"], function(Plotly) {                    window.PLOTLYENV=window.PLOTLYENV || {};                                    if (document.getElementById(\"6a9c193e-48ed-40cf-b2da-44f14d4a20c9\")) {                    Plotly.newPlot(                        \"6a9c193e-48ed-40cf-b2da-44f14d4a20c9\",                        [{\"customdata\":[[1.0053310375291267],[0.9100963062211652],[0.9809613902623688],[0.9325659677408704],[0.806563809112435],[0.9863858913804103],[0.8726501558686262],[0.8249165602937883],[0.9471078723587599]],\"hovertemplate\":\"Experiment=5<br>Thrust Value=%{x}<br>Lift Value=%{y}<br>Filename=%{text}<br>Force=%{customdata[0]}<extra></extra>\",\"legendgroup\":\"5\",\"marker\":{\"color\":\"#636efa\",\"symbol\":\"circle\"},\"mode\":\"markers+text\",\"name\":\"5\",\"orientation\":\"v\",\"showlegend\":true,\"text\":[\"exp5_8\",\"exp5_5\",\"exp5_9\",\"exp5_1\",\"exp5_3\",\"exp5_7\",\"exp5_4\",\"exp5_2\",\"exp5_6\"],\"x\":[0.9139345973765426,0.8601389869126196,0.8887216714304043,0.8195003760670814,0.6991626421341615,0.9199082854083653,0.7934095342001422,0.7232771144293942,0.891394568189588],\"xaxis\":\"x\",\"y\":[0.4188246013996399,0.2973822620640669,0.41528188007114875,0.44508248428170977,0.40214024669751586,0.35598577661385306,0.36334502277842057,0.396683182388193,0.3200453806666096],\"yaxis\":\"y\",\"type\":\"scatter\",\"textposition\":\"top center\"},{\"customdata\":[[0.8929772381217995]],\"hovertemplate\":\"Experiment=3<br>Thrust Value=%{x}<br>Lift Value=%{y}<br>Filename=%{text}<br>Force=%{customdata[0]}<extra></extra>\",\"legendgroup\":\"3\",\"marker\":{\"color\":\"#EF553B\",\"symbol\":\"circle\"},\"mode\":\"markers+text\",\"name\":\"3\",\"orientation\":\"v\",\"showlegend\":true,\"text\":[\"exp3\"],\"x\":[0.8260827796394573],\"xaxis\":\"x\",\"y\":[0.3391099954097268],\"yaxis\":\"y\",\"type\":\"scatter\",\"textposition\":\"top center\"},{\"customdata\":[[0.9626172565546968]],\"hovertemplate\":\"Experiment=1<br>Thrust Value=%{x}<br>Lift Value=%{y}<br>Filename=%{text}<br>Force=%{customdata[0]}<extra></extra>\",\"legendgroup\":\"1\",\"marker\":{\"color\":\"#00cc96\",\"symbol\":\"circle\"},\"mode\":\"markers+text\",\"name\":\"1\",\"orientation\":\"v\",\"showlegend\":true,\"text\":[\"exp1\"],\"x\":[0.8827115014731548],\"xaxis\":\"x\",\"y\":[0.3839952965648141],\"yaxis\":\"y\",\"type\":\"scatter\",\"textposition\":\"top center\"},{\"customdata\":[[0.9943452048374037],[0.9901440322748837],[0.9501444141705205],[0.9843891343427479],[0.9787887715015832],[1.0019414475672965],[0.9753891750673082],[0.9813437737015398],[0.9834606042897399]],\"hovertemplate\":\"Experiment=4<br>Thrust Value=%{x}<br>Lift Value=%{y}<br>Filename=%{text}<br>Force=%{customdata[0]}<extra></extra>\",\"legendgroup\":\"4\",\"marker\":{\"color\":\"#ab63fa\",\"symbol\":\"circle\"},\"mode\":\"markers+text\",\"name\":\"4\",\"orientation\":\"v\",\"showlegend\":true,\"text\":[\"exp4_70\",\"exp4_50\",\"exp4_10\",\"exp4_80\",\"exp4_60\",\"exp4_90\",\"exp4_20\",\"exp4_30\",\"exp4_40\"],\"x\":[0.9042294741949284,0.9103035896268267,0.8868528321357322,0.90982836153849,0.9116860107005018,0.9201954350822298,0.9023312613311198,0.9071204012127011,0.9082231150281773],\"xaxis\":\"x\",\"y\":[0.41363201566162844,0.38952866308152445,0.3409786824894959,0.3758115489873233,0.3561686076994755,0.39639251456993396,0.3703813408678604,0.3743904110503995,0.3772605644888619],\"yaxis\":\"y\",\"type\":\"scatter\",\"textposition\":\"top center\"},{\"customdata\":[[0.8986919997975442]],\"hovertemplate\":\"Experiment=2<br>Thrust Value=%{x}<br>Lift Value=%{y}<br>Filename=%{text}<br>Force=%{customdata[0]}<extra></extra>\",\"legendgroup\":\"2\",\"marker\":{\"color\":\"#FFA15A\",\"symbol\":\"circle\"},\"mode\":\"markers+text\",\"name\":\"2\",\"orientation\":\"v\",\"showlegend\":true,\"text\":[\"exp2\"],\"x\":[0.8319405011891268],\"xaxis\":\"x\",\"y\":[0.3398857351835964],\"yaxis\":\"y\",\"type\":\"scatter\",\"textposition\":\"top center\"}],                        {\"template\":{\"data\":{\"histogram2dcontour\":[{\"type\":\"histogram2dcontour\",\"colorbar\":{\"outlinewidth\":0,\"ticks\":\"\"},\"colorscale\":[[0.0,\"#0d0887\"],[0.1111111111111111,\"#46039f\"],[0.2222222222222222,\"#7201a8\"],[0.3333333333333333,\"#9c179e\"],[0.4444444444444444,\"#bd3786\"],[0.5555555555555556,\"#d8576b\"],[0.6666666666666666,\"#ed7953\"],[0.7777777777777778,\"#fb9f3a\"],[0.8888888888888888,\"#fdca26\"],[1.0,\"#f0f921\"]]}],\"choropleth\":[{\"type\":\"choropleth\",\"colorbar\":{\"outlinewidth\":0,\"ticks\":\"\"}}],\"histogram2d\":[{\"type\":\"histogram2d\",\"colorbar\":{\"outlinewidth\":0,\"ticks\":\"\"},\"colorscale\":[[0.0,\"#0d0887\"],[0.1111111111111111,\"#46039f\"],[0.2222222222222222,\"#7201a8\"],[0.3333333333333333,\"#9c179e\"],[0.4444444444444444,\"#bd3786\"],[0.5555555555555556,\"#d8576b\"],[0.6666666666666666,\"#ed7953\"],[0.7777777777777778,\"#fb9f3a\"],[0.8888888888888888,\"#fdca26\"],[1.0,\"#f0f921\"]]}],\"heatmap\":[{\"type\":\"heatmap\",\"colorbar\":{\"outlinewidth\":0,\"ticks\":\"\"},\"colorscale\":[[0.0,\"#0d0887\"],[0.1111111111111111,\"#46039f\"],[0.2222222222222222,\"#7201a8\"],[0.3333333333333333,\"#9c179e\"],[0.4444444444444444,\"#bd3786\"],[0.5555555555555556,\"#d8576b\"],[0.6666666666666666,\"#ed7953\"],[0.7777777777777778,\"#fb9f3a\"],[0.8888888888888888,\"#fdca26\"],[1.0,\"#f0f921\"]]}],\"heatmapgl\":[{\"type\":\"heatmapgl\",\"colorbar\":{\"outlinewidth\":0,\"ticks\":\"\"},\"colorscale\":[[0.0,\"#0d0887\"],[0.1111111111111111,\"#46039f\"],[0.2222222222222222,\"#7201a8\"],[0.3333333333333333,\"#9c179e\"],[0.4444444444444444,\"#bd3786\"],[0.5555555555555556,\"#d8576b\"],[0.6666666666666666,\"#ed7953\"],[0.7777777777777778,\"#fb9f3a\"],[0.8888888888888888,\"#fdca26\"],[1.0,\"#f0f921\"]]}],\"contourcarpet\":[{\"type\":\"contourcarpet\",\"colorbar\":{\"outlinewidth\":0,\"ticks\":\"\"}}],\"contour\":[{\"type\":\"contour\",\"colorbar\":{\"outlinewidth\":0,\"ticks\":\"\"},\"colorscale\":[[0.0,\"#0d0887\"],[0.1111111111111111,\"#46039f\"],[0.2222222222222222,\"#7201a8\"],[0.3333333333333333,\"#9c179e\"],[0.4444444444444444,\"#bd3786\"],[0.5555555555555556,\"#d8576b\"],[0.6666666666666666,\"#ed7953\"],[0.7777777777777778,\"#fb9f3a\"],[0.8888888888888888,\"#fdca26\"],[1.0,\"#f0f921\"]]}],\"surface\":[{\"type\":\"surface\",\"colorbar\":{\"outlinewidth\":0,\"ticks\":\"\"},\"colorscale\":[[0.0,\"#0d0887\"],[0.1111111111111111,\"#46039f\"],[0.2222222222222222,\"#7201a8\"],[0.3333333333333333,\"#9c179e\"],[0.4444444444444444,\"#bd3786\"],[0.5555555555555556,\"#d8576b\"],[0.6666666666666666,\"#ed7953\"],[0.7777777777777778,\"#fb9f3a\"],[0.8888888888888888,\"#fdca26\"],[1.0,\"#f0f921\"]]}],\"mesh3d\":[{\"type\":\"mesh3d\",\"colorbar\":{\"outlinewidth\":0,\"ticks\":\"\"}}],\"scatter\":[{\"marker\":{\"line\":{\"color\":\"#283442\"}},\"type\":\"scatter\"}],\"parcoords\":[{\"type\":\"parcoords\",\"line\":{\"colorbar\":{\"outlinewidth\":0,\"ticks\":\"\"}}}],\"scatterpolargl\":[{\"type\":\"scatterpolargl\",\"marker\":{\"colorbar\":{\"outlinewidth\":0,\"ticks\":\"\"}}}],\"bar\":[{\"error_x\":{\"color\":\"#f2f5fa\"},\"error_y\":{\"color\":\"#f2f5fa\"},\"marker\":{\"line\":{\"color\":\"rgb(17,17,17)\",\"width\":0.5},\"pattern\":{\"fillmode\":\"overlay\",\"size\":10,\"solidity\":0.2}},\"type\":\"bar\"}],\"scattergeo\":[{\"type\":\"scattergeo\",\"marker\":{\"colorbar\":{\"outlinewidth\":0,\"ticks\":\"\"}}}],\"scatterpolar\":[{\"type\":\"scatterpolar\",\"marker\":{\"colorbar\":{\"outlinewidth\":0,\"ticks\":\"\"}}}],\"histogram\":[{\"marker\":{\"pattern\":{\"fillmode\":\"overlay\",\"size\":10,\"solidity\":0.2}},\"type\":\"histogram\"}],\"scattergl\":[{\"marker\":{\"line\":{\"color\":\"#283442\"}},\"type\":\"scattergl\"}],\"scatter3d\":[{\"type\":\"scatter3d\",\"line\":{\"colorbar\":{\"outlinewidth\":0,\"ticks\":\"\"}},\"marker\":{\"colorbar\":{\"outlinewidth\":0,\"ticks\":\"\"}}}],\"scattermapbox\":[{\"type\":\"scattermapbox\",\"marker\":{\"colorbar\":{\"outlinewidth\":0,\"ticks\":\"\"}}}],\"scatterternary\":[{\"type\":\"scatterternary\",\"marker\":{\"colorbar\":{\"outlinewidth\":0,\"ticks\":\"\"}}}],\"scattercarpet\":[{\"type\":\"scattercarpet\",\"marker\":{\"colorbar\":{\"outlinewidth\":0,\"ticks\":\"\"}}}],\"carpet\":[{\"aaxis\":{\"endlinecolor\":\"#A2B1C6\",\"gridcolor\":\"#506784\",\"linecolor\":\"#506784\",\"minorgridcolor\":\"#506784\",\"startlinecolor\":\"#A2B1C6\"},\"baxis\":{\"endlinecolor\":\"#A2B1C6\",\"gridcolor\":\"#506784\",\"linecolor\":\"#506784\",\"minorgridcolor\":\"#506784\",\"startlinecolor\":\"#A2B1C6\"},\"type\":\"carpet\"}],\"table\":[{\"cells\":{\"fill\":{\"color\":\"#506784\"},\"line\":{\"color\":\"rgb(17,17,17)\"}},\"header\":{\"fill\":{\"color\":\"#2a3f5f\"},\"line\":{\"color\":\"rgb(17,17,17)\"}},\"type\":\"table\"}],\"barpolar\":[{\"marker\":{\"line\":{\"color\":\"rgb(17,17,17)\",\"width\":0.5},\"pattern\":{\"fillmode\":\"overlay\",\"size\":10,\"solidity\":0.2}},\"type\":\"barpolar\"}],\"pie\":[{\"automargin\":true,\"type\":\"pie\"}]},\"layout\":{\"autotypenumbers\":\"strict\",\"colorway\":[\"#636efa\",\"#EF553B\",\"#00cc96\",\"#ab63fa\",\"#FFA15A\",\"#19d3f3\",\"#FF6692\",\"#B6E880\",\"#FF97FF\",\"#FECB52\"],\"font\":{\"color\":\"#f2f5fa\"},\"hovermode\":\"closest\",\"hoverlabel\":{\"align\":\"left\"},\"paper_bgcolor\":\"rgb(17,17,17)\",\"plot_bgcolor\":\"rgb(17,17,17)\",\"polar\":{\"bgcolor\":\"rgb(17,17,17)\",\"angularaxis\":{\"gridcolor\":\"#506784\",\"linecolor\":\"#506784\",\"ticks\":\"\"},\"radialaxis\":{\"gridcolor\":\"#506784\",\"linecolor\":\"#506784\",\"ticks\":\"\"}},\"ternary\":{\"bgcolor\":\"rgb(17,17,17)\",\"aaxis\":{\"gridcolor\":\"#506784\",\"linecolor\":\"#506784\",\"ticks\":\"\"},\"baxis\":{\"gridcolor\":\"#506784\",\"linecolor\":\"#506784\",\"ticks\":\"\"},\"caxis\":{\"gridcolor\":\"#506784\",\"linecolor\":\"#506784\",\"ticks\":\"\"}},\"coloraxis\":{\"colorbar\":{\"outlinewidth\":0,\"ticks\":\"\"}},\"colorscale\":{\"sequential\":[[0.0,\"#0d0887\"],[0.1111111111111111,\"#46039f\"],[0.2222222222222222,\"#7201a8\"],[0.3333333333333333,\"#9c179e\"],[0.4444444444444444,\"#bd3786\"],[0.5555555555555556,\"#d8576b\"],[0.6666666666666666,\"#ed7953\"],[0.7777777777777778,\"#fb9f3a\"],[0.8888888888888888,\"#fdca26\"],[1.0,\"#f0f921\"]],\"sequentialminus\":[[0.0,\"#0d0887\"],[0.1111111111111111,\"#46039f\"],[0.2222222222222222,\"#7201a8\"],[0.3333333333333333,\"#9c179e\"],[0.4444444444444444,\"#bd3786\"],[0.5555555555555556,\"#d8576b\"],[0.6666666666666666,\"#ed7953\"],[0.7777777777777778,\"#fb9f3a\"],[0.8888888888888888,\"#fdca26\"],[1.0,\"#f0f921\"]],\"diverging\":[[0,\"#8e0152\"],[0.1,\"#c51b7d\"],[0.2,\"#de77ae\"],[0.3,\"#f1b6da\"],[0.4,\"#fde0ef\"],[0.5,\"#f7f7f7\"],[0.6,\"#e6f5d0\"],[0.7,\"#b8e186\"],[0.8,\"#7fbc41\"],[0.9,\"#4d9221\"],[1,\"#276419\"]]},\"xaxis\":{\"gridcolor\":\"#283442\",\"linecolor\":\"#506784\",\"ticks\":\"\",\"title\":{\"standoff\":15},\"zerolinecolor\":\"#283442\",\"automargin\":true,\"zerolinewidth\":2},\"yaxis\":{\"gridcolor\":\"#283442\",\"linecolor\":\"#506784\",\"ticks\":\"\",\"title\":{\"standoff\":15},\"zerolinecolor\":\"#283442\",\"automargin\":true,\"zerolinewidth\":2},\"scene\":{\"xaxis\":{\"backgroundcolor\":\"rgb(17,17,17)\",\"gridcolor\":\"#506784\",\"linecolor\":\"#506784\",\"showbackground\":true,\"ticks\":\"\",\"zerolinecolor\":\"#C8D4E3\",\"gridwidth\":2},\"yaxis\":{\"backgroundcolor\":\"rgb(17,17,17)\",\"gridcolor\":\"#506784\",\"linecolor\":\"#506784\",\"showbackground\":true,\"ticks\":\"\",\"zerolinecolor\":\"#C8D4E3\",\"gridwidth\":2},\"zaxis\":{\"backgroundcolor\":\"rgb(17,17,17)\",\"gridcolor\":\"#506784\",\"linecolor\":\"#506784\",\"showbackground\":true,\"ticks\":\"\",\"zerolinecolor\":\"#C8D4E3\",\"gridwidth\":2}},\"shapedefaults\":{\"line\":{\"color\":\"#f2f5fa\"}},\"annotationdefaults\":{\"arrowcolor\":\"#f2f5fa\",\"arrowhead\":0,\"arrowwidth\":1},\"geo\":{\"bgcolor\":\"rgb(17,17,17)\",\"landcolor\":\"rgb(17,17,17)\",\"subunitcolor\":\"#506784\",\"showland\":true,\"showlakes\":true,\"lakecolor\":\"rgb(17,17,17)\"},\"title\":{\"x\":0.05},\"updatemenudefaults\":{\"bgcolor\":\"#506784\",\"borderwidth\":0},\"sliderdefaults\":{\"bgcolor\":\"#C8D4E3\",\"borderwidth\":1,\"bordercolor\":\"rgb(17,17,17)\",\"tickwidth\":0},\"mapbox\":{\"style\":\"dark\"}}},\"xaxis\":{\"anchor\":\"y\",\"domain\":[0.0,1.0],\"title\":{\"text\":\"Thrust Value\"}},\"yaxis\":{\"anchor\":\"x\",\"domain\":[0.0,1.0],\"title\":{\"text\":\"Lift Value\"}},\"legend\":{\"title\":{\"text\":\"Experiment\"},\"tracegroupgap\":0},\"title\":{\"text\":\"Thrust vs. Lift\"}},                        {\"responsive\": true}                    ).then(function(){\n",
       "                            \n",
       "var gd = document.getElementById('6a9c193e-48ed-40cf-b2da-44f14d4a20c9');\n",
       "var x = new MutationObserver(function (mutations, observer) {{\n",
       "        var display = window.getComputedStyle(gd).display;\n",
       "        if (!display || display === 'none') {{\n",
       "            console.log([gd, 'removed!']);\n",
       "            Plotly.purge(gd);\n",
       "            observer.disconnect();\n",
       "        }}\n",
       "}});\n",
       "\n",
       "// Listen for the removal of the full notebook cells\n",
       "var notebookContainer = gd.closest('#notebook-container');\n",
       "if (notebookContainer) {{\n",
       "    x.observe(notebookContainer, {childList: true});\n",
       "}}\n",
       "\n",
       "// Listen for the clearing of the current output cell\n",
       "var outputEl = gd.closest('.output');\n",
       "if (outputEl) {{\n",
       "    x.observe(outputEl, {childList: true});\n",
       "}}\n",
       "\n",
       "                        })                };                });            </script>        </div>"
      ]
     },
     "metadata": {},
     "output_type": "display_data"
    }
   ],
   "execution_count": 14
  }
 ],
 "metadata": {
  "kernelspec": {
   "display_name": "Python 3",
   "language": "python",
   "name": "python3"
  },
  "language_info": {
   "codemirror_mode": {
    "name": "ipython",
    "version": 2
   },
   "file_extension": ".py",
   "mimetype": "text/x-python",
   "name": "python",
   "nbconvert_exporter": "python",
   "pygments_lexer": "ipython2",
   "version": "2.7.6"
  }
 },
 "nbformat": 4,
 "nbformat_minor": 5
}
