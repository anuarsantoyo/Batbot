{
 "cells": [
  {
   "cell_type": "code",
   "execution_count": null,
   "metadata": {
    "collapsed": true
   },
   "outputs": [],
   "source": [
    "import numpy as np\n",
    "import pandas as pd\n",
    "import matplotlib.pyplot as plt\n",
    "import os\n",
    "import plotly.express as px\n",
    "from utils import  *\n",
    "from scipy.signal import savgol_filter, find_peaks\n",
    "import seaborn as sns\n",
    "import plotly.express as px\n",
    "import pickle"
   ]
  },
  {
   "cell_type": "markdown",
   "source": [
    "# Compare 2 measurements with each other"
   ],
   "metadata": {
    "collapsed": false
   }
  },
  {
   "cell_type": "code",
   "execution_count": null,
   "outputs": [],
   "source": [
    "df_good = pd.read_csv('/home/anuarsantoyo/PycharmProjects/Batbot/experiments/optimizer_batbotV2_2D/data/230825/test1/39_0(6343.817087835975).csv')"
   ],
   "metadata": {
    "collapsed": false
   }
  },
  {
   "cell_type": "code",
   "execution_count": null,
   "outputs": [],
   "source": [
    "df_bad = pd.read_csv('/home/anuarsantoyo/PycharmProjects/Batbot/experiments/optimizer_batbotV2_2D/data/230825/test2/0_4(10828.553111023677).csv')"
   ],
   "metadata": {
    "collapsed": false
   }
  },
  {
   "cell_type": "code",
   "execution_count": null,
   "outputs": [],
   "source": [
    "df_good.mean(),df_bad.mean()"
   ],
   "metadata": {
    "collapsed": false
   }
  },
  {
   "cell_type": "code",
   "execution_count": null,
   "outputs": [],
   "source": [
    "df_bad.mean()"
   ],
   "metadata": {
    "collapsed": false
   }
  },
  {
   "cell_type": "code",
   "execution_count": null,
   "outputs": [],
   "source": [
    "for sensor in sensors_col:\n",
    "    plt.plot(df_bad.timestamp, df_bad[sensor], label='bad')\n",
    "    plt.plot(df_good.timestamp, df_good[sensor], label='good')\n",
    "    plt.legend()\n",
    "    plt.title(sensor)\n",
    "    plt.show()\n"
   ],
   "metadata": {
    "collapsed": false
   }
  },
  {
   "cell_type": "code",
   "execution_count": null,
   "outputs": [],
   "source": [
    "def fitness_batbotV1(measurements, plot=False, smooth=False):\n",
    "    \"\"\"\n",
    "    Calculates fitness score of solution from the measured data\n",
    "    :param measurements: np.aray of data provided by read_measurements_df()\n",
    "    :param smooth: Boolean station if smoothing using savgol_filter is applied.\n",
    "    :return: score\n",
    "    \"\"\"\n",
    "    measurements = measurements.copy()\n",
    "    if smooth:\n",
    "        y = measurements[sensors_col]\n",
    "        measurements[sensors_col] = savgol_filter(y, 10, 3, axis=0)\n",
    "    if plot:\n",
    "        measurements.plot(x='timestamp')\n",
    "        plt.show()\n",
    "    return (measurements.drop('timestamp', axis=1).mean()**2).sum()"
   ],
   "metadata": {
    "collapsed": false
   }
  },
  {
   "cell_type": "code",
   "execution_count": null,
   "outputs": [],
   "source": [
    "def fitness_project(measurements):\n",
    "    \"\"\"\n",
    "    Calculates the fitness of a measurement slicing it from the back to learn the influence of the tail values and fits\n",
    "     a linear function to project the real fitness were the tail values are no influence\n",
    "    :param measurements: np.aray of data provided by read_measurements_df()\n",
    "    :return: score\n",
    "    \"\"\"\n",
    "    scores_avg = []\n",
    "    for i in range(1, 710):  # for a 5 seconds test we obtain 320 data, doing the analysis with the las 200 showed to\n",
    "        # the most stable\n",
    "        scores_avg.append(fitness_batbotV1(measurements[:-i], smooth=True))\n",
    "    x = np.arange(len(scores_avg))\n",
    "    fit = np.poly1d(np.polyfit(x, scores_avg, 1))\n",
    "    return fit(0), scores_avg"
   ],
   "metadata": {
    "collapsed": false
   }
  },
  {
   "cell_type": "code",
   "execution_count": null,
   "outputs": [],
   "source": [
    "_, scores = fitness_project(df_good)"
   ],
   "metadata": {
    "collapsed": false
   }
  },
  {
   "cell_type": "code",
   "execution_count": null,
   "outputs": [],
   "source": [
    "plt.plot(scores)"
   ],
   "metadata": {
    "collapsed": false
   }
  },
  {
   "cell_type": "code",
   "execution_count": null,
   "outputs": [],
   "source": [
    "for sensor in sensors_col:\n",
    "    plt.plot(df_good.timestamp, df_good[sensor], label = 'good')\n",
    "    #plt.plot(df_bad.timestamp, df_bad[sensor], label = 'bad')\n",
    "    plt.legend()\n",
    "    plt.show()"
   ],
   "metadata": {
    "collapsed": false
   }
  },
  {
   "cell_type": "code",
   "execution_count": null,
   "outputs": [],
   "source": [
    "def fitness_max_min_avg(measurements):\n",
    "    \"\"\"\n",
    "    Calculates fitness score of solution from the measured data\n",
    "    :param measurements: np.aray of data provided by read_measurements_df()\n",
    "    :return: score\n",
    "    \"\"\"\n",
    "    sensor_avg = []\n",
    "    for sensor in sensor_col:\n",
    "        peaks, _ = find_peaks(measurements[sensor])\n",
    "        valleys, _ = find_peaks(-measurements[sensor])\n",
    "        max = measurements[sensor][peaks].mean()\n",
    "        min = measurements[sensor][valleys].mean()\n",
    "        sensor_avg.append((max+min)/2)\n",
    "    return abs(np.array(sensor_avg).sum())\n",
    "\n",
    "def fitness_max_min(measurements):\n",
    "    \"\"\"\n",
    "    Calculates fitness score of solution from the measured data\n",
    "    :param measurements: np.aray of data provided by read_measurements_df()\n",
    "    :return: score\n",
    "    \"\"\"\n",
    "    return abs(((measurements.drop('timestamp', axis=1).max()+measurements.drop('timestamp', axis=1).min())/2).sum())\n",
    "\n",
    "def finess_project(measurements):\n",
    "    scores_avg = []\n",
    "    for i in range(1,200):\n",
    "        scores_avg.append(fitness_batbotV1(measurements[:-i], smooth=True))\n",
    "    x = np.arange(len(scores_avg))\n",
    "    fit = np.poly1d(np.polyfit(x, scores_avg,1))\n",
    "    return fit(0)\n"
   ],
   "metadata": {
    "collapsed": false
   }
  },
  {
   "cell_type": "code",
   "execution_count": null,
   "outputs": [],
   "source": [
    "# assign directory\n",
    "directory = 'data/230706(2)'\n",
    "for i, filename in enumerate(os.listdir(directory)):\n",
    "    if filename[-1] == 'v':\n",
    "        f = os.path.join(directory, filename)\n",
    "        df = pd.read_csv(f)\n",
    "        print(i, df.shape)\n",
    "        y = df[[f'sensor_{i}' for i in range(1,7)]]\n",
    "        df[[f'sensor_{i}' for i in range(1,7)]] = savgol_filter(y, 10, 3, axis=0)\n",
    "        scores_avg = []\n",
    "        scores_max_min = []\n",
    "        scores_max_min_avg = []\n",
    "        for i in range(1,200):\n",
    "            scores_avg.append(fitness_batbotV1(df[:-i]))\n",
    "            scores_max_min.append(fitness_max_min(df[:-i]))\n",
    "            scores_max_min_avg.append(fitness_max_min_avg(df[:-i]))\n",
    "        x = np.arange(len(scores_avg))\n",
    "        fit = np.poly1d(np.polyfit(x, scores_avg,1))\n",
    "        y = fit(x)\n",
    "\n",
    "        plt.plot(scores_avg, label='avg')\n",
    "        plt.plot(y, label=fit(0))\n",
    "        plt.plot(scores_max_min, label='max_min')\n",
    "        plt.plot(scores_max_min_avg, label='max_min_avg')\n",
    "        plt.title(filename)\n",
    "        plt.legend()\n",
    "        plt.show()\n",
    "from scipy.signal import find_peaks\n",
    "peaks, _ = find_peaks(df.sensor_1)\n",
    "plt.plot(df.timestamp,df.sensor_1)\n",
    "plt.scatter(df.timestamp[peaks],df.sensor_1[peaks])\n",
    "df = pd.read_csv(\"data/230706(1)/1_2_[0.22775696 0.45077319 0.74891196]_0.5779445842122174.csv\")\n",
    "y = df[[f'sensor_{i}' for i in range(1,7)]]\n",
    "df[[f'sensor_{i}' for i in range(1,7)]] = savgol_filter(y, 10, 3, axis=0)\n",
    "df.plot(x='timestamp')\n",
    "# assign directory\n",
    "directory = 'data'\n",
    "\n",
    "sensor_col=[f'sensor_{i}' for i in range(1,7)]\n",
    "#b = pd.read_csv('../../analysis/sensor_calibration.csv')\n",
    "#shift = pd.Series(data=b['data'].to_list(), index=b['index'].to_list())\n",
    "#shift['timestamp'] = 0.0\n",
    "# that directory\n",
    "for i, filename in enumerate(os.listdir(directory)):\n",
    "    if filename[:3] == '0_0' or filename[:3] == '1_2':\n",
    "        f = os.path.join(directory, filename)\n",
    "        df = pd.read_csv(f)\n",
    "        #df = df - shift\n",
    "        #fig = px.line(df, x='timestamp', y = sensor_col, title=f\"score: {abs(df.drop('timestamp', axis=1).mean().sum())}\")\n",
    "        #fig.show()\n",
    "        df['timestamp'] = df['timestamp'] - df['timestamp'][0]\n",
    "df.plot(x='timestamp',title=filename)"
   ],
   "metadata": {
    "collapsed": false
   }
  },
  {
   "cell_type": "markdown",
   "source": [
    "# Pickles to df\n"
   ],
   "metadata": {
    "collapsed": false
   }
  },
  {
   "cell_type": "code",
   "execution_count": null,
   "outputs": [],
   "source": [
    "file = open(f, 'rb')\n",
    "solutions = pickle.load(file)\n",
    "file.close()"
   ],
   "metadata": {
    "collapsed": false
   }
  },
  {
   "cell_type": "code",
   "execution_count": null,
   "outputs": [],
   "source": [
    "# assign directory\n",
    "df_dict_list = []\n",
    "directory = 'data/230710/'\n",
    "gen = 0\n",
    "for i, filename in enumerate(os.listdir(directory)):\n",
    "    if filename[-3:] == 'kle':\n",
    "        f = os.path.join(directory, filename)\n",
    "\n",
    "        file = open(f, 'rb')\n",
    "        solutions = pickle.load(file)['solutions']\n",
    "        file.close()\n",
    "\n",
    "        for i, sol in enumerate(solutions):\n",
    "            df_dict_list.append({'Generation': gen,\n",
    "                             'Id': i,\n",
    "                             'Score': sol[1],\n",
    "                             'Motor': sol[0][0],\n",
    "                             'Neutral': sol[0][1],\n",
    "                             'Amplitude': sol[0][2]})\n",
    "        gen += 1\n",
    "\n",
    "df3 = pd.DataFrame(df_dict_list)\n"
   ],
   "metadata": {
    "collapsed": false
   }
  },
  {
   "cell_type": "code",
   "execution_count": null,
   "outputs": [],
   "source": [
    "df2['Generation'] = df2['Generation'] + df1['Generation'].iloc[-1] + 1\n",
    "df3['Generation'] = df3['Generation']+ df2['Generation'].iloc[-1] + 1\n",
    "df = pd.concat([df1, df2, df3])"
   ],
   "metadata": {
    "collapsed": false
   }
  },
  {
   "cell_type": "code",
   "execution_count": null,
   "outputs": [],
   "source": [
    "results = pd.read_csv('data/230710/0_0.csv')\n",
    "results['test'] = 0\n",
    "for i in range(1,10):\n",
    "    df = pd.read_csv(f'data/230710/0_{i}.csv')\n",
    "    df['test'] = i\n",
    "    results = pd.concat([results, df])"
   ],
   "metadata": {
    "collapsed": false
   }
  },
  {
   "cell_type": "code",
   "execution_count": null,
   "outputs": [],
   "source": [
    "measurements = results.copy()\n",
    "for test in range(10):\n",
    "    scores_avg = []\n",
    "    for i in range(1, 200):  # for a 5 seconds test we obtain 320 data, doing the analysis with the las 200 showed to\n",
    "        # the most stable\n",
    "        scores_avg.append(fitness_batbotV1(measurements[measurements.test == test][:-i].drop('test', axis=1), smooth=True))\n",
    "    x = np.arange(len(scores_avg))\n",
    "    fit = np.poly1d(np.polyfit(x, scores_avg, 1))\n",
    "    plt.plot(scores_avg)\n",
    "    plt.plot(x,fit(x))\n",
    "#plt.legend()\n",
    "plt.show()"
   ],
   "metadata": {
    "collapsed": false
   }
  },
  {
   "cell_type": "code",
   "execution_count": null,
   "outputs": [],
   "source": [
    "plt.plot(scores_avg)\n",
    "plt.plot(x,fit(x))\n",
    "plt.show()"
   ],
   "metadata": {
    "collapsed": false
   }
  }
 ],
 "metadata": {
  "kernelspec": {
   "display_name": "Python 3",
   "language": "python",
   "name": "python3"
  },
  "language_info": {
   "codemirror_mode": {
    "name": "ipython",
    "version": 2
   },
   "file_extension": ".py",
   "mimetype": "text/x-python",
   "name": "python",
   "nbconvert_exporter": "python",
   "pygments_lexer": "ipython2",
   "version": "2.7.6"
  }
 },
 "nbformat": 4,
 "nbformat_minor": 0
}
