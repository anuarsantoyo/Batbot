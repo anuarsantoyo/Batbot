{
 "cells": [
  {
   "cell_type": "code",
   "execution_count": 1,
   "id": "edbf2be1601cd845",
   "metadata": {
    "collapsed": true,
    "ExecuteTime": {
     "end_time": "2023-08-30T06:37:04.417728653Z",
     "start_time": "2023-08-30T06:37:04.367565909Z"
    }
   },
   "outputs": [],
   "source": [
    "import pandas as pd\n",
    "from utils import *\n",
    "import numpy as np\n",
    "import seaborn as sns"
   ]
  },
  {
   "cell_type": "code",
   "execution_count": 6,
   "outputs": [
    {
     "name": "stdout",
     "output_type": "stream",
     "text": [
      "/dev/ttyACM0        \r\n",
      "/dev/ttyACM1        \r\n",
      "/dev/ttyUSB0        \r\n",
      "3 ports found\r\n"
     ]
    }
   ],
   "source": [
    "!python -m serial.tools.list_ports"
   ],
   "metadata": {
    "collapsed": false,
    "ExecuteTime": {
     "end_time": "2023-08-30T06:37:23.773348523Z",
     "start_time": "2023-08-30T06:37:23.629591055Z"
    }
   },
   "id": "a5ca19583de2ef46"
  },
  {
   "cell_type": "code",
   "execution_count": 15,
   "outputs": [
    {
     "name": "stdout",
     "output_type": "stream",
     "text": [
      "Sending command to batbot motor: 260.0, attack_angle: 120.0\n",
      "Sent!\n"
     ]
    }
   ],
   "source": [
    "# Connection details\n",
    "command_port = \"/dev/ttyACM1\"\n",
    "command_batbotV2_2D((0,0.8), command_port)"
   ],
   "metadata": {
    "collapsed": false,
    "ExecuteTime": {
     "end_time": "2023-08-30T06:58:51.600574484Z",
     "start_time": "2023-08-30T06:58:51.560273285Z"
    }
   },
   "id": "initial_id"
  },
  {
   "cell_type": "code",
   "execution_count": null,
   "outputs": [],
   "source": [
    "command_batbotV2_2D(x, command_port)  #TODO:dim\n",
    "\n",
    "time.sleep(1)  # To allow the Batbot to reach the attack angle and flapping speed\n",
    "measurements = read_measurements_df_oldDAQ(port=daq_port, duration=5)"
   ],
   "metadata": {
    "collapsed": false
   },
   "id": "5491a139e2cb291a"
  }
 ],
 "metadata": {
  "kernelspec": {
   "display_name": "Python 3",
   "language": "python",
   "name": "python3"
  },
  "language_info": {
   "codemirror_mode": {
    "name": "ipython",
    "version": 2
   },
   "file_extension": ".py",
   "mimetype": "text/x-python",
   "name": "python",
   "nbconvert_exporter": "python",
   "pygments_lexer": "ipython2",
   "version": "2.7.6"
  }
 },
 "nbformat": 4,
 "nbformat_minor": 5
}
