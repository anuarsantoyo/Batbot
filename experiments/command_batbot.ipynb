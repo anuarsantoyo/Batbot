{
 "cells": [
  {
   "cell_type": "code",
   "execution_count": 1,
   "id": "edbf2be1601cd845",
   "metadata": {
    "collapsed": true,
    "ExecuteTime": {
     "end_time": "2023-08-28T11:12:37.902647283Z",
     "start_time": "2023-08-28T11:12:37.878837161Z"
    }
   },
   "outputs": [],
   "source": [
    "import pandas as pd\n",
    "from utils import *\n",
    "import numpy as np\n",
    "import seaborn as sns"
   ]
  },
  {
   "cell_type": "code",
   "execution_count": 6,
   "outputs": [
    {
     "name": "stdout",
     "output_type": "stream",
     "text": [
      "/dev/ttyACM0        \r\n",
      "/dev/ttyACM1        \r\n",
      "2 ports found\r\n"
     ]
    }
   ],
   "source": [
    "!python -m serial.tools.list_ports"
   ],
   "metadata": {
    "collapsed": false,
    "ExecuteTime": {
     "end_time": "2023-08-28T11:13:04.085600011Z",
     "start_time": "2023-08-28T11:13:03.937324679Z"
    }
   },
   "id": "a5ca19583de2ef46"
  },
  {
   "cell_type": "code",
   "execution_count": 7,
   "outputs": [],
   "source": [
    "# Connection details\n",
    "command_port = \"/dev/ttyACM1\""
   ],
   "metadata": {
    "collapsed": false,
    "ExecuteTime": {
     "end_time": "2023-08-28T11:13:06.809615339Z",
     "start_time": "2023-08-28T11:13:06.808210277Z"
    }
   },
   "id": "initial_id"
  },
  {
   "cell_type": "code",
   "execution_count": 10,
   "outputs": [],
   "source": [
    "def command_batbotV2_2D(solution, port):\n",
    "    \"\"\"\n",
    "    This function takes a proposed solution from the CMA optimization and commands the robot run it.\n",
    "    :param solution: list of proposed solutions [motor, attack_angle, neutral_state, amplitude]\n",
    "    :param port: port of the wireless uart module.\n",
    "    :return: None\n",
    "    \"\"\"\n",
    "    motor, attack_angle = solution\n",
    "    motor = np.interp(motor, [0, 1], [260, 270])\n",
    "    attack_angle = np.interp(attack_angle, [0, 1], [80, 130])\n",
    "    leg_x = 90\n",
    "    leg_y = 90\n",
    "    leg_x_amplitude = 0\n",
    "    leg_y_amplitude = 0\n",
    "    ellipse_angle = 0\n",
    "    print(f\"Sending command to batbot \"\n",
    "          f\"motor: {motor}, attack_angle: {attack_angle}\")\n",
    "    ser = serial.Serial(port=port, baudrate=115200, bytesize=8, parity='N', stopbits=1)\n",
    "    ser.write(str.encode(f'{motor},{attack_angle},{leg_x},{leg_y},{leg_x_amplitude},{leg_y_amplitude},{ellipse_angle}'))\n",
    "    print(\"Sent!\")"
   ],
   "metadata": {
    "collapsed": false,
    "ExecuteTime": {
     "end_time": "2023-08-28T11:14:25.973632715Z",
     "start_time": "2023-08-28T11:14:25.968906092Z"
    }
   },
   "id": "ec6f97a7b8fcf3c0"
  },
  {
   "cell_type": "code",
   "execution_count": 12,
   "outputs": [
    {
     "name": "stdout",
     "output_type": "stream",
     "text": [
      "Sending command to batbot motor: 265.0, attack_angle: 105.0\n",
      "Sent!\n"
     ]
    }
   ],
   "source": [
    "command_batbotV2_2D((0.5,0.5), command_port)"
   ],
   "metadata": {
    "collapsed": false,
    "ExecuteTime": {
     "end_time": "2023-08-28T11:15:37.575345881Z",
     "start_time": "2023-08-28T11:15:37.530789536Z"
    }
   },
   "id": "4c7d83062e853c39"
  },
  {
   "cell_type": "code",
   "execution_count": null,
   "outputs": [],
   "source": [],
   "metadata": {
    "collapsed": false
   },
   "id": "adbc6a000dd8f314"
  }
 ],
 "metadata": {
  "kernelspec": {
   "display_name": "Python 3",
   "language": "python",
   "name": "python3"
  },
  "language_info": {
   "codemirror_mode": {
    "name": "ipython",
    "version": 2
   },
   "file_extension": ".py",
   "mimetype": "text/x-python",
   "name": "python",
   "nbconvert_exporter": "python",
   "pygments_lexer": "ipython2",
   "version": "2.7.6"
  }
 },
 "nbformat": 4,
 "nbformat_minor": 5
}
