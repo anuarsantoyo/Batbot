{
 "cells": [
  {
   "cell_type": "code",
   "execution_count": 1,
   "metadata": {
    "collapsed": true,
    "ExecuteTime": {
     "end_time": "2023-07-11T06:51:47.010631876Z",
     "start_time": "2023-07-11T06:51:46.350506991Z"
    }
   },
   "outputs": [],
   "source": [
    "import matplotlib.pyplot as plt\n",
    "from utils import *\n",
    "import plotly.express as px\n",
    "import scipy"
   ]
  },
  {
   "cell_type": "code",
   "execution_count": 3,
   "outputs": [
    {
     "name": "stdout",
     "output_type": "stream",
     "text": [
      "/dev/ttyUSB0        \r\n",
      "/dev/ttyUSB1        \r\n",
      "2 ports found\r\n"
     ]
    }
   ],
   "source": [
    "!python -m serial.tools.list_ports"
   ],
   "metadata": {
    "collapsed": false,
    "ExecuteTime": {
     "end_time": "2023-07-11T06:51:51.692196063Z",
     "start_time": "2023-07-11T06:51:51.547461304Z"
    }
   }
  },
  {
   "cell_type": "code",
   "execution_count": 5,
   "outputs": [
    {
     "name": "stdout",
     "output_type": "stream",
     "text": [
      "Reading measurements...\n",
      "Read!\n"
     ]
    }
   ],
   "source": [
    "port = \"/dev/ttyUSB1\"\n",
    "sensor_col=[f'sensor_{i}' for i in range(1,7)]\n",
    "df = read_measurements_df(port=port, duration=10, calibration=False)\n",
    "df[sensor_col] = df[sensor_col]*9.81\n",
    "df['timestamp'] = df['timestamp'] - df['timestamp'][0]\n",
    "df['lift'] = df['sensor_4'] + df['sensor_5'] + df['sensor_6']\n",
    "df['thrust'] = df['sensor_2'] + df['sensor_3'] - df['sensor_1']"
   ],
   "metadata": {
    "collapsed": false,
    "ExecuteTime": {
     "end_time": "2023-07-10T12:02:24.675610483Z",
     "start_time": "2023-07-10T12:02:14.634608529Z"
    }
   }
  },
  {
   "cell_type": "code",
   "execution_count": 42,
   "outputs": [],
   "source": [
    "df['lift'] = df['sensor_4'] + df['sensor_5'] #+ df['sensor_6']"
   ],
   "metadata": {
    "collapsed": false,
    "ExecuteTime": {
     "end_time": "2023-07-03T13:15:47.629199848Z",
     "start_time": "2023-07-03T13:15:47.570742790Z"
    }
   }
  },
  {
   "cell_type": "code",
   "execution_count": 6,
   "outputs": [],
   "source": [
    "df.to_csv(\"sensor_comparison/python.csv\", index=False)"
   ],
   "metadata": {
    "collapsed": false,
    "ExecuteTime": {
     "end_time": "2023-07-10T12:02:38.320573893Z",
     "start_time": "2023-07-10T12:02:38.279058195Z"
    }
   }
  },
  {
   "cell_type": "code",
   "execution_count": 12,
   "outputs": [],
   "source": [
    "fig = px.line(df,x='timestamp', y=[f'sensor_{i}' for i in range(1,7)]+['lift', 'thrust'])\n",
    "#fig.show()\n",
    "fig.write_html('sensor_comparison/pyhton.html')"
   ],
   "metadata": {
    "collapsed": false,
    "ExecuteTime": {
     "end_time": "2023-07-10T03:08:14.543388428Z",
     "start_time": "2023-07-10T03:08:14.474146058Z"
    }
   }
  }
 ],
 "metadata": {
  "kernelspec": {
   "display_name": "Python 3",
   "language": "python",
   "name": "python3"
  },
  "language_info": {
   "codemirror_mode": {
    "name": "ipython",
    "version": 2
   },
   "file_extension": ".py",
   "mimetype": "text/x-python",
   "name": "python",
   "nbconvert_exporter": "python",
   "pygments_lexer": "ipython2",
   "version": "2.7.6"
  }
 },
 "nbformat": 4,
 "nbformat_minor": 0
}
