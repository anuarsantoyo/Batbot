{
 "cells": [
  {
   "cell_type": "code",
   "execution_count": 4,
   "metadata": {
    "collapsed": true,
    "ExecuteTime": {
     "start_time": "2023-04-11T19:28:56.304644Z",
     "end_time": "2023-04-11T19:28:56.441535Z"
    }
   },
   "outputs": [
    {
     "name": "stdout",
     "output_type": "stream",
     "text": [
      "/dev/ttyUSB1        \r\n",
      "1 ports found\r\n"
     ]
    }
   ],
   "source": [
    "!python -m serial.tools.list_ports"
   ]
  },
  {
   "cell_type": "code",
   "execution_count": 2,
   "outputs": [],
   "source": [
    "from pymodbus.client import ModbusSerialClient\n",
    "from datetime import datetime, time\n",
    "import random\n",
    "import json\n",
    "import time"
   ],
   "metadata": {
    "collapsed": false,
    "ExecuteTime": {
     "start_time": "2023-04-11T19:25:53.189692Z",
     "end_time": "2023-04-11T19:25:53.208121Z"
    }
   }
  },
  {
   "cell_type": "code",
   "execution_count": 42,
   "outputs": [
    {
     "data": {
      "text/plain": "True"
     },
     "execution_count": 42,
     "metadata": {},
     "output_type": "execute_result"
    }
   ],
   "source": [
    "client = ModbusSerialClient(port='/dev/ttyUSB0' , baudrate=115200, bytesize=8, parity='N', stopbits=1)\n",
    "client.connect()"
   ],
   "metadata": {
    "collapsed": false,
    "ExecuteTime": {
     "start_time": "2023-04-11T18:43:34.545195Z",
     "end_time": "2023-04-11T18:43:34.549509Z"
    }
   }
  },
  {
   "cell_type": "code",
   "execution_count": 45,
   "outputs": [
    {
     "ename": "error",
     "evalue": "required argument is not an integer",
     "output_type": "error",
     "traceback": [
      "\u001B[0;31m---------------------------------------------------------------------------\u001B[0m",
      "\u001B[0;31merror\u001B[0m                                     Traceback (most recent call last)",
      "Cell \u001B[0;32mIn[45], line 1\u001B[0m\n\u001B[0;32m----> 1\u001B[0m \u001B[38;5;28mprint\u001B[39m(\u001B[43mclient\u001B[49m\u001B[38;5;241;43m.\u001B[39;49m\u001B[43mread_holding_registers\u001B[49m\u001B[43m(\u001B[49m\u001B[43maddress\u001B[49m\u001B[38;5;241;43m=\u001B[39;49m\u001B[38;5;241;43m40501\u001B[39;49m\u001B[43m,\u001B[49m\u001B[43mcount\u001B[49m\u001B[38;5;241;43m=\u001B[39;49m\u001B[38;5;241;43m1\u001B[39;49m\u001B[43m,\u001B[49m\u001B[43mslave\u001B[49m\u001B[38;5;241;43m=\u001B[39;49m\u001B[38;5;124;43m'\u001B[39;49m\u001B[38;5;124;43m0X01\u001B[39;49m\u001B[38;5;124;43m'\u001B[39;49m\u001B[43m)\u001B[49m)\n",
      "File \u001B[0;32m~/PycharmProjects/Batbot/venv/lib/python3.10/site-packages/pymodbus/client/mixin.py:102\u001B[0m, in \u001B[0;36mModbusClientMixin.read_holding_registers\u001B[0;34m(self, address, count, slave, **kwargs)\u001B[0m\n\u001B[1;32m     91\u001B[0m \u001B[38;5;28;01mdef\u001B[39;00m \u001B[38;5;21mread_holding_registers\u001B[39m(\n\u001B[1;32m     92\u001B[0m     \u001B[38;5;28mself\u001B[39m, address: \u001B[38;5;28mint\u001B[39m, count: \u001B[38;5;28mint\u001B[39m \u001B[38;5;241m=\u001B[39m \u001B[38;5;241m1\u001B[39m, slave: \u001B[38;5;28mint\u001B[39m \u001B[38;5;241m=\u001B[39m \u001B[38;5;241m0\u001B[39m, \u001B[38;5;241m*\u001B[39m\u001B[38;5;241m*\u001B[39mkwargs: Any\n\u001B[1;32m     93\u001B[0m ) \u001B[38;5;241m-\u001B[39m\u001B[38;5;241m>\u001B[39m ModbusResponse:\n\u001B[1;32m     94\u001B[0m \u001B[38;5;250m    \u001B[39m\u001B[38;5;124;03m\"\"\"Read holding registers (code 0x03).\u001B[39;00m\n\u001B[1;32m     95\u001B[0m \n\u001B[1;32m     96\u001B[0m \u001B[38;5;124;03m    :param address: Start address to read from\u001B[39;00m\n\u001B[0;32m   (...)\u001B[0m\n\u001B[1;32m    100\u001B[0m \u001B[38;5;124;03m    :raises ModbusException:\u001B[39;00m\n\u001B[1;32m    101\u001B[0m \u001B[38;5;124;03m    \"\"\"\u001B[39;00m\n\u001B[0;32m--> 102\u001B[0m     \u001B[38;5;28;01mreturn\u001B[39;00m \u001B[38;5;28;43mself\u001B[39;49m\u001B[38;5;241;43m.\u001B[39;49m\u001B[43mexecute\u001B[49m\u001B[43m(\u001B[49m\n\u001B[1;32m    103\u001B[0m \u001B[43m        \u001B[49m\u001B[43mpdu_reg_read\u001B[49m\u001B[38;5;241;43m.\u001B[39;49m\u001B[43mReadHoldingRegistersRequest\u001B[49m\u001B[43m(\u001B[49m\u001B[43maddress\u001B[49m\u001B[43m,\u001B[49m\u001B[43m \u001B[49m\u001B[43mcount\u001B[49m\u001B[43m,\u001B[49m\u001B[43m \u001B[49m\u001B[43mslave\u001B[49m\u001B[43m,\u001B[49m\u001B[43m \u001B[49m\u001B[38;5;241;43m*\u001B[39;49m\u001B[38;5;241;43m*\u001B[39;49m\u001B[43mkwargs\u001B[49m\u001B[43m)\u001B[49m\n\u001B[1;32m    104\u001B[0m \u001B[43m    \u001B[49m\u001B[43m)\u001B[49m\n",
      "File \u001B[0;32m~/PycharmProjects/Batbot/venv/lib/python3.10/site-packages/pymodbus/client/base.py:198\u001B[0m, in \u001B[0;36mModbusBaseClient.execute\u001B[0;34m(self, request)\u001B[0m\n\u001B[1;32m    196\u001B[0m \u001B[38;5;28;01mif\u001B[39;00m \u001B[38;5;129;01mnot\u001B[39;00m \u001B[38;5;28mself\u001B[39m\u001B[38;5;241m.\u001B[39mconnect():\n\u001B[1;32m    197\u001B[0m     \u001B[38;5;28;01mraise\u001B[39;00m ConnectionException(\u001B[38;5;124mf\u001B[39m\u001B[38;5;124m\"\u001B[39m\u001B[38;5;124mFailed to connect[\u001B[39m\u001B[38;5;132;01m{\u001B[39;00m\u001B[38;5;28mstr\u001B[39m(\u001B[38;5;28mself\u001B[39m)\u001B[38;5;132;01m}\u001B[39;00m\u001B[38;5;124m]\u001B[39m\u001B[38;5;124m\"\u001B[39m)\n\u001B[0;32m--> 198\u001B[0m \u001B[38;5;28;01mreturn\u001B[39;00m \u001B[38;5;28;43mself\u001B[39;49m\u001B[38;5;241;43m.\u001B[39;49m\u001B[43mtransaction\u001B[49m\u001B[38;5;241;43m.\u001B[39;49m\u001B[43mexecute\u001B[49m\u001B[43m(\u001B[49m\u001B[43mrequest\u001B[49m\u001B[43m)\u001B[49m\n",
      "File \u001B[0;32m~/PycharmProjects/Batbot/venv/lib/python3.10/site-packages/pymodbus/transaction.py:170\u001B[0m, in \u001B[0;36mModbusTransactionManager.execute\u001B[0;34m(self, request)\u001B[0m\n\u001B[1;32m    168\u001B[0m     \u001B[38;5;28;01mif\u001B[39;00m \u001B[38;5;129;01mnot\u001B[39;00m expected_response_length:\n\u001B[1;32m    169\u001B[0m         expected_response_length \u001B[38;5;241m=\u001B[39m Defaults\u001B[38;5;241m.\u001B[39mReadSize\n\u001B[0;32m--> 170\u001B[0m response, last_exception \u001B[38;5;241m=\u001B[39m \u001B[38;5;28;43mself\u001B[39;49m\u001B[38;5;241;43m.\u001B[39;49m\u001B[43m_transact\u001B[49m\u001B[43m(\u001B[49m\n\u001B[1;32m    171\u001B[0m \u001B[43m    \u001B[49m\u001B[43mrequest\u001B[49m\u001B[43m,\u001B[49m\n\u001B[1;32m    172\u001B[0m \u001B[43m    \u001B[49m\u001B[43mexpected_response_length\u001B[49m\u001B[43m,\u001B[49m\n\u001B[1;32m    173\u001B[0m \u001B[43m    \u001B[49m\u001B[43mfull\u001B[49m\u001B[38;5;241;43m=\u001B[39;49m\u001B[43mfull\u001B[49m\u001B[43m,\u001B[49m\n\u001B[1;32m    174\u001B[0m \u001B[43m    \u001B[49m\u001B[43mbroadcast\u001B[49m\u001B[38;5;241;43m=\u001B[39;49m\u001B[43mbroadcast\u001B[49m\u001B[43m,\u001B[49m\n\u001B[1;32m    175\u001B[0m \u001B[43m\u001B[49m\u001B[43m)\u001B[49m\n\u001B[1;32m    176\u001B[0m \u001B[38;5;28;01mwhile\u001B[39;00m retries \u001B[38;5;241m>\u001B[39m \u001B[38;5;241m0\u001B[39m:\n\u001B[1;32m    177\u001B[0m     valid_response \u001B[38;5;241m=\u001B[39m \u001B[38;5;28mself\u001B[39m\u001B[38;5;241m.\u001B[39m_validate_response(\n\u001B[1;32m    178\u001B[0m         request, response, expected_response_length\n\u001B[1;32m    179\u001B[0m     )\n",
      "File \u001B[0;32m~/PycharmProjects/Batbot/venv/lib/python3.10/site-packages/pymodbus/transaction.py:284\u001B[0m, in \u001B[0;36mModbusTransactionManager._transact\u001B[0;34m(self, packet, response_length, full, broadcast)\u001B[0m\n\u001B[1;32m    282\u001B[0m \u001B[38;5;28;01mtry\u001B[39;00m:\n\u001B[1;32m    283\u001B[0m     \u001B[38;5;28mself\u001B[39m\u001B[38;5;241m.\u001B[39mclient\u001B[38;5;241m.\u001B[39mconnect()\n\u001B[0;32m--> 284\u001B[0m     packet \u001B[38;5;241m=\u001B[39m \u001B[38;5;28;43mself\u001B[39;49m\u001B[38;5;241;43m.\u001B[39;49m\u001B[43mclient\u001B[49m\u001B[38;5;241;43m.\u001B[39;49m\u001B[43mframer\u001B[49m\u001B[38;5;241;43m.\u001B[39;49m\u001B[43mbuildPacket\u001B[49m\u001B[43m(\u001B[49m\u001B[43mpacket\u001B[49m\u001B[43m)\u001B[49m\n\u001B[1;32m    285\u001B[0m     Log\u001B[38;5;241m.\u001B[39mdebug(\u001B[38;5;124m\"\u001B[39m\u001B[38;5;124mSEND: \u001B[39m\u001B[38;5;132;01m{}\u001B[39;00m\u001B[38;5;124m\"\u001B[39m, packet, \u001B[38;5;124m\"\u001B[39m\u001B[38;5;124m:hex\u001B[39m\u001B[38;5;124m\"\u001B[39m)\n\u001B[1;32m    286\u001B[0m     size \u001B[38;5;241m=\u001B[39m \u001B[38;5;28mself\u001B[39m\u001B[38;5;241m.\u001B[39m_send(packet)\n",
      "File \u001B[0;32m~/PycharmProjects/Batbot/venv/lib/python3.10/site-packages/pymodbus/framer/rtu_framer.py:244\u001B[0m, in \u001B[0;36mModbusRtuFramer.buildPacket\u001B[0;34m(self, message)\u001B[0m\n\u001B[1;32m    238\u001B[0m \u001B[38;5;250m\u001B[39m\u001B[38;5;124;03m\"\"\"Create a ready to send modbus packet.\u001B[39;00m\n\u001B[1;32m    239\u001B[0m \n\u001B[1;32m    240\u001B[0m \u001B[38;5;124;03m:param message: The populated request/response to send\u001B[39;00m\n\u001B[1;32m    241\u001B[0m \u001B[38;5;124;03m\"\"\"\u001B[39;00m\n\u001B[1;32m    242\u001B[0m data \u001B[38;5;241m=\u001B[39m message\u001B[38;5;241m.\u001B[39mencode()\n\u001B[1;32m    243\u001B[0m packet \u001B[38;5;241m=\u001B[39m (\n\u001B[0;32m--> 244\u001B[0m     \u001B[43mstruct\u001B[49m\u001B[38;5;241;43m.\u001B[39;49m\u001B[43mpack\u001B[49m\u001B[43m(\u001B[49m\u001B[43mRTU_FRAME_HEADER\u001B[49m\u001B[43m,\u001B[49m\u001B[43m \u001B[49m\u001B[43mmessage\u001B[49m\u001B[38;5;241;43m.\u001B[39;49m\u001B[43mslave_id\u001B[49m\u001B[43m,\u001B[49m\u001B[43m \u001B[49m\u001B[43mmessage\u001B[49m\u001B[38;5;241;43m.\u001B[39;49m\u001B[43mfunction_code\u001B[49m\u001B[43m)\u001B[49m\n\u001B[1;32m    245\u001B[0m     \u001B[38;5;241m+\u001B[39m data\n\u001B[1;32m    246\u001B[0m )\n\u001B[1;32m    247\u001B[0m packet \u001B[38;5;241m+\u001B[39m\u001B[38;5;241m=\u001B[39m struct\u001B[38;5;241m.\u001B[39mpack(\u001B[38;5;124m\"\u001B[39m\u001B[38;5;124m>H\u001B[39m\u001B[38;5;124m\"\u001B[39m, computeCRC(packet))\n\u001B[1;32m    248\u001B[0m \u001B[38;5;66;03m# Ensure that transaction is actually the slave id for serial comms\u001B[39;00m\n",
      "\u001B[0;31merror\u001B[0m: required argument is not an integer"
     ]
    }
   ],
   "source": [
    "print(client.read_holding_registers(address=40501,count=1,slave='0X01'))"
   ],
   "metadata": {
    "collapsed": false,
    "ExecuteTime": {
     "start_time": "2023-04-11T18:44:32.272204Z",
     "end_time": "2023-04-11T18:44:38.297169Z"
    }
   }
  },
  {
   "cell_type": "code",
   "execution_count": 38,
   "outputs": [
    {
     "data": {
      "text/plain": "pymodbus.exceptions.ModbusIOException()"
     },
     "execution_count": 38,
     "metadata": {},
     "output_type": "execute_result"
    }
   ],
   "source": [
    "client = ModbusSerialClient(port='/dev/ttyUSB0' , baudrate=115200, bytesize=8, parity='N', stopbits=1)\n",
    "client.connect()\n",
    "client.read_coils(0x01)"
   ],
   "metadata": {
    "collapsed": false,
    "ExecuteTime": {
     "start_time": "2023-04-11T17:23:56.565150Z",
     "end_time": "2023-04-11T17:24:02.635791Z"
    }
   }
  },
  {
   "cell_type": "code",
   "execution_count": 16,
   "outputs": [
    {
     "ename": "AttributeError",
     "evalue": "'ModbusIOException' object has no attribute 'registers'",
     "output_type": "error",
     "traceback": [
      "\u001B[0;31m---------------------------------------------------------------------------\u001B[0m",
      "\u001B[0;31mAttributeError\u001B[0m                            Traceback (most recent call last)",
      "Cell \u001B[0;32mIn[16], line 14\u001B[0m\n\u001B[1;32m      8\u001B[0m client\u001B[38;5;241m.\u001B[39mconnect()\n\u001B[1;32m     10\u001B[0m rr \u001B[38;5;241m=\u001B[39m client\u001B[38;5;241m.\u001B[39mread_holding_registers(\u001B[38;5;241m40501\u001B[39m,\u001B[38;5;241m2\u001B[39m,unit\u001B[38;5;241m=\u001B[39m\u001B[38;5;241m1\u001B[39m)\n\u001B[1;32m     12\u001B[0m data \u001B[38;5;241m=\u001B[39m {\n\u001B[1;32m     13\u001B[0m     \u001B[38;5;124m\"\u001B[39m\u001B[38;5;124mdatetime\u001B[39m\u001B[38;5;124m\"\u001B[39m: current_time(),\n\u001B[0;32m---> 14\u001B[0m     \u001B[38;5;124m\"\u001B[39m\u001B[38;5;124mdata\u001B[39m\u001B[38;5;124m\"\u001B[39m: \u001B[43mrr\u001B[49m\u001B[38;5;241;43m.\u001B[39;49m\u001B[43mregisters\u001B[49m    \u001B[38;5;66;03m# register will return a list. To query individual register specify the array item e.g. registers[0] to get value from first register\u001B[39;00m\n\u001B[1;32m     15\u001B[0m \n\u001B[1;32m     16\u001B[0m }\n\u001B[1;32m     17\u001B[0m \u001B[38;5;28mprint\u001B[39m(json\u001B[38;5;241m.\u001B[39mdumps(data))\n\u001B[1;32m     18\u001B[0m time\u001B[38;5;241m.\u001B[39msleep(\u001B[38;5;241m5\u001B[39m)\n",
      "\u001B[0;31mAttributeError\u001B[0m: 'ModbusIOException' object has no attribute 'registers'"
     ]
    }
   ],
   "source": [
    "# datetime object containing current date and time\n",
    "def current_time():\n",
    "    now = datetime.now().isoformat()\n",
    "    return now\n",
    "\n",
    "client = ModbusSerialClient(port='/dev/ttyUSB0' , baudrate=115200, bytesize=8, parity='N', stopbits=1)\n",
    "while True:\n",
    "    client.connect()\n",
    "\n",
    "    rr = client.read_holding_registers(40501,2,unit=1)\n",
    "\n",
    "    data = {\n",
    "        \"datetime\": current_time(),\n",
    "        \"data\": rr.registers    # register will return a list. To query individual register specify the array item e.g. registers[0] to get value from first register\n",
    "\n",
    "    }\n",
    "    print(json.dumps(data))\n",
    "    time.sleep(5)"
   ],
   "metadata": {
    "collapsed": false
   }
  },
  {
   "cell_type": "code",
   "execution_count": 6,
   "outputs": [
    {
     "name": "stdout",
     "output_type": "stream",
     "text": [
      "Modbus Error: [Input/Output] Modbus Error: [Invalid Message] No response received, expected at least 4 bytes (0 received)\n"
     ]
    }
   ],
   "source": [
    "\n",
    "client = ModbusSerialClient(port='/dev/ttyUSB1' , baudrate=115200, bytesize=8, parity='N', stopbits=1)\n",
    "\n",
    "client.connect()\n",
    "print(client.read_holding_registers(address = 0x00, count =65,\n",
    "                                 unit=1))\n"
   ],
   "metadata": {
    "collapsed": false,
    "ExecuteTime": {
     "start_time": "2023-04-11T19:29:21.449260Z",
     "end_time": "2023-04-11T19:29:27.473337Z"
    }
   }
  }
 ],
 "metadata": {
  "kernelspec": {
   "display_name": "Python 3",
   "language": "python",
   "name": "python3"
  },
  "language_info": {
   "codemirror_mode": {
    "name": "ipython",
    "version": 2
   },
   "file_extension": ".py",
   "mimetype": "text/x-python",
   "name": "python",
   "nbconvert_exporter": "python",
   "pygments_lexer": "ipython2",
   "version": "2.7.6"
  }
 },
 "nbformat": 4,
 "nbformat_minor": 0
}
