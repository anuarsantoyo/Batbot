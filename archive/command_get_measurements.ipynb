{
 "cells": [
  {
   "cell_type": "code",
   "execution_count": null,
   "outputs": [],
   "source": [
    "import serial\n",
    "import numpy as np"
   ],
   "metadata": {
    "collapsed": false
   }
  },
  {
   "cell_type": "code",
   "execution_count": null,
   "metadata": {
    "collapsed": true
   },
   "outputs": [],
   "source": [
    "arduino_port = \"/dev/ttyACM0\"  # serial port of Arduino\n",
    "baud = 9600  # arduino uno runs at 9600 baud\n",
    "ser = serial.Serial(arduino_port, baud)\n",
    "print(\"Connected to Arduino port:\" + arduino_port)\n",
    "ser.write('t'.encode())  # Send command to arduino to start measuring\n",
    "print(\"Measuring...\")\n",
    "getData = ser.readline()  # Read serial data returned by arduino\n",
    "print('Done!')\n",
    "dataString = getData.decode('utf-8')  # Decode data\n",
    "array = np.fromstring(dataString[:-3], dtype=int, sep=',').reshape((-1, 3))  # Convert data into array\n",
    "np.unique(array, axis=0)  # Remove duplicates, arduino sometimes gets several data in the same millisecond"
   ]
  }
 ],
 "metadata": {
  "kernelspec": {
   "display_name": "Python 3",
   "language": "python",
   "name": "python3"
  },
  "language_info": {
   "codemirror_mode": {
    "name": "ipython",
    "version": 2
   },
   "file_extension": ".py",
   "mimetype": "text/x-python",
   "name": "python",
   "nbconvert_exporter": "python",
   "pygments_lexer": "ipython2",
   "version": "2.7.6"
  }
 },
 "nbformat": 4,
 "nbformat_minor": 0
}
