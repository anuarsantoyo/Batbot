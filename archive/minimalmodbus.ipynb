{
 "cells": [
  {
   "cell_type": "code",
   "execution_count": 25,
   "source": [
    "from utils import *\n",
    "def read_measurements_df_6axis(port='/dev/ttyUSB0', duration=10, calibration=False):\n",
    "    '''\n",
    "\n",
    "    :param port:\n",
    "    :param duration:\n",
    "    :param calibration:\n",
    "    :return:\n",
    "    '''\n",
    "    # Setting up the Modbus RTU connection\n",
    "    instrument = minimalmodbus.Instrument(port, 1)\n",
    "    instrument.serial.baudrate = 115200\n",
    "    instrument.serial.parity = minimalmodbus.serial.PARITY_NONE\n",
    "    instrument.mode = minimalmodbus.MODE_RTU\n",
    "\n",
    "    # Store measurements for each of the 6 sensors\n",
    "    measurements = [[] for _ in range(6)]\n",
    "    time_points = []\n",
    "\n",
    "    end_time = time.time() + duration  # Measure for 5 seconds\n",
    "\n",
    "    while time.time() < end_time:\n",
    "        # Reading 12 registers starting from 2560 (0x0A00 in hex), which equals 24 bytes\n",
    "        response = instrument.read_registers(2560, 12, functioncode=3)\n",
    "\n",
    "        # Extracting the 6 quantities from the response and convert using two's complement\n",
    "        quantities = [twos_complement((response[i] << 16) | response[i + 1], 32) for i in range(0, len(response), 2)]\n",
    "\n",
    "        # Append measurements for each sensor\n",
    "        for q_values, q in zip(measurements, quantities):\n",
    "            q_values.append(q)\n",
    "\n",
    "        time_points.append(time.time() - (end_time - duration))  # Record the measurement time\n",
    "\n",
    "        time.sleep(0.003)  # Interval of 0.1 seconds\n",
    "\n",
    "    # Convert data to a DataFrame for easy plotting with Plotly Express\n",
    "    labels = ['Fx', 'Fy', 'Fz', 'Mx', 'My', 'Mz']\n",
    "    df = pd.DataFrame({'Time': time_points})\n",
    "    for label, data in zip(labels, measurements):\n",
    "        df[label] = data\n",
    "    df['Mx'] = -df['Mx']\n",
    "    df['Mz'] = -df['Mz']\n",
    "    if calibration:\n",
    "        return df-calib\n",
    "    else:\n",
    "        return df\n"
   ],
   "metadata": {
    "collapsed": false,
    "ExecuteTime": {
     "end_time": "2023-11-09T07:28:57.553456220Z",
     "start_time": "2023-11-09T07:28:57.512409241Z"
    }
   },
   "outputs": []
  },
  {
   "cell_type": "code",
   "execution_count": 32,
   "source": [
    "port = \"/dev/ttyUSB0\"\n",
    "df1 = read_measurements_df_6axis(port=port, duration=5)"
   ],
   "metadata": {
    "collapsed": false,
    "ExecuteTime": {
     "end_time": "2023-11-09T07:29:56.245886733Z",
     "start_time": "2023-11-09T07:29:51.190292549Z"
    }
   },
   "outputs": []
  },
  {
   "cell_type": "code",
   "execution_count": 33,
   "source": [
    "df1"
   ],
   "metadata": {
    "collapsed": false,
    "ExecuteTime": {
     "end_time": "2023-11-09T07:29:57.919313202Z",
     "start_time": "2023-11-09T07:29:57.917036840Z"
    }
   },
   "outputs": []
  },
  {
   "cell_type": "code",
   "execution_count": 34,
   "source": [
    "df1.plot(x='Time')"
   ],
   "metadata": {
    "collapsed": false,
    "ExecuteTime": {
     "end_time": "2023-11-09T07:29:59.473883946Z",
     "start_time": "2023-11-09T07:29:59.346290292Z"
    }
   },
   "outputs": []
  },
  {
   "cell_type": "code",
   "execution_count": null,
   "source": [],
   "metadata": {
    "collapsed": false
   },
   "outputs": []
  }
 ],
 "metadata": {
  "kernelspec": {
   "display_name": "Python 3",
   "language": "python",
   "name": "python3"
  },
  "language_info": {
   "codemirror_mode": {
    "name": "ipython",
    "version": 2
   },
   "file_extension": ".py",
   "mimetype": "text/x-python",
   "name": "python",
   "nbconvert_exporter": "python",
   "pygments_lexer": "ipython2",
   "version": "2.7.6"
  }
 },
 "nbformat": 4,
 "nbformat_minor": 0
}
