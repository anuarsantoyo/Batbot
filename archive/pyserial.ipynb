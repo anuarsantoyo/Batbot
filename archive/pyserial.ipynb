{
 "cells": [
  {
   "cell_type": "code",
   "execution_count": 2,
   "metadata": {
    "collapsed": true,
    "ExecuteTime": {
     "end_time": "2023-10-18T07:31:07.085520989Z",
     "start_time": "2023-10-18T07:31:06.713125204Z"
    }
   },
   "source": [
    "import time\n",
    "import serial\n",
    "import matplotlib.pyplot as plt"
   ],
   "outputs": []
  },
  {
   "cell_type": "code",
   "execution_count": 3,
   "source": [
    "!python -m serial.tools.list_ports"
   ],
   "metadata": {
    "collapsed": false,
    "ExecuteTime": {
     "end_time": "2023-10-18T07:31:07.394201391Z",
     "start_time": "2023-10-18T07:31:07.246980412Z"
    }
   },
   "outputs": []
  },
  {
   "cell_type": "code",
   "execution_count": 8,
   "source": [
    "import minimalmodbus\n",
    "\n",
    "# Setting up the Modbus RTU connection\n",
    "instrument = minimalmodbus.Instrument('/dev/ttyUSB0', 1)\n",
    "instrument.serial.baudrate = 115200\n",
    "instrument.serial.parity = minimalmodbus.serial.PARITY_NONE\n",
    "instrument.mode = minimalmodbus.MODE_RTU\n",
    "\n",
    "# Reading 12 registers starting from 2560 (0x0A00 in hex), which equals 24 bytes\n",
    "response = instrument.read_registers(2560, 12, functioncode=3)\n",
    "\n",
    "# Extracting the 6 quantities from the response. Each quantity is made up of 2 registers (4 bytes).\n",
    "quantities = [(response[i] << 16) | response[i+1] for i in range(0, len(response), 2)]\n",
    "\n",
    "print(quantities)\n"
   ],
   "metadata": {
    "collapsed": false,
    "ExecuteTime": {
     "end_time": "2023-10-18T07:31:16.570889326Z",
     "start_time": "2023-10-18T07:31:16.552855301Z"
    }
   },
   "outputs": []
  },
  {
   "cell_type": "code",
   "execution_count": 33,
   "source": [
    "import serial\n",
    "port = \"/dev/ttyUSB0\"\n",
    "# Initialize serial connection\n",
    "ser = serial.Serial(port=port, baudrate=115200, bytesize=8, parity='N', stopbits=1, timeout=3)\n",
    "\n",
    "# Modbus-RTU command\n",
    "command =b'\\x01\\x03\\t\\xff\\x00\\x0cvc'# bytes.fromhex(\"01 03 ff 00 0c vc\")\n",
    "\n",
    "ser.write(command)\n",
    "response = ser.read(ser.inWaiting())\n",
    "\n",
    "# Close the serial connection\n",
    "ser.close()\n",
    "\n",
    "# Print or process the response if needed\n",
    "print(response)"
   ],
   "metadata": {
    "collapsed": false,
    "ExecuteTime": {
     "end_time": "2023-10-18T03:05:08.988044661Z",
     "start_time": "2023-10-18T03:05:08.906768335Z"
    }
   },
   "outputs": []
  },
  {
   "cell_type": "code",
   "execution_count": 132,
   "source": [
    "import minimalmodbus\n",
    "\n",
    "def twos_complement(value, bits):\n",
    "    \"\"\"Compute the 2's complement of int value.\"\"\"\n",
    "    if value & (1 << (bits - 1)):\n",
    "        value -= 1 << bits\n",
    "    return value\n",
    "\n",
    "# Setting up the Modbus RTU connection\n",
    "instrument = minimalmodbus.Instrument('/dev/ttyUSB0', 1)\n",
    "instrument.serial.baudrate = 115200\n",
    "instrument.serial.parity = minimalmodbus.serial.PARITY_NONE\n",
    "instrument.mode = minimalmodbus.MODE_RTU\n",
    "\n",
    "# Reading 12 registers starting from 2560 (0x0A00 in hex), which equals 24 bytes\n",
    "response = instrument.read_registers(2560, 12, functioncode=3)\n",
    "\n",
    "# Extracting the 6 quantities from the response. Each quantity is made up of 2 registers (4 bytes).\n",
    "quantities_raw = [(response[i] << 16) | response[i+1] for i in range(0, len(response), 2)]\n",
    "\n",
    "# Convert quantities using two's complement if they are negative\n",
    "quantities = [twos_complement(q, 32) for q in quantities_raw]\n",
    "\n",
    "print(quantities)\n"
   ],
   "metadata": {
    "collapsed": false,
    "ExecuteTime": {
     "end_time": "2023-10-18T08:06:22.667769496Z",
     "start_time": "2023-10-18T08:06:22.649378334Z"
    }
   },
   "outputs": []
  },
  {
   "cell_type": "code",
   "execution_count": 146,
   "source": [
    "import minimalmodbus\n",
    "import time\n",
    "import plotly.express as px\n",
    "import pandas as pd\n",
    "\n",
    "def twos_complement(value, bits):\n",
    "    \"\"\"Compute the 2's complement of int value.\"\"\"\n",
    "    if value & (1 << (bits - 1)):\n",
    "        value -= 1 << bits\n",
    "    return value\n",
    "\n",
    "# Setting up the Modbus RTU connection\n",
    "instrument = minimalmodbus.Instrument('/dev/ttyUSB0', 1)\n",
    "instrument.serial.baudrate = 115200\n",
    "instrument.serial.parity = minimalmodbus.serial.PARITY_NONE\n",
    "instrument.mode = minimalmodbus.MODE_RTU\n",
    "\n",
    "# Store measurements for each of the 6 sensors\n",
    "measurements = [[] for _ in range(6)]\n",
    "time_points = []\n",
    "\n",
    "end_time = time.time() + 5  # Measure for 5 seconds\n",
    "\n",
    "while time.time() < end_time:\n",
    "    # Reading 12 registers starting from 2560 (0x0A00 in hex), which equals 24 bytes\n",
    "    response = instrument.read_registers(2560, 12, functioncode=3)\n",
    "    \n",
    "    # Extracting the 6 quantities from the response and convert using two's complement\n",
    "    quantities = [twos_complement((response[i] << 16) | response[i+1], 32) for i in range(0, len(response), 2)]\n",
    "    \n",
    "    # Append measurements for each sensor\n",
    "    for q_values, q in zip(measurements, quantities):\n",
    "        q_values.append(q)\n",
    "    \n",
    "    time_points.append(time.time() - (end_time - 5))  # Record the measurement time\n",
    "    \n",
    "    time.sleep(0.01)  # Interval of 0.1 seconds\n",
    "\n",
    "# Convert data to a DataFrame for easy plotting with Plotly Express\n",
    "labels = ['Fx', 'Fy', 'Fz', 'Mx', 'My', 'Mz']\n",
    "df = pd.DataFrame({'Time': time_points})\n",
    "for label, data in zip(labels, measurements):\n",
    "    df[label] = data"
   ],
   "metadata": {
    "collapsed": false,
    "ExecuteTime": {
     "end_time": "2023-10-18T08:08:10.225991572Z",
     "start_time": "2023-10-18T08:08:05.215475989Z"
    }
   },
   "outputs": []
  },
  {
   "cell_type": "code",
   "execution_count": 148,
   "source": [
    "\n",
    "# Plot using Plotly Express\n",
    "fig = px.line(df, x='Time', y=labels, title=\"Sensor Measurements over Time\")\n",
    "fig.show()"
   ],
   "metadata": {
    "collapsed": false,
    "ExecuteTime": {
     "end_time": "2023-10-18T08:08:21.108653603Z",
     "start_time": "2023-10-18T08:08:21.067499392Z"
    }
   },
   "outputs": []
  },
  {
   "cell_type": "code",
   "execution_count": 602,
   "source": [
    "import minimalmodbus\n",
    "import time\n",
    "import matplotlib.pyplot as plt\n",
    "\n",
    "def twos_complement(value, bits):\n",
    "    \"\"\"Compute the 2's complement of int value.\"\"\"\n",
    "    if value & (1 << (bits - 1)):\n",
    "        value -= 1 << bits\n",
    "    return value\n",
    "\n",
    "# Setting up the Modbus RTU connection\n",
    "instrument = minimalmodbus.Instrument('/dev/ttyUSB1', 1)\n",
    "instrument.serial.baudrate = 115200\n",
    "instrument.serial.parity = minimalmodbus.serial.PARITY_NONE\n",
    "instrument.mode = minimalmodbus.MODE_RTU\n",
    "\n",
    "# Store measurements for each of the 6 sensors\n",
    "measurements = [[] for _ in range(6)]\n",
    "\n",
    "end_time = time.time() + 30  # Measure for 5 seconds\n",
    "\n",
    "while time.time() < end_time:\n",
    "    # Reading 12 registers starting from 2560 (0x0A00 in hex), which equals 24 bytes\n",
    "    response = instrument.read_registers(2560, 12, functioncode=3)\n",
    "    \n",
    "    # Extracting the 6 quantities from the response and convert using two's complement\n",
    "    quantities = [twos_complement((response[i] << 16) | response[i+1], 32) for i in range(0, len(response), 2)]\n",
    "    \n",
    "    # Append measurements for each sensor\n",
    "    for i, q in enumerate(quantities):\n",
    "        measurements[i].append(q)\n",
    "    \n",
    "    time.sleep(0.1)  # Interval of 0.1 seconds\n",
    "\n",
    "# Plotting the results\n",
    "time_points = [0.1 * i for i in range(len(measurements[0]))]\n",
    "labels = ['Fx', 'Fy', 'Fz', 'Mx', 'My', 'Mz']\n",
    "\n",
    "for i, data in enumerate(measurements):\n",
    "    plt.plot(time_points, data, label=labels[i])\n",
    "\n",
    "plt.title(\"Sensor Measurements over Time\")\n",
    "plt.xlabel(\"Time (seconds)\")\n",
    "plt.ylabel(\"Measurement Value\")\n",
    "plt.legend()\n",
    "plt.grid(True)\n",
    "plt.show()\n"
   ],
   "metadata": {
    "collapsed": false,
    "ExecuteTime": {
     "end_time": "2023-10-18T03:35:26.403858666Z",
     "start_time": "2023-10-18T03:34:56.159474980Z"
    }
   },
   "outputs": []
  },
  {
   "cell_type": "code",
   "execution_count": 219,
   "source": [
    "import serial\n",
    "import time\n",
    "\n",
    "def calculate_crc(data):\n",
    "    crc = 0xFFFF\n",
    "    for byte in data:\n",
    "        crc ^= byte\n",
    "        for _ in range(8):\n",
    "            if crc & 0x0001:\n",
    "                crc >>= 1\n",
    "                crc ^= 0xA001\n",
    "            else:\n",
    "                crc >>= 1\n",
    "    return crc.to_bytes(2, byteorder=\"little\")\n",
    "\n",
    "port = \"/dev/ttyUSB1\"\n",
    "\n",
    "# Initialize serial connection\n",
    "ser = serial.Serial(port=port, baudrate=115200, bytesize=8, parity='N', stopbits=1, timeout=3)\n",
    "\n",
    "# Modbus-RTU command without CRC\n",
    "command_without_crc = b'\\x01\\x03\\t\\xff\\x00\\x0c'\n",
    "crc = calculate_crc(command_without_crc)\n",
    "\n",
    "command = command_without_crc + crc\n",
    "\n",
    "ser.write(command)\n",
    "\n",
    "# Small delay to allow the device to respond. You can adjust this value if needed.\n",
    "time.sleep(0.1)\n",
    "\n",
    "# Get the response (you might need to adjust the length according to the expected response size)\n",
    "response = ser.read(ser.inWaiting())\n",
    "\n",
    "# Close the serial connection\n",
    "ser.close()\n",
    "\n",
    "# Print or process the response if needed\n",
    "print(response)\n"
   ],
   "metadata": {
    "collapsed": false,
    "ExecuteTime": {
     "end_time": "2023-10-18T03:19:37.620828787Z",
     "start_time": "2023-10-18T03:19:37.514250294Z"
    }
   },
   "outputs": []
  },
  {
   "cell_type": "code",
   "execution_count": 13,
   "source": [
    "df = read_measurements_df(duration=60)\n",
    "df.plot(x='time_stamp')\n",
    "plt.show()"
   ],
   "metadata": {
    "collapsed": false,
    "ExecuteTime": {
     "start_time": "2023-04-13T17:18:43.359366Z",
     "end_time": "2023-04-13T17:19:45.577519Z"
    }
   },
   "outputs": []
  }
 ],
 "metadata": {
  "kernelspec": {
   "display_name": "Python 3",
   "language": "python",
   "name": "python3"
  },
  "language_info": {
   "codemirror_mode": {
    "name": "ipython",
    "version": 2
   },
   "file_extension": ".py",
   "mimetype": "text/x-python",
   "name": "python",
   "nbconvert_exporter": "python",
   "pygments_lexer": "ipython2",
   "version": "2.7.6"
  }
 },
 "nbformat": 4,
 "nbformat_minor": 0
}
