{
 "cells": [
  {
   "cell_type": "code",
   "metadata": {
    "collapsed": true,
    "ExecuteTime": {
     "end_time": "2024-05-10T03:43:43.911603Z",
     "start_time": "2024-05-10T03:43:43.908984Z"
    }
   },
   "source": [
    "import numpy as np\n",
    "import os\n",
    "import pandas as pd\n",
    "import plotly.express as px\n",
    "import glob"
   ],
   "execution_count": 2,
   "outputs": []
  },
  {
   "cell_type": "code",
   "source": [
    "files = glob.glob('data/exp_1_csv/*.csv')"
   ],
   "metadata": {
    "collapsed": false,
    "ExecuteTime": {
     "end_time": "2024-05-10T03:43:45.576039Z",
     "start_time": "2024-05-10T03:43:45.573445Z"
    }
   },
   "execution_count": 3,
   "outputs": []
  },
  {
   "cell_type": "code",
   "source": [
    "for fp in files:\n",
    "    df = pd.read_csv(fp, encoding=\"gb2312\", delimiter=\"\\t\", names=[f'sensor_{i}' for i in range(1,7)]+['timestamp']).drop(0).drop('timestamp', axis=1).astype(float)\n",
    "    fig = px.line(df, x=df.index, y=[f\"sensor_{i}\" for i in range(1,7)], title='Drift and hysteresis analysis (unmounted)')\n",
    "    fig.update_layout(\n",
    "    yaxis_title='Milivolts'\n",
    ")\n",
    "    fig.write_html(fp[:-4]+'.html', auto_open=True)"
   ],
   "metadata": {
    "collapsed": false,
    "ExecuteTime": {
     "end_time": "2024-05-10T05:30:39.417341Z",
     "start_time": "2024-05-10T05:30:37.761222Z"
    }
   },
   "execution_count": 5,
   "outputs": []
  }
 ],
 "metadata": {
  "kernelspec": {
   "display_name": "Python 3",
   "language": "python",
   "name": "python3"
  },
  "language_info": {
   "codemirror_mode": {
    "name": "ipython",
    "version": 2
   },
   "file_extension": ".py",
   "mimetype": "text/x-python",
   "name": "python",
   "nbconvert_exporter": "python",
   "pygments_lexer": "ipython2",
   "version": "2.7.6"
  }
 },
 "nbformat": 4,
 "nbformat_minor": 0
}
