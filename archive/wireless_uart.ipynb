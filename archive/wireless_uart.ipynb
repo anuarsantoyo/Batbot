{
 "cells": [
  {
   "cell_type": "code",
   "execution_count": 2,
   "id": "initial_id",
   "metadata": {
    "collapsed": true,
    "ExecuteTime": {
     "end_time": "2023-08-17T08:21:51.832415650Z",
     "start_time": "2023-08-17T08:21:51.830275481Z"
    }
   },
   "outputs": [],
   "source": [
    "import serial"
   ]
  },
  {
   "cell_type": "code",
   "execution_count": 5,
   "outputs": [
    {
     "name": "stdout",
     "output_type": "stream",
     "text": [
      "/dev/ttyACM0        \r\n",
      "/dev/ttyACM1        \r\n",
      "/dev/ttyUSB0        \r\n",
      "3 ports found\r\n"
     ]
    }
   ],
   "source": [
    "!python -m serial.tools.list_ports"
   ],
   "metadata": {
    "collapsed": false,
    "ExecuteTime": {
     "end_time": "2023-08-17T08:22:16.735643214Z",
     "start_time": "2023-08-17T08:22:16.593546412Z"
    }
   },
   "id": "255e3b4f72f781de"
  },
  {
   "cell_type": "code",
   "execution_count": 126,
   "outputs": [
    {
     "data": {
      "text/plain": "b'20,11'"
     },
     "execution_count": 126,
     "metadata": {},
     "output_type": "execute_result"
    }
   ],
   "source": [
    "my_str = \"hello world\"\n",
    "str.encode(f'{20},{11},{2},{1}')\n"
   ],
   "metadata": {
    "collapsed": false,
    "ExecuteTime": {
     "end_time": "2023-08-17T07:09:44.138868431Z",
     "start_time": "2023-08-17T07:09:44.097608788Z"
    }
   },
   "id": "fa36c9065ba07b6"
  },
  {
   "cell_type": "code",
   "execution_count": 6,
   "outputs": [],
   "source": [
    "ser = serial.Serial(port='/dev/ttyACM0', baudrate=115200, bytesize=8, parity='N', stopbits=1)"
   ],
   "metadata": {
    "collapsed": false,
    "ExecuteTime": {
     "end_time": "2023-08-17T08:22:25.378209342Z",
     "start_time": "2023-08-17T08:22:25.373600734Z"
    }
   },
   "id": "d9bbb429bf5d87a6"
  },
  {
   "cell_type": "code",
   "execution_count": 55,
   "outputs": [
    {
     "data": {
      "text/plain": "9"
     },
     "execution_count": 55,
     "metadata": {},
     "output_type": "execute_result"
    }
   ],
   "source": [
    "ser.write(str.encode(f'{20},{11},{2},{1}'))\n",
    "# Test#motor = 270#attack_angle = 110#leg_angle = 150#leg_amplitude = 30"
   ],
   "metadata": {
    "collapsed": false,
    "ExecuteTime": {
     "start_time": "2023-08-17T08:23:04.182350581Z"
    }
   },
   "id": "ed100244c5be2221"
  }
 ],
 "metadata": {
  "kernelspec": {
   "display_name": "Python 3",
   "language": "python",
   "name": "python3"
  },
  "language_info": {
   "codemirror_mode": {
    "name": "ipython",
    "version": 2
   },
   "file_extension": ".py",
   "mimetype": "text/x-python",
   "name": "python",
   "nbconvert_exporter": "python",
   "pygments_lexer": "ipython2",
   "version": "2.7.6"
  }
 },
 "nbformat": 4,
 "nbformat_minor": 5
}
